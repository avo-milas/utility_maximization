{
  "cells": [
    {
      "cell_type": "markdown",
      "metadata": {
        "id": "IXRM0vewSKxV"
      },
      "source": [
        "# Описание"
      ]
    },
    {
      "cell_type": "markdown",
      "metadata": {
        "id": "rFjWd_UZSKxY"
      },
      "source": [
        "Данная тетрадка содержит в себе первое задание по компьютерному практикуму по экономике. Вам предстоит освоить ряд важных библиотек для Python, изучить основы Latex, а также создать экономические модели.\n",
        "\n",
        "Все задания связаны с моделями бюджетных ограничений и предпочтений. \n",
        "* В первой модели существуют только два товара определенной цены. \n",
        "* Во второй модели определены 3 параметра: название, цена и количество товара, которое потребитель может получить бесплатно. За товар сверх этого количества необходимо заплатить указанную цену.\n",
        "* В третьей модели для каждого товара есть порог количества. Товар в количестве ниже данного порога стоит одну цену, а каждая единица товара выше этого порога стоит другую цену.\n",
        "\n",
        "Ожидается, что Вы разберетесь в представленных примерах и по их образцу сделаете более сложные задания. Также стремитесь к тому, чтобы Ваш код и Ваши пояснения были понятными. При необходимости комментируйте код и оставляйте заметки в текстовых полях."
      ]
    },
    {
      "cell_type": "markdown",
      "metadata": {
        "id": "rGj0L8ngSKxZ"
      },
      "source": [
        "## Баллы"
      ]
    },
    {
      "cell_type": "markdown",
      "metadata": {
        "id": "pAXOQEodSKxZ"
      },
      "source": [
        "За каждое задание начисляется определенное количество баллов. Если задание решено не полностью, то за него может быть начислена только часть баллов.\n",
        "\n",
        "|№ Задания|Балл|\n",
        "|---|---|\n",
        "|[Задание 1](#task_1)|0.5|\n",
        "|[Задание 2](#task_2)|0.5|\n",
        "|[Задание 3](#task_3)|0.5|\n",
        "|[Задание 4](#task_4)|0.5|\n",
        "|[Задание 5](#task_5)|1|\n",
        "|[Задание 6](#task_6)|0.5|\n",
        "|[Задание 7](#task_7)|1|\n",
        "|[Задание 8](#task_8)|1|\n",
        "|[Задание 9](#task_9)|0.5|\n",
        "|[Задание 10](#task_10)|0.5|\n",
        "|[Задание 11](#task_11)|1|\n",
        "|[Задание 12](#task_12)|1|\n",
        "|[Задание 13](#task_13)|1.5|\n",
        "|Всего|10|"
      ]
    },
    {
      "cell_type": "markdown",
      "metadata": {
        "id": "jMRyabW4SKxZ"
      },
      "source": [
        "## Импорт библиотек"
      ]
    },
    {
      "cell_type": "code",
      "execution_count": 2,
      "metadata": {
        "id": "Ngp3Pw8bSKxa"
      },
      "outputs": [],
      "source": [
        "#Импортируем необходимые библиотеки\n",
        "\n",
        "import math\n",
        "import numpy as np # Линейная алгебра и многомерные массивы\n",
        "import pandas as pd # Работа с таблицами данных\n",
        "import matplotlib.pyplot as plt # Графическая библиотека\n",
        "from ipywidgets import widgets, interact # Интерактивные виджеты\n",
        "\n",
        "# Техническая функция. Иногда потребуется сравнивать два float числа на равенство\n",
        "def is_equal(x, y):\n",
        "    return abs(x-y) < 1e-6"
      ]
    },
    {
      "cell_type": "markdown",
      "metadata": {
        "id": "_6NLfjsfSKxb"
      },
      "source": [
        "# Модель 1"
      ]
    },
    {
      "cell_type": "markdown",
      "metadata": {
        "id": "aVvArpoBSKxc"
      },
      "source": [
        "## Описание класса"
      ]
    },
    {
      "cell_type": "markdown",
      "metadata": {
        "id": "egzLtU8ySKxc"
      },
      "source": [
        "В данной модели у каждого товара есть только два параметра: название и цена за единицу."
      ]
    },
    {
      "cell_type": "code",
      "execution_count": 3,
      "metadata": {
        "id": "2pzSr0e3SKxd"
      },
      "outputs": [],
      "source": [
        "# Создадим класс для товаров модели\n",
        "class Good():\n",
        "    def __init__(self, name, price):\n",
        "        self.name = name\n",
        "        self.price = price"
      ]
    },
    {
      "cell_type": "markdown",
      "metadata": {
        "id": "dBmu9XfxSKxd"
      },
      "source": [
        "## Проверка бюджетного ограничения"
      ]
    },
    {
      "cell_type": "markdown",
      "metadata": {
        "id": "JKeldj8LSKxe"
      },
      "source": [
        "Напишем функцию, которая проверит, удовлетворяет ли конкретная точка бюджетным ограничениям."
      ]
    },
    {
      "cell_type": "code",
      "execution_count": 4,
      "metadata": {
        "colab": {
          "base_uri": "https://localhost:8080/"
        },
        "id": "jDL9I_32SKxe",
        "outputId": "45bd5f8f-1c8f-4e55-c55c-8814a609be8c"
      },
      "outputs": [
        {
          "name": "stdout",
          "output_type": "stream",
          "text": [
            "1\n",
            "0\n",
            "-1\n"
          ]
        }
      ],
      "source": [
        "def budget_test(g1: Good, g2: Good, budget, x1=0, x2=0):\n",
        "    '''\n",
        "    Проверка расположения точки (x1, x2) относительно бюджетного множества:\n",
        "        Если внутри бюджетного множества, то возвращается значение 1,\n",
        "        Если на границе бюджетного множества, то возвращается значение 0,\n",
        "        Если вне бюджетного множества, то возвращается значение -1.\n",
        "    '''\n",
        "    result = x1*g1.price + x2*g2.price\n",
        "    if (is_equal(result, budget)): # Поскольку значения типа float, необходимо сравнивать на равенство с погрешностью\n",
        "        return 0\n",
        "    elif (result < budget):\n",
        "        return 1\n",
        "    else:\n",
        "        return -1\n",
        "\n",
        "g1 = Good(\"Яблоки\", 5)\n",
        "g2 = Good(\"Груши\", 5)\n",
        "budget = 100    \n",
        "print(budget_test(g1, g2, budget, 1, 1))\n",
        "print(budget_test(g1, g2, budget, 10, 10))\n",
        "print(budget_test(g1, g2, budget, 100, 100))"
      ]
    },
    {
      "cell_type": "markdown",
      "metadata": {
        "id": "WYTyyXlnSKxf"
      },
      "source": [
        "## Графическое представление"
      ]
    },
    {
      "cell_type": "markdown",
      "metadata": {
        "id": "BedJs1geSKxf"
      },
      "source": [
        "Напишем функцию, которая будет визуализировать бюджетное множество и проверяемую точку."
      ]
    },
    {
      "cell_type": "code",
      "execution_count": 5,
      "metadata": {
        "colab": {
          "base_uri": "https://localhost:8080/",
          "height": 481
        },
        "id": "yk7L7w0_SKxg",
        "outputId": "d8d28e5e-e3d8-45c8-b5cf-f19e1f5c3d74"
      },
      "outputs": [
        {
          "data": {
            "image/png": "[encoded data removed]",
            "text/plain": [
              "<Figure size 640x480 with 1 Axes>"
            ]
          },
          "metadata": {},
          "output_type": "display_data"
        }
      ],
      "source": [
        "\n",
        "def plot_budget(g1, g2, budget, x1=0, x2=0):\n",
        "    '''\n",
        "    Построение графика бюджетного множества и расположения проверяемой точки\n",
        "    '''\n",
        "    \n",
        "    # График будет построен по двум точкам (0, budget/g2.price) и (budget/g1.price, 0)\n",
        "    x_points = [0, budget/g1.price] \n",
        "    y_points = [budget/g2.price, 0]\n",
        "    \n",
        "\n",
        "    fig, ax = plt.subplots() # Создаем фигуру\n",
        "    fig.suptitle(\"Бюджетное множество\")\n",
        "    \n",
        "    ax.plot(x_points, y_points, label=\"Бюджетная линия\") # Строим прямую по двум точкам\n",
        "    ax.fill_between(x_points, y_points, np.zeros_like(x_points), alpha=0.5) # Заливаем область под графиком с прозрачностью (alpha) 0.5\n",
        "    \n",
        "    point_status = budget_test(g1, g2, budget, x1, x2) # Находим статус проверяемой точки\n",
        "    \n",
        "    # В зависимости от статуса определяем цвет точки и надпись\n",
        "    if point_status == 1:\n",
        "        point_color = \"green\"\n",
        "        point_label = \"Допустимо\"\n",
        "    elif point_status == 0:\n",
        "        point_color = \"yellow\"\n",
        "        point_label = \"На границе\"\n",
        "    else: \n",
        "        point_color = \"red\"\n",
        "        point_label = \"Недопустимо\"\n",
        "    \n",
        "    ax.scatter(x1, x2, color=point_color, label=point_label) # Рисуем точку\n",
        "    ax.plot([x1, x1], [0, x2], 'k:') # Добавляем вертикальную черную (k) пунктирную (:) линию к точке (x,y)\n",
        "    ax.plot([0, x1], [x2, x2], 'k:') # Добавляем горизонтальную черную (k) пунктирную (:) линию к точке (x,y)\n",
        "    \n",
        "    # Добавляем название осей\n",
        "    ax.set_xlabel(g1.name)\n",
        "    ax.set_ylabel(g2.name)\n",
        "\n",
        "    # Сдвигаем и скрываем оси так, чтобы получились декартовы координаты\n",
        "    ax.spines['left'].set_position('zero')\n",
        "    ax.spines['right'].set_visible(False)\n",
        "    ax.spines['bottom'].set_position('zero')\n",
        "    ax.spines['top'].set_visible(False)\n",
        "    \n",
        "    ax.axis('equal') # Принудительно делаем оси равными\n",
        "    ax.legend() # Отображаем легенду (информацию о данных)\n",
        "    plt.show() # Отображаем рисунок\n",
        "\n",
        "\n",
        "g1 = Good(\"Яблоки\", 5)\n",
        "g2 = Good(\"Груши\", 5)\n",
        "budget = 100   \n",
        "plot_budget(g1, g2, budget, 4, 5);"
      ]
    },
    {
      "cell_type": "markdown",
      "metadata": {
        "id": "JCsA2HnRSKxg"
      },
      "source": [
        "## Интерактивное представление"
      ]
    },
    {
      "cell_type": "code",
      "execution_count": 6,
      "metadata": {
        "colab": {
          "base_uri": "https://localhost:8080/",
          "height": 641,
          "referenced_widgets": [
            "3aecbcc0a5ca4d06b0594053f9a2bd1c",
            "1198e8b5603247e79f29674fb730a787",
            "97f50efd96b9465b9ba51a74b61c57f4",
            "66e8e92c6fed4ae68d4bc1a8b2a1bdd9",
            "1558332d68874d689bc3daf4a5fd3357",
            "45ff592747544f09ab883fd848fa5bf9",
            "62869369bdde4584aedb60c78646785b",
            "dc144bd8884744139db3ce05b7173d34",
            "83ea1d5a23ef43d2aa5b02484c0d79cf",
            "dbabb111657249c18dd10746e5b011c8",
            "ea3eb4759e624f7887fb2ad5164454bf",
            "1300d85d3a984f9ca50f7dded11d8d66",
            "30a45028205a483caf6c4aea75e33d51",
            "565be361eba640378e25355c087aea7a",
            "3904909af9294a10b14f21787ff034ce",
            "ddff144ed85046718ff2daa42e6fa82a",
            "e59cd287bf1a44f99a9b632d309b003d",
            "fbc011f97aae462c88a024d332019c74",
            "6d6e430e765b47d2a671bd8bddfbbb09"
          ]
        },
        "id": "WeDs7VS_SKxg",
        "outputId": "cce2f068-8f83-4530-87c6-b559c94f9706"
      },
      "outputs": [
        {
          "data": {
            "application/vnd.jupyter.widget-view+json": {
              "model_id": "c8a12a8e88dd4b7b87caad149f93e41b",
              "version_major": 2,
              "version_minor": 0
            },
            "text/plain": [
              "interactive(children=(IntSlider(value=5, description='p1', max=10, min=1), IntSlider(value=5, description='p2'…"
            ]
          },
          "metadata": {},
          "output_type": "display_data"
        }
      ],
      "source": [
        "# Интерактивный виджет\n",
        "def interactive_plot(p1, p2, budget, x1, x2):\n",
        "    g1 = Good(\"Яблоки\", p1) # Создаем первый товар с ценой p1\n",
        "    g2 = Good(\"Груши\", p2) # Создаем второй товар с ценой p2\n",
        "    plot_budget(g1, g2, budget, x1, x2);\n",
        "\n",
        "interact(interactive_plot, p1=(1, 10), p2 = (1, 10), budget=(1,100), x1 = (1,10), x2=(1,10));"
      ]
    },
    {
      "cell_type": "markdown",
      "metadata": {
        "id": "DPvS9ltiSKxg"
      },
      "source": [
        "## Работа с таблицами"
      ]
    },
    {
      "cell_type": "markdown",
      "metadata": {
        "id": "P6ltaEb8SKxg"
      },
      "source": [
        "В данном разделе мы будем работать с таблицами. Вначале мы загрузим данные из Excel файла в датафрейм библиотеки pandas. Затем мы обработаем строки этой таблицы, и для каждой строки проверим, выполняется ли бюджетное ограничение, и результаты сохраним в новый датафрейм. Далее мы отфильтруем получившийся датафрейм по условию, что бюджетное ограничение выполняется (в том числе на границе). Результат мы отсортируем по размеру бюджета и сохраним в новый Excel файл.\n",
        "\n",
        "Файл model1_data.xlsx должен находиться в том же каталоге, что и данная тетрадка. Файл можно скачать по [данной ссылке](http://samonenko.ru/upload/model1_data.xlsx)."
      ]
    },
    {
      "cell_type": "code",
      "execution_count": 7,
      "metadata": {
        "colab": {
          "base_uri": "https://localhost:8080/",
          "height": 345
        },
        "id": "8nmDviNISKxh",
        "outputId": "76b4cde0-6d97-4800-b7cd-2ddfc1a4f3b2"
      },
      "outputs": [
        {
          "data": {
            "text/html": [
              "<div>\n",
              "<style scoped>\n",
              "    .dataframe tbody tr th:only-of-type {\n",
              "        vertical-align: middle;\n",
              "    }\n",
              "\n",
              "    .dataframe tbody tr th {\n",
              "        vertical-align: top;\n",
              "    }\n",
              "\n",
              "    .dataframe thead th {\n",
              "        text-align: right;\n",
              "    }\n",
              "</style>\n",
              "<table border=\"1\" class=\"dataframe\">\n",
              "  <thead>\n",
              "    <tr style=\"text-align: right;\">\n",
              "      <th></th>\n",
              "      <th>G1_name</th>\n",
              "      <th>G1_price</th>\n",
              "      <th>G2_name</th>\n",
              "      <th>G2_price</th>\n",
              "      <th>Budget</th>\n",
              "      <th>G1_quant</th>\n",
              "      <th>G2_quant</th>\n",
              "    </tr>\n",
              "  </thead>\n",
              "  <tbody>\n",
              "    <tr>\n",
              "      <th>0</th>\n",
              "      <td>Яблоки</td>\n",
              "      <td>5</td>\n",
              "      <td>Груши</td>\n",
              "      <td>5</td>\n",
              "      <td>50</td>\n",
              "      <td>5</td>\n",
              "      <td>5</td>\n",
              "    </tr>\n",
              "    <tr>\n",
              "      <th>1</th>\n",
              "      <td>Яблоки</td>\n",
              "      <td>5</td>\n",
              "      <td>Груши</td>\n",
              "      <td>5</td>\n",
              "      <td>51</td>\n",
              "      <td>5</td>\n",
              "      <td>5</td>\n",
              "    </tr>\n",
              "    <tr>\n",
              "      <th>2</th>\n",
              "      <td>Апельсины</td>\n",
              "      <td>5</td>\n",
              "      <td>Мандарины</td>\n",
              "      <td>5</td>\n",
              "      <td>49</td>\n",
              "      <td>5</td>\n",
              "      <td>5</td>\n",
              "    </tr>\n",
              "    <tr>\n",
              "      <th>3</th>\n",
              "      <td>Виоград</td>\n",
              "      <td>2</td>\n",
              "      <td>Малина</td>\n",
              "      <td>3</td>\n",
              "      <td>30</td>\n",
              "      <td>23</td>\n",
              "      <td>45</td>\n",
              "    </tr>\n",
              "    <tr>\n",
              "      <th>4</th>\n",
              "      <td>Виоград</td>\n",
              "      <td>2</td>\n",
              "      <td>Малина</td>\n",
              "      <td>3</td>\n",
              "      <td>30</td>\n",
              "      <td>6</td>\n",
              "      <td>8</td>\n",
              "    </tr>\n",
              "    <tr>\n",
              "      <th>5</th>\n",
              "      <td>Виоград</td>\n",
              "      <td>2</td>\n",
              "      <td>Малина</td>\n",
              "      <td>3</td>\n",
              "      <td>45</td>\n",
              "      <td>6</td>\n",
              "      <td>8</td>\n",
              "    </tr>\n",
              "  </tbody>\n",
              "</table>\n",
              "</div>"
            ],
            "text/plain": [
              "     G1_name  G1_price    G2_name  G2_price  Budget  G1_quant  G2_quant\n",
              "0    Яблоки          5      Груши         5      50         5         5\n",
              "1    Яблоки          5      Груши         5      51         5         5\n",
              "2  Апельсины         5  Мандарины         5      49         5         5\n",
              "3   Виоград          2    Малина          3      30        23        45\n",
              "4   Виоград          2    Малина          3      30         6         8\n",
              "5   Виоград          2    Малина          3      45         6         8"
            ]
          },
          "execution_count": 7,
          "metadata": {},
          "output_type": "execute_result"
        }
      ],
      "source": [
        "df = pd.read_excel(\"model1_data.xlsx\") # Загрузим таблицу из Excel файла в датафрейм \n",
        "df # Печатаем датафрейм"
      ]
    },
    {
      "cell_type": "code",
      "execution_count": 8,
      "metadata": {
        "id": "c-7AvxJLSKxh"
      },
      "outputs": [
        {
          "data": {
            "text/html": [
              "<div>\n",
              "<style scoped>\n",
              "    .dataframe tbody tr th:only-of-type {\n",
              "        vertical-align: middle;\n",
              "    }\n",
              "\n",
              "    .dataframe tbody tr th {\n",
              "        vertical-align: top;\n",
              "    }\n",
              "\n",
              "    .dataframe thead th {\n",
              "        text-align: right;\n",
              "    }\n",
              "</style>\n",
              "<table border=\"1\" class=\"dataframe\">\n",
              "  <thead>\n",
              "    <tr style=\"text-align: right;\">\n",
              "      <th></th>\n",
              "      <th>G1_name</th>\n",
              "      <th>G1_price</th>\n",
              "      <th>G2_name</th>\n",
              "      <th>G2_price</th>\n",
              "      <th>Budget</th>\n",
              "      <th>G1_quant</th>\n",
              "      <th>G2_quant</th>\n",
              "      <th>Result</th>\n",
              "    </tr>\n",
              "  </thead>\n",
              "  <tbody>\n",
              "    <tr>\n",
              "      <th>0</th>\n",
              "      <td>Яблоки</td>\n",
              "      <td>5</td>\n",
              "      <td>Груши</td>\n",
              "      <td>5</td>\n",
              "      <td>50</td>\n",
              "      <td>5</td>\n",
              "      <td>5</td>\n",
              "      <td>0</td>\n",
              "    </tr>\n",
              "    <tr>\n",
              "      <th>1</th>\n",
              "      <td>Яблоки</td>\n",
              "      <td>5</td>\n",
              "      <td>Груши</td>\n",
              "      <td>5</td>\n",
              "      <td>51</td>\n",
              "      <td>5</td>\n",
              "      <td>5</td>\n",
              "      <td>1</td>\n",
              "    </tr>\n",
              "    <tr>\n",
              "      <th>2</th>\n",
              "      <td>Апельсины</td>\n",
              "      <td>5</td>\n",
              "      <td>Мандарины</td>\n",
              "      <td>5</td>\n",
              "      <td>49</td>\n",
              "      <td>5</td>\n",
              "      <td>5</td>\n",
              "      <td>-1</td>\n",
              "    </tr>\n",
              "    <tr>\n",
              "      <th>3</th>\n",
              "      <td>Виоград</td>\n",
              "      <td>2</td>\n",
              "      <td>Малина</td>\n",
              "      <td>3</td>\n",
              "      <td>30</td>\n",
              "      <td>23</td>\n",
              "      <td>45</td>\n",
              "      <td>-1</td>\n",
              "    </tr>\n",
              "    <tr>\n",
              "      <th>4</th>\n",
              "      <td>Виоград</td>\n",
              "      <td>2</td>\n",
              "      <td>Малина</td>\n",
              "      <td>3</td>\n",
              "      <td>30</td>\n",
              "      <td>6</td>\n",
              "      <td>8</td>\n",
              "      <td>-1</td>\n",
              "    </tr>\n",
              "    <tr>\n",
              "      <th>5</th>\n",
              "      <td>Виоград</td>\n",
              "      <td>2</td>\n",
              "      <td>Малина</td>\n",
              "      <td>3</td>\n",
              "      <td>45</td>\n",
              "      <td>6</td>\n",
              "      <td>8</td>\n",
              "      <td>1</td>\n",
              "    </tr>\n",
              "  </tbody>\n",
              "</table>\n",
              "</div>"
            ],
            "text/plain": [
              "     G1_name  G1_price    G2_name  G2_price  Budget  G1_quant  G2_quant  \\\n",
              "0    Яблоки          5      Груши         5      50         5         5   \n",
              "1    Яблоки          5      Груши         5      51         5         5   \n",
              "2  Апельсины         5  Мандарины         5      49         5         5   \n",
              "3   Виоград          2    Малина          3      30        23        45   \n",
              "4   Виоград          2    Малина          3      30         6         8   \n",
              "5   Виоград          2    Малина          3      45         6         8   \n",
              "\n",
              "   Result  \n",
              "0       0  \n",
              "1       1  \n",
              "2      -1  \n",
              "3      -1  \n",
              "4      -1  \n",
              "5       1  "
            ]
          },
          "execution_count": 8,
          "metadata": {},
          "output_type": "execute_result"
        }
      ],
      "source": [
        "result = []\n",
        "for index, row in df.iterrows(): # Цикл по всем строкам df\n",
        "    # Строка сохраняется в словаре row, где ключами являются имена столбцов\n",
        "    \n",
        "    # Для каждой строки создаем продукты\n",
        "    g1 = Good(row['G1_name'], row['G1_price']) \n",
        "    g2 = Good(row['G2_name'], row['G2_price'])\n",
        "\n",
        "    result.append(budget_test(g1, g2, row['Budget'], row['G1_quant'], row['G2_quant']))\n",
        "\n",
        "df[\"Result\"] = result # Создаем в df новый столбец Result и сохраняем в него список значений result\n",
        "df"
      ]
    },
    {
      "cell_type": "code",
      "execution_count": 9,
      "metadata": {
        "colab": {
          "base_uri": "https://localhost:8080/",
          "height": 143
        },
        "id": "sC8CQ2U5SKxh",
        "outputId": "15e1234d-e3f5-4cb3-fd69-deee9d6a4536"
      },
      "outputs": [
        {
          "data": {
            "text/html": [
              "<div>\n",
              "<style scoped>\n",
              "    .dataframe tbody tr th:only-of-type {\n",
              "        vertical-align: middle;\n",
              "    }\n",
              "\n",
              "    .dataframe tbody tr th {\n",
              "        vertical-align: top;\n",
              "    }\n",
              "\n",
              "    .dataframe thead th {\n",
              "        text-align: right;\n",
              "    }\n",
              "</style>\n",
              "<table border=\"1\" class=\"dataframe\">\n",
              "  <thead>\n",
              "    <tr style=\"text-align: right;\">\n",
              "      <th></th>\n",
              "      <th>G1_name</th>\n",
              "      <th>G1_price</th>\n",
              "      <th>G2_name</th>\n",
              "      <th>G2_price</th>\n",
              "      <th>Budget</th>\n",
              "      <th>G1_quant</th>\n",
              "      <th>G2_quant</th>\n",
              "      <th>Result</th>\n",
              "    </tr>\n",
              "  </thead>\n",
              "  <tbody>\n",
              "    <tr>\n",
              "      <th>0</th>\n",
              "      <td>Яблоки</td>\n",
              "      <td>5</td>\n",
              "      <td>Груши</td>\n",
              "      <td>5</td>\n",
              "      <td>50</td>\n",
              "      <td>5</td>\n",
              "      <td>5</td>\n",
              "      <td>0</td>\n",
              "    </tr>\n",
              "    <tr>\n",
              "      <th>1</th>\n",
              "      <td>Яблоки</td>\n",
              "      <td>5</td>\n",
              "      <td>Груши</td>\n",
              "      <td>5</td>\n",
              "      <td>51</td>\n",
              "      <td>5</td>\n",
              "      <td>5</td>\n",
              "      <td>1</td>\n",
              "    </tr>\n",
              "    <tr>\n",
              "      <th>5</th>\n",
              "      <td>Виоград</td>\n",
              "      <td>2</td>\n",
              "      <td>Малина</td>\n",
              "      <td>3</td>\n",
              "      <td>45</td>\n",
              "      <td>6</td>\n",
              "      <td>8</td>\n",
              "      <td>1</td>\n",
              "    </tr>\n",
              "  </tbody>\n",
              "</table>\n",
              "</div>"
            ],
            "text/plain": [
              "    G1_name  G1_price  G2_name  G2_price  Budget  G1_quant  G2_quant  Result\n",
              "0   Яблоки          5    Груши         5      50         5         5       0\n",
              "1   Яблоки          5    Груши         5      51         5         5       1\n",
              "5  Виоград          2  Малина          3      45         6         8       1"
            ]
          },
          "execution_count": 9,
          "metadata": {},
          "output_type": "execute_result"
        }
      ],
      "source": [
        "df_super = df[df[\"Result\"] >= 0] # Фильтруем датафрейм по условию, что в столбце Result значение >= 0 и сохраняем в новый датафрейм\n",
        "df_super"
      ]
    },
    {
      "cell_type": "code",
      "execution_count": 10,
      "metadata": {
        "colab": {
          "base_uri": "https://localhost:8080/",
          "height": 143
        },
        "id": "HWfPDq5oSKxh",
        "outputId": "c7b6fade-d33e-4c58-ea69-53568c8548a7"
      },
      "outputs": [
        {
          "data": {
            "text/html": [
              "<div>\n",
              "<style scoped>\n",
              "    .dataframe tbody tr th:only-of-type {\n",
              "        vertical-align: middle;\n",
              "    }\n",
              "\n",
              "    .dataframe tbody tr th {\n",
              "        vertical-align: top;\n",
              "    }\n",
              "\n",
              "    .dataframe thead th {\n",
              "        text-align: right;\n",
              "    }\n",
              "</style>\n",
              "<table border=\"1\" class=\"dataframe\">\n",
              "  <thead>\n",
              "    <tr style=\"text-align: right;\">\n",
              "      <th></th>\n",
              "      <th>G1_name</th>\n",
              "      <th>G1_price</th>\n",
              "      <th>G2_name</th>\n",
              "      <th>G2_price</th>\n",
              "      <th>Budget</th>\n",
              "      <th>G1_quant</th>\n",
              "      <th>G2_quant</th>\n",
              "      <th>Result</th>\n",
              "    </tr>\n",
              "  </thead>\n",
              "  <tbody>\n",
              "    <tr>\n",
              "      <th>5</th>\n",
              "      <td>Виоград</td>\n",
              "      <td>2</td>\n",
              "      <td>Малина</td>\n",
              "      <td>3</td>\n",
              "      <td>45</td>\n",
              "      <td>6</td>\n",
              "      <td>8</td>\n",
              "      <td>1</td>\n",
              "    </tr>\n",
              "    <tr>\n",
              "      <th>0</th>\n",
              "      <td>Яблоки</td>\n",
              "      <td>5</td>\n",
              "      <td>Груши</td>\n",
              "      <td>5</td>\n",
              "      <td>50</td>\n",
              "      <td>5</td>\n",
              "      <td>5</td>\n",
              "      <td>0</td>\n",
              "    </tr>\n",
              "    <tr>\n",
              "      <th>1</th>\n",
              "      <td>Яблоки</td>\n",
              "      <td>5</td>\n",
              "      <td>Груши</td>\n",
              "      <td>5</td>\n",
              "      <td>51</td>\n",
              "      <td>5</td>\n",
              "      <td>5</td>\n",
              "      <td>1</td>\n",
              "    </tr>\n",
              "  </tbody>\n",
              "</table>\n",
              "</div>"
            ],
            "text/plain": [
              "    G1_name  G1_price  G2_name  G2_price  Budget  G1_quant  G2_quant  Result\n",
              "5  Виоград          2  Малина          3      45         6         8       1\n",
              "0   Яблоки          5    Груши         5      50         5         5       0\n",
              "1   Яблоки          5    Груши         5      51         5         5       1"
            ]
          },
          "execution_count": 10,
          "metadata": {},
          "output_type": "execute_result"
        }
      ],
      "source": [
        "df_super = df_super.sort_values(by = 'Budget') # Сортируем датафрейм по столбцу Budget и сохраняем в тот же датафрейм\n",
        "df_super"
      ]
    },
    {
      "cell_type": "code",
      "execution_count": 11,
      "metadata": {
        "id": "SRS9074ySKxh"
      },
      "outputs": [],
      "source": [
        "df_super.to_excel(\"model1_result.xlsx\") # Сохраняем "
      ]
    },
    {
      "cell_type": "markdown",
      "metadata": {
        "id": "AIor29a6SKxi"
      },
      "source": [
        "## Обратная задача"
      ]
    },
    {
      "cell_type": "markdown",
      "metadata": {
        "id": "IvEsaMJISKxi"
      },
      "source": [
        "### Случай двух товаров"
      ]
    },
    {
      "cell_type": "markdown",
      "metadata": {
        "id": "LgkHLFmsSKxi"
      },
      "source": [
        "Решим обратную задачу, теперь мы должны узнать стоимости товаров, если известны точки, которые лежат на границе кривой бюджетных ограничений.\n",
        "\n",
        "Пусть нам известно, что две точки $A_1 = (a_{1,1}, a_{1,2})$ и $A_2 = (a_{2,1}, a_{2,2})$ лежат на границе кривой бюджетных ограничений. В нашей модели бюджетное ограничение задается прямой вида:\n",
        "$$p_1 x_1 + p_2 x_2 = b,$$ \n",
        "где $p_1$ -- цена единицы первого продукта, $p_2$ -- цена единицы второго продукта и $b$ -- общий бюджет. Без ограничения общности мы можем считать, что $b=1$, т.е. мы должны найти значения цены единиц продукта как долей от общего бюджета.\n",
        "\n",
        "Таким образом, нам надо решить систему линейных уравнений:\n",
        "$$\n",
        "\\begin{cases}\n",
        "p_1 a_{1,1} + p_2 a_{1,2} = 1\\\\\n",
        "p_1 a_{2,1} + p_2 a_{2,2} = 1\n",
        "\\end{cases}\n",
        "$$\n",
        "\n",
        "Перепишем в матричном виде:\n",
        "$$\n",
        "\\begin{pmatrix}\n",
        "    a_{1,1} & a_{1,2} \\\\\n",
        "    a_{2,1} & a_{2,2}\n",
        "\\end{pmatrix}\n",
        "\\begin{pmatrix}\n",
        "    p_1 \\\\\n",
        "    p_2\n",
        "\\end{pmatrix}\n",
        "= \n",
        "\\begin{pmatrix}\n",
        "    1 \\\\\n",
        "    1\n",
        "\\end{pmatrix}\n",
        "$$\n",
        "\n",
        "Решением является: \n",
        "$$\n",
        "\\begin{pmatrix}\n",
        "        p_1 \\\\\n",
        "        p_2\n",
        "\\end{pmatrix}\n",
        "=\n",
        "\\begin{pmatrix}\n",
        "        a_{1,1} && a_{1,2} \\\\\n",
        "        a_{2,1} && a_{2,2} \n",
        "\\end{pmatrix}^{-1}\n",
        "\\begin{pmatrix}\n",
        "    1 \\\\\n",
        "    1\n",
        "\\end{pmatrix}\n",
        "$$\n",
        "\n",
        "При этом надо учесть, что $p_1 > 0$ и $p_2 > 0$, в противном случае полученное решение не соответствует изучаемой модели."
      ]
    },
    {
      "cell_type": "code",
      "execution_count": 12,
      "metadata": {
        "colab": {
          "base_uri": "https://localhost:8080/"
        },
        "id": "LQ2R2fJxSKxi",
        "outputId": "119328ca-22a0-401e-f462-6eedd0440665"
      },
      "outputs": [
        {
          "name": "stdout",
          "output_type": "stream",
          "text": [
            "[[0.33333333]\n",
            " [0.33333333]]\n",
            "None\n",
            "None\n",
            "None\n"
          ]
        }
      ],
      "source": [
        "def get_goods_parameters(list_of_points):\n",
        "    '''\n",
        "        list_of_points -- двумерный массив\n",
        "        list_of_points = [\n",
        "            [a11, a12],\n",
        "            [a21, a22],\n",
        "        ]\n",
        "\n",
        "        Функция возвращает список цен, если задача имеет решение, и None, если не имеет\n",
        "    '''\n",
        "    \n",
        "    ones = np.ones([2,1]) # матрица 2x1 из единиц \n",
        "\n",
        "    # np.linalg.inv() -- поиск обратной матрицы\n",
        "    # A @ B -- матричное умножение \n",
        "    if np.linalg.det(list_of_points) != 0:\n",
        "        solution = np.linalg.inv(list_of_points) @ ones\n",
        "    else:\n",
        "        return None\n",
        "\n",
        "    p_min = min(solution)\n",
        "    if is_equal(p_min, 0) or p_min < 0:\n",
        "        return None\n",
        "    else:\n",
        "        return solution\n",
        "\n",
        "list_of_points = [\n",
        "    [1,2],\n",
        "    [2,1]\n",
        "]\n",
        "print(get_goods_parameters(list_of_points))\n",
        "\n",
        "list_of_points = [\n",
        "    [1,2],\n",
        "    [2,2]\n",
        "]\n",
        "print(get_goods_parameters(list_of_points))\n",
        "\n",
        "list_of_points = [\n",
        "    [2,2],\n",
        "    [2,1]\n",
        "]\n",
        "print(get_goods_parameters(list_of_points))\n",
        "\n",
        "list_of_points = [\n",
        "    [1,1],\n",
        "    [2,2]\n",
        "]\n",
        "print(get_goods_parameters(list_of_points))\n"
      ]
    },
    {
      "cell_type": "markdown",
      "metadata": {
        "id": "ddkwcHoHSKxi"
      },
      "source": [
        "### Графическое представление"
      ]
    },
    {
      "cell_type": "code",
      "execution_count": 13,
      "metadata": {
        "colab": {
          "base_uri": "https://localhost:8080/",
          "height": 481
        },
        "id": "sbNGvZ7LSKxi",
        "outputId": "dcdfd14d-c838-44d7-a6b0-87524d74a8c7"
      },
      "outputs": [
        {
          "data": {
            "image/png": "[encoded data removed]",
            "text/plain": [
              "<Figure size 640x480 with 1 Axes>"
            ]
          },
          "metadata": {},
          "output_type": "display_data"
        }
      ],
      "source": [
        "def plot_goods_parameters(list_of_points):\n",
        "\n",
        "    fig, ax = plt.subplots() # Создаем фигуру\n",
        "\n",
        "    list_of_points = np.array(list_of_points)\n",
        "    x_values = list_of_points.T[0]\n",
        "    y_values = list_of_points.T[1]\n",
        "    ax.scatter(x_values, y_values, label=\"Заданные точки\", color=\"green\")\n",
        "            \n",
        "    ax.axis('equal') # Принудительно делаем оси равными\n",
        "\n",
        "    result = get_goods_parameters(list_of_points)\n",
        "    if not (result is None):\n",
        "        fig.suptitle(\"Бюджетное множество\")\n",
        "        g1 = Good(\"Груши\", result[0][0])\n",
        "        g2 = Good(\"Яблоки\", result[1][0])\n",
        "        budget = 1\n",
        "        x_points = [0, budget/g1.price] \n",
        "        y_points = [budget/g2.price, 0]\n",
        "        \n",
        "        ax.plot(x_points, y_points, label=\"Бюджетная линия\", color=\"blue\") # Строим прямую по двум точкам\n",
        "        ax.fill_between(x_points, y_points, np.zeros_like(x_points), alpha=0.5, color=\"blue\") # Заливаем область под графиком с прозрачностью (alpha) 0.5\n",
        "       \n",
        "         # Добавляем название осей\n",
        "        ax.set_xlabel(g1.name)\n",
        "        ax.set_ylabel(g2.name)\n",
        "\n",
        "        ax.spines['left'].set_position('zero')\n",
        "        ax.spines['right'].set_visible(False)\n",
        "        ax.spines['bottom'].set_position('zero')\n",
        "        ax.spines['top'].set_visible(False)\n",
        "\n",
        "    else:\n",
        "        fig.suptitle(\"Модель не предусматривает решения\")\n",
        "\n",
        "    ax.legend() # Отображаем легенду (информацию о данных)\n",
        "    plt.show()\n",
        "\n",
        "\n",
        "\n",
        "list_of_points = [\n",
        "    [4,5],\n",
        "    [6,3]\n",
        "]\n",
        "plot_goods_parameters(list_of_points)"
      ]
    },
    {
      "cell_type": "markdown",
      "metadata": {
        "id": "rhMrev44SKxj"
      },
      "source": [
        "### Интерактивное представление"
      ]
    },
    {
      "cell_type": "code",
      "execution_count": 14,
      "metadata": {
        "id": "Tri8Q23ISKxj"
      },
      "outputs": [
        {
          "data": {
            "application/vnd.jupyter.widget-view+json": {
              "model_id": "65c0ac3a7e044e0cb490e002f3cd6fde",
              "version_major": 2,
              "version_minor": 0
            },
            "text/plain": [
              "interactive(children=(IntSlider(value=5, description='x11', max=10, min=1), IntSlider(value=5, description='x1…"
            ]
          },
          "metadata": {},
          "output_type": "display_data"
        }
      ],
      "source": [
        "# Интерактивный виджет\n",
        "def interactive_plot(x11, x12, x21, x22):\n",
        "    list_of_points = [\n",
        "        [x11, x12],\n",
        "        [x21, x22]\n",
        "    ]\n",
        "    plot_goods_parameters(list_of_points);\n",
        "\n",
        "interact(interactive_plot, x11=(1, 10), x12 = (1, 10), x21=(1, 10), x22 = (1, 10));"
      ]
    },
    {
      "attachments": {},
      "cell_type": "markdown",
      "metadata": {
        "id": "iDIT6aZ1SKxj"
      },
      "source": [
        "\n",
        "### Случай трех товаров"
      ]
    },
    {
      "cell_type": "markdown",
      "metadata": {
        "id": "_VKUrFQWSKxj"
      },
      "source": [
        "Отметим, что рассуждения и код практически не поменяются, если речь пойдет о трех товарах и трех точках в трехмерном пространстве.\n",
        "\n",
        "Пусть нам даны три точки $A_1 = (a_{1,1}, a_{1,2}, a_{1,3})$, $A_2 = (a_{2,1}, a_{2,2}, a_{2,3})$ и $A_3 = (a_{3,1}, a_{3,2}, a_{3,3})$. Надо решить систему линейных уравнений:\n",
        "\n",
        "$$\n",
        "\\begin{cases}\n",
        "p_1 a_{1,1} + p_2 a_{1,2} + p_3 a_{1,3}= 1\\\\\n",
        "p_1 a_{2,1} + p_2 a_{2,2} + p_3 a_{2,3}= 1\\\\\n",
        "p_1 a_{3,1} + p_2 a_{3,2} + p_3 a_{3,3}= 1\\\\\n",
        "\\end{cases}\n",
        "$$\n",
        "\n",
        "Перепишем в матричном виде:\n",
        "$$\n",
        "\\begin{pmatrix}\n",
        "    a_{1,1} & a_{1,2} & a_{1,3}\\\\\n",
        "    a_{2,1} & a_{2,2} & a_{2,3}\\\\\n",
        "    a_{3,1} & a_{3,2} & a_{3,3}\\\\\n",
        "\\end{pmatrix}\n",
        "\\begin{pmatrix}\n",
        "        p_1 \\\\\n",
        "        p_2 \\\\\n",
        "        p_3\n",
        "\\end{pmatrix}\n",
        "= \n",
        "\\begin{pmatrix}\n",
        "        1 \\\\\n",
        "        1 \\\\\n",
        "        1\n",
        "\\end{pmatrix}\n",
        "$$\n",
        "\n",
        "Решением является: \n",
        "$$\n",
        "\\begin{pmatrix}\n",
        "        p_1 \\\\\n",
        "        p_2 \\\\\n",
        "        p_3\n",
        "\\end{pmatrix}\n",
        "=\n",
        "\\begin{pmatrix}\n",
        "    a_{1,1} & a_{1,2} & a_{1,3}\\\\\n",
        "    a_{2,1} & a_{2,2} & a_{2,3}\\\\\n",
        "    a_{3,1} & a_{3,2} & a_{3,3}\\\\\n",
        "\\end{pmatrix}^{-1}\n",
        "\\begin{pmatrix}\n",
        "        1 \\\\\n",
        "        1 \\\\\n",
        "        1\n",
        "\\end{pmatrix}\n",
        "$$"
      ]
    },
    {
      "cell_type": "code",
      "execution_count": 15,
      "metadata": {
        "colab": {
          "base_uri": "https://localhost:8080/"
        },
        "id": "w9Oj82fMSKxj",
        "outputId": "efbb7130-67f3-44ac-849e-2f814c46f1dd"
      },
      "outputs": [
        {
          "name": "stdout",
          "output_type": "stream",
          "text": [
            "[[1.]\n",
            " [1.]\n",
            " [1.]]\n",
            "None\n"
          ]
        }
      ],
      "source": [
        "def get_goods_parameters(list_of_points):\n",
        "    '''\n",
        "        list_of_points -- двумерный массив\n",
        "        list_of_points = [\n",
        "            [a11, a12],\n",
        "            [a21, a22],\n",
        "        ]\n",
        "\n",
        "        Функция возвращает список цен, если задача имеет решение, и None, если не имеет\n",
        "    '''\n",
        "    \n",
        "    ones = np.ones([3,1]) # единственное изменение тут\n",
        "\n",
        "    if np.linalg.det(list_of_points) != 0:\n",
        "        solution = np.linalg.inv(list_of_points) @ ones\n",
        "    else:\n",
        "        return None\n",
        "\n",
        "    p_min = min(solution)\n",
        "    if is_equal(p_min, 0) or p_min < 0:\n",
        "        return None\n",
        "    else:\n",
        "        return solution\n",
        "\n",
        "list_of_points = [\n",
        "    [0,0,1],\n",
        "    [0,1,0],\n",
        "    [1,0,0],\n",
        "]\n",
        "print(get_goods_parameters(list_of_points))\n",
        "\n",
        "list_of_points = [\n",
        "    [0,0,1],\n",
        "    [0,1,1],\n",
        "    [1,0,0],\n",
        "]\n",
        "print(get_goods_parameters(list_of_points))"
      ]
    },
    {
      "cell_type": "markdown",
      "metadata": {
        "id": "oYaJTRbJSKxk"
      },
      "source": [
        "### Случай $n$ товаров. <font color=\"red\">Задание 1.</font> <a id=\"task_1\"></a>"
      ]
    },
    {
      "cell_type": "markdown",
      "metadata": {
        "id": "ihQ1sEEFSKxk"
      },
      "source": [
        "Реализуйте предыдущий пример для случая $n$ товаров. Вам надо написать поясняющий текст, используя $\\LaTeX$, а также реализовать саму функцию."
      ]
    },
    {
      "cell_type": "markdown",
      "metadata": {
        "id": "116eZq0ZSKxk"
      },
      "source": [
        "Пусть нам даны $n$ точек $A_1 = (a_{1,1}, a_{1,2}, \\dots ,a_{1,n})$, $A_2 = (a_{2,1}, a_{2,2}, \\dots, a_{2,n})$, $\\dots$, $A_n = (a_{n,1}, a_{n,2}, \\dots, a_{n,n})$. Надо решить систему линейных уравнений: \n",
        "\n",
        "$$\n",
        "\\begin{cases}\n",
        "p_1 a_{1,1} + \\ldots + p_n a_{1,n} = 1\\\\\n",
        "p_1 a_{2,1} + \\ldots + p_n a_{2,n} = 1\\\\\n",
        "p_1 a_{n,1} + \\ldots + p_n a_{n,n} = 1\\\\\n",
        "\\end{cases}\n",
        "$$\n",
        "\n",
        "\n",
        "\n",
        "Перепишем в матричном виде:\n",
        "$$\n",
        "\\begin{pmatrix}\n",
        "    a_{1,1}& \\dots  & a_{1,n} \\\\\n",
        "    \\vdots& \\ddots & \\vdots\\\\\n",
        "    a_{n,1}& \\dots & a_{n,n}\n",
        "\\end{pmatrix}\n",
        "\\begin{pmatrix}\n",
        "    p_1 \\\\\n",
        "    \\vdots\\\\\n",
        "    p_n\n",
        "\\end{pmatrix}\n",
        "= \n",
        "\\begin{pmatrix}\n",
        "    1 \\\\\n",
        "    \\vdots\\\\\n",
        "    1\n",
        "\\end{pmatrix}\n",
        "$$\n",
        "\n",
        "Решением является: \n",
        "$$\n",
        "\\begin{pmatrix}\n",
        "        p_1 \\\\\n",
        "        \\vdots\\\\\n",
        "        p_n\n",
        "\\end{pmatrix}\n",
        "=\n",
        "\\begin{pmatrix}\n",
        "    a_{1,1}& \\dots  & a_{1,n} \\\\\n",
        "    \\vdots& \\ddots & \\vdots\\\\\n",
        "    a_{n,1}& \\dots & a_{n,n}\n",
        "\\end{pmatrix}^{-1}\n",
        "\\begin{pmatrix}\n",
        "    1 \\\\\n",
        "    \\vdots\\\\\n",
        "    1\n",
        "\\end{pmatrix}\n",
        "$$\n",
        "\n",
        "При этом надо учесть, что $p_1 > 0$ и $p_2 > 0$, в противном случае полученное решение не соответствует изучаемой модели."
      ]
    },
    {
      "cell_type": "code",
      "execution_count": 16,
      "metadata": {
        "colab": {
          "base_uri": "https://localhost:8080/"
        },
        "id": "TpKmQ7iISKxk",
        "outputId": "3a255073-9a6c-4768-e61e-9b4bbcb6c10e"
      },
      "outputs": [
        {
          "name": "stdout",
          "output_type": "stream",
          "text": [
            "[[1.]\n",
            " [1.]\n",
            " [1.]\n",
            " [1.]\n",
            " [1.]\n",
            " [1.]\n",
            " [1.]\n",
            " [1.]\n",
            " [1.]\n",
            " [1.]]\n",
            "None\n"
          ]
        }
      ],
      "source": [
        "def get_goods_parameters(list_of_points: np.array):\n",
        "    \n",
        "    n = len(list_of_points)\n",
        "    ones = np.ones([n,1]) # матрица nx1 из единиц \n",
        "    \n",
        "    if np.linalg.det(list_of_points) != 0:\n",
        "        solution = np.linalg.inv(list_of_points) @ ones\n",
        "    else:\n",
        "        return None\n",
        "\n",
        "    p_min = min(solution)\n",
        "    if is_equal(p_min, 0) or p_min < 0:\n",
        "        return None\n",
        "    else:\n",
        "        return solution\n",
        "\n",
        "list_of_points = np.eye(10) # Единичная матрица\n",
        "print(get_goods_parameters(list_of_points))\n",
        "\n",
        "list_of_points = [\n",
        "    [0,0,1],\n",
        "    [0,1,1],\n",
        "    [1,0,0],\n",
        "]\n",
        "print(get_goods_parameters(list_of_points))"
      ]
    },
    {
      "cell_type": "markdown",
      "metadata": {
        "id": "k8guGQLrSKxk"
      },
      "source": [
        "## Кривые безразличия"
      ]
    },
    {
      "cell_type": "markdown",
      "metadata": {
        "id": "xf2_SQW8SKxk"
      },
      "source": [
        "### Параметры функции полезности Кобба-Дугласа"
      ]
    },
    {
      "cell_type": "markdown",
      "metadata": {
        "id": "kEkfiq4nSKxk"
      },
      "source": [
        "Напишем функцию, которая будет строить графики кривых безразличия функции полезности Кобба-Дугласа вида\n",
        "$$c = x^{\\alpha}y^{1-\\alpha}$$\n",
        "при различных значениях параметров $c$ и $\\alpha$."
      ]
    },
    {
      "cell_type": "code",
      "execution_count": 17,
      "metadata": {
        "colab": {
          "base_uri": "https://localhost:8080/",
          "height": 463
        },
        "id": "5R_CBhNPSKxk",
        "outputId": "83333317-20c6-47c9-ab98-27189be29f3b"
      },
      "outputs": [
        {
          "data": {
            "image/png": "[encoded data removed]",
            "text/plain": [
              "<Figure size 640x480 with 1 Axes>"
            ]
          },
          "metadata": {},
          "output_type": "display_data"
        }
      ],
      "source": [
        "\n",
        "def Cobb_Douglas(x, c=1, alpha=0.9):\n",
        "    # Выразим в явном виде y как функцию от x\n",
        "    return math.pow(x, -alpha/(1-alpha))*math.pow(c, 1/(1-alpha))\n",
        "\n",
        "def plot_Cobb_Douglas(c_values, alpha_values):\n",
        "    x_values = np.linspace(0.1, 1) # Массив из 50 точек от 0.1 до 1\n",
        "\n",
        "    fig, ax = plt.subplots()\n",
        "    fig.suptitle(\"Кривая Кобба-Дугласа вида $c = x^{\\\\alpha}y^{1-\\\\alpha}$\") # Двойные слеши нужны, чтобы не экранировать следующий символ\n",
        "    \n",
        "    for c in c_values:\n",
        "        for alpha in alpha_values:\n",
        "            y_values = [Cobb_Douglas(x, c, alpha) for x in x_values]    \n",
        "            ax.plot(x_values, y_values, label=f\"$с = {c}$, $\\\\alpha = {alpha} $\")\n",
        "    \n",
        "\n",
        "    ax.spines['left'].set_position('zero')\n",
        "    ax.spines['right'].set_visible(False)\n",
        "    ax.spines['bottom'].set_position('zero')\n",
        "    ax.spines['top'].set_visible(False)\n",
        "    ax.legend()\n",
        "    \n",
        "\n",
        "c_values = [1, 2]\n",
        "alpha_values = [0.5, 0.6]\n",
        "plot_Cobb_Douglas(c_values, alpha_values)"
      ]
    },
    {
      "cell_type": "markdown",
      "metadata": {
        "id": "Pi-cA-heSKxl"
      },
      "source": [
        "### Поиск и визуализация оптимального решения для функции Кобба-Дугласса"
      ]
    },
    {
      "cell_type": "markdown",
      "metadata": {
        "id": "WzTI5_0kSKxl"
      },
      "source": [
        "Напишем функцию, которая по информации о двух товарах, бюджете и параметре $\\alpha$ функции полезности Кобба-Дугласа найдет оптимальное решение, т.е. точку касания кривой безразличия функции Кобба-Дугласа и границы бюджетного ограничения.\n",
        "\n",
        "Известно, что решение можно найти по формуле:\n",
        "$$\n",
        "\\begin{cases}\n",
        "x_1 = \\frac{\\alpha}{g1.price}\\\\\n",
        "x_2 = \\frac{1-\\alpha}{g2.price}\\\\\n",
        "\\end{cases}\n",
        "$$"
      ]
    },
    {
      "cell_type": "code",
      "execution_count": 18,
      "metadata": {
        "colab": {
          "base_uri": "https://localhost:8080/",
          "height": 433
        },
        "id": "ZekBylgLSKxl",
        "outputId": "ee2f5172-c961-42da-a59c-4d03bc125af6"
      },
      "outputs": [
        {
          "data": {
            "image/png": "[encoded data removed]",
            "text/plain": [
              "<Figure size 640x480 with 1 Axes>"
            ]
          },
          "metadata": {},
          "output_type": "display_data"
        }
      ],
      "source": [
        "def budget_Cobb_Douglas_solution(g1, g2, budget, alpha=0.5):\n",
        "    '''\n",
        "        При заданных ценах на товары, бюджете и параметре alpha находит оптимальное решение и\n",
        "        значение выражения x^(alpha) * y^(1-alpha)\n",
        "    '''\n",
        "    x_solution = alpha*budget/g1.price\n",
        "    y_solution = (1-alpha)*budget/g2.price\n",
        "    return x_solution, y_solution, math.pow(x_solution, alpha)*math.pow(y_solution, 1-alpha)\n",
        "\n",
        "def plot_budget_Cobb_Douglas(g1, g2, budget, alpha=0.5):\n",
        "    x_solution, y_solution, c = budget_Cobb_Douglas_solution(g1, g2, budget, alpha)\n",
        "    \n",
        "    x_points = [0, budget/g1.price]\n",
        "    y_points = [budget/g2.price, 0]\n",
        "    fig, ax = plt.subplots()\n",
        "    ax.plot(x_points, y_points, label=\"Бюджетная линия\")\n",
        "    ax.fill_between(x_points, y_points, np.zeros_like(x_points), alpha=0.5)\n",
        "    \n",
        "    x_values = np.linspace(0.1, budget/g1.price)\n",
        "    y_values = np.array([Cobb_Douglas(x, c, alpha) for x in x_values])\n",
        "    filter = y_values < budget/g2.price\n",
        "    ax.plot(x_values[filter], y_values[filter], label=\"Кривая безразличия\")\n",
        "    ax.scatter(x_solution, y_solution, label=\"Оптимальное решение\", color='green')\n",
        "    ax.plot([x_solution, 0], [y_solution, y_solution], 'k:')\n",
        "    ax.plot([x_solution, x_solution], [y_solution, 0], 'k:')\n",
        "    ax.set_xlabel(g1.name)\n",
        "    ax.set_ylabel(g2.name)\n",
        "    ax.spines['left'].set_position('zero')\n",
        "    ax.spines['right'].set_visible(False)\n",
        "    ax.spines['bottom'].set_position('zero')\n",
        "    ax.spines['top'].set_visible(False)\n",
        "    ax.axis('equal')\n",
        "    ax.legend()\n",
        "    plt.show()\n",
        "\n",
        "g1 = Good(\"Яблоки\", 6)\n",
        "g2 = Good(\"Груши\", 5)\n",
        "budget = 100 \n",
        "alpha = 0.4\n",
        "plot_budget_Cobb_Douglas(g1, g2, budget, alpha)"
      ]
    },
    {
      "cell_type": "markdown",
      "metadata": {
        "id": "pTG3pg-oSKxl"
      },
      "source": [
        "### Интерактивная визуализация оптимального решения для функции Кобба-Дугласа"
      ]
    },
    {
      "cell_type": "code",
      "execution_count": 19,
      "metadata": {
        "colab": {
          "base_uri": "https://localhost:8080/",
          "height": 561,
          "referenced_widgets": [
            "0178962185cc4dbe963a733cb67cfabe",
            "b2654e5916c14ed1aff622fa8253dc1b",
            "3b51672ad9484d6da8bccb25176c1392",
            "621485f74fdd43c19c7258deefb18380",
            "a621f7dbf61a46ef87f51aae47aecd74",
            "644c0dcd0afb4e93982ca95cc2749129",
            "8a6ff1b0d99a4a6ea9bc0d5aac59b12e",
            "bca9abb1f0f64643bd60c18dac4e6641",
            "abd95f8de4554a71b81e0c9afc90fdac",
            "d4e5c593748048fc98cff16743eec848",
            "3b72e6c6903e4164b2afa909ae770a5f",
            "a7d6ccfa237a4bcba90ffd0cb5960cf6",
            "ad6d71216b7445ac98b1864d00ced37d",
            "c796f24d194e45ef9c5707bf5cb86ea0",
            "b64fd1a15dc541fb938c8d419ee44b0c",
            "982e8b4c48ba4df29236728c541ec42b"
          ]
        },
        "id": "OUsFHAygSKxl",
        "outputId": "c7296bcf-f142-4e5c-82b2-0893bcc169a9"
      },
      "outputs": [
        {
          "data": {
            "application/vnd.jupyter.widget-view+json": {
              "model_id": "bcc7e68447b84bf687d79c0349c8ff33",
              "version_major": 2,
              "version_minor": 0
            },
            "text/plain": [
              "interactive(children=(IntSlider(value=5, description='p1', max=10, min=1), IntSlider(value=5, description='p2'…"
            ]
          },
          "metadata": {},
          "output_type": "display_data"
        }
      ],
      "source": [
        "def interactive_plot(p1, p2, budget, alpha):\n",
        "    g1 = Good(\"Яблоки\", p1)\n",
        "    g2 = Good(\"Груши\", p2)\n",
        "    plot_budget_Cobb_Douglas(g1, g2, budget, alpha);\n",
        "\n",
        "interact(interactive_plot, p1=(1, 10), p2 = (1, 10), budget=(1,100), alpha=(0.1,0.9));"
      ]
    },
    {
      "cell_type": "markdown",
      "metadata": {
        "id": "7IhPASKdSKxl"
      },
      "source": [
        "### Параметры функции полезности Леонтьева. <font color=\"red\">Задание 2</font> <a id=\"task_2\"></a>"
      ]
    },
    {
      "cell_type": "markdown",
      "metadata": {
        "id": "v4vM2EqBSKxl"
      },
      "source": [
        "Напишите код, который визуализирует графики кривых безразличия для функции Леонтьева вида \n",
        "$$\n",
        "с = \\min(\\frac{x}{a}, \\frac{y}{b})\n",
        "$$\n",
        "при различных значениях параметров $а$ и $b$."
      ]
    },
    {
      "cell_type": "code",
      "execution_count": 20,
      "metadata": {},
      "outputs": [
        {
          "data": {
            "image/png": "[encoded data removed]",
            "text/plain": [
              "<Figure size 640x480 with 1 Axes>"
            ]
          },
          "metadata": {},
          "output_type": "display_data"
        }
      ],
      "source": [
        "def plot_Leontev(a_values, b_values, c_values):\n",
        "    fig, ax = plt.subplots()\n",
        "    fig.suptitle(\"Кривые безразличия для функции Леонтьева вида $с = \\\\min(\\\\frac{x}{a}, \\\\frac{y}{b})$\") \n",
        "\n",
        "    for c in c_values:\n",
        "        for a in a_values:\n",
        "            for b in b_values:\n",
        "                # строим \"уголки\" по 3 точкам\n",
        "                x_values = [a * c, a * c, 10]\n",
        "                y_values = [10, b * c, b * c]\n",
        "                ax.plot(x_values, y_values, label = f'a = {a}, b = {b}, c = {c}', alpha=0.7)\n",
        "\n",
        "                \n",
        "    ax.spines['left'].set_position('zero')\n",
        "    ax.spines['right'].set_visible(False)\n",
        "    ax.spines['bottom'].set_position('zero')\n",
        "    ax.spines['top'].set_visible(False)\n",
        "    ax.axis('equal')\n",
        "    ax.legend()\n",
        "    plt.show()\n",
        "\n",
        "a_values = [1, 2]\n",
        "b_values = [1, 3]\n",
        "c_values = [1, 2]\n",
        "plot_Leontev(a_values, b_values, c_values)\n"
      ]
    },
    {
      "cell_type": "markdown",
      "metadata": {
        "id": "TbmmVufaSKxm"
      },
      "source": [
        "### Поиск и визуализация оптимального решения для функции полезности Леонтьева. <font color=\"red\">Задание 3</font> <a id=\"task_3\"></a>"
      ]
    },
    {
      "cell_type": "markdown",
      "metadata": {
        "id": "ohtx6kyZSKxm"
      },
      "source": [
        "Для двух заданных товаров $g1$, $g2$, величины бюджета $budget$, а также параметров $a$ и $b$ функции полезности Леонтьева, найдите оптимальное решение и визуализируйте его."
      ]
    },
    {
      "attachments": {},
      "cell_type": "markdown",
      "metadata": {},
      "source": [
        "Оптимальным решением при функции полезности Леонтьева является точка касания \"уголка\" и бюджетного ограничения, поскольку, если БО и \"уголок\" с заданным уровнем полезности пересекаются, то можно поднимать уголок, увеличивая уровень полезности при этом, пока они не начнут касаться.\n",
        "\n",
        "В точке касания $c = \\frac{x}{a} = \\frac{y}{b} \\Rightarrow y = \\frac{bx}{a}$\n",
        "\n",
        "Подставим в БО: $p_x x + p_y y = p_x x + p_y \\frac{bx}{a} = I$\n",
        "\n",
        "$x^* = \\frac{I}{p_x + \\frac{p_y b}{a}}$\n",
        "\n",
        "$y^* = \\frac{I b}{a(p_x + \\frac{p_y b}{a})} = \\frac{I b}{a p_x + p_y b}$"
      ]
    },
    {
      "cell_type": "code",
      "execution_count": 21,
      "metadata": {
        "id": "K0_h9Mq5SKxm"
      },
      "outputs": [
        {
          "data": {
            "image/png": "[encoded data removed]",
            "text/plain": [
              "<Figure size 640x480 with 1 Axes>"
            ]
          },
          "metadata": {},
          "output_type": "display_data"
        }
      ],
      "source": [
        "def budget_Leontev_solution(g1, g2, budget, a, b):\n",
        "    x_solution = budget/(g1.price + g2.price * b / a)\n",
        "    y_solution = budget * b / (a * g1.price + b * g2.price)\n",
        "    return x_solution, y_solution, x_solution / a\n",
        "\n",
        "\n",
        "def plot_budget_Leontev(g1, g2, budget, a, b):\n",
        "    x_solution, y_solution, c = budget_Leontev_solution(g1, g2, budget, a, b)\n",
        "\n",
        "    x_points = [0, budget/g1.price]\n",
        "    y_points = [budget/g2.price, 0]\n",
        "    fig, ax = plt.subplots()\n",
        "    ax.plot(x_points, y_points, label=\"Бюджетная линия\")\n",
        "    ax.fill_between(x_points, y_points, np.zeros_like(x_points), alpha=0.5)\n",
        "    \n",
        "    x_values = [x_solution, x_solution, budget/g1.price]\n",
        "    y_values = [budget/g2.price, y_solution, y_solution]\n",
        "    ax.plot(x_values, y_values, label=\"Кривая безразличия\")\n",
        "    ax.scatter(x_solution, y_solution, label=\"Оптимальное решение\", color='green')\n",
        "    ax.plot([x_solution, 0], [y_solution, y_solution], 'k:')\n",
        "    ax.plot([x_solution, x_solution], [y_solution, 0], 'k:')\n",
        "    ax.set_xlabel(g1.name)\n",
        "    ax.set_ylabel(g2.name)\n",
        "    ax.spines['left'].set_position('zero')\n",
        "    ax.spines['right'].set_visible(False)\n",
        "    ax.spines['bottom'].set_position('zero')\n",
        "    ax.spines['top'].set_visible(False)\n",
        "    ax.axis('equal')\n",
        "    ax.legend()\n",
        "    plt.show()\n",
        "\n",
        "\n",
        "g1 = Good(\"Яблоки\", 6)\n",
        "g2 = Good(\"Груши\", 5)\n",
        "budget = 100 \n",
        "a = 1\n",
        "b = 2\n",
        "plot_budget_Leontev(g1, g2, budget, a, b)"
      ]
    },
    {
      "cell_type": "markdown",
      "metadata": {
        "id": "vLIxDQHaSKxm"
      },
      "source": [
        "### Интерактивная визуализация оптимального решения для функции полезности Леонтьева"
      ]
    },
    {
      "cell_type": "code",
      "execution_count": 22,
      "metadata": {
        "colab": {
          "base_uri": "https://localhost:8080/",
          "height": 177,
          "referenced_widgets": [
            "0a6442927acf405d946b574f08c1cf0b",
            "097807d0bf0e46ffb4803f04b419e593",
            "0df1212f8e7e44d9a13caf261569addc",
            "056182ff2ad3460ab97beac7c9722228",
            "e568ceefe63843aeb71c3a4d63ecfa7f",
            "eeb8a8f20d564ae0983dd83b40537184",
            "3e921db669ec4450956c8b581bcc7944",
            "e14e8379980d40aca59e473a50a200f3",
            "f435c01eafbc49fab79f712d0dfb79a9",
            "23f40b5c38334bc29923a77c7a574de6",
            "7cde281ca1b042c5821ca795ccc59d2e",
            "9ff4a55ca19a4a6f973592db2723883e",
            "141f28d0f52640e6a271b1b1667c03bc",
            "b0b03f14175947f49d3f83414b10801d",
            "be761665ab844a0eba370d1d164252db",
            "5d1a4a41a64f40d8965688d9ad21347e",
            "61159856cfff4d9095288802efc9574a",
            "352c8910515f4f93b4915e10a263dd15",
            "93f358ac44b84ffba538a25fca74e659"
          ]
        },
        "id": "KuOnnReeSKxm",
        "outputId": "c7c72307-e1fb-49d8-98d5-52231f29a68d"
      },
      "outputs": [
        {
          "data": {
            "application/vnd.jupyter.widget-view+json": {
              "model_id": "c81734ef5a94465fb21cb5fa599812c3",
              "version_major": 2,
              "version_minor": 0
            },
            "text/plain": [
              "interactive(children=(IntSlider(value=5, description='p1', max=10, min=1), IntSlider(value=5, description='p2'…"
            ]
          },
          "metadata": {},
          "output_type": "display_data"
        }
      ],
      "source": [
        "def interactive_plot(p1, p2, budget, a, b):\n",
        "    g1 = Good(\"Яблоки\", p1)\n",
        "    g2 = Good(\"Груши\", p2)\n",
        "    plot_budget_Leontev(g1, g2, budget, a, b);\n",
        "\n",
        "interact(interactive_plot, p1=(1, 10), p2 = (1, 10), budget=(1,100), a=(1,10), b=(1,10));"
      ]
    },
    {
      "cell_type": "markdown",
      "metadata": {
        "id": "KHrnGfLhSKxm"
      },
      "source": [
        "# Модель 2"
      ]
    },
    {
      "cell_type": "markdown",
      "metadata": {
        "id": "akr4vJj-SKxm"
      },
      "source": [
        "## Описание класса"
      ]
    },
    {
      "cell_type": "markdown",
      "metadata": {
        "id": "KPP_W-x7SKxn"
      },
      "source": [
        "В данной модели у каждого товара есть три параметра: название, цена и количество такого товара, которое можно получить бесплатно.\n",
        "Это означает, что потребитель всегда может получить бесплатно товар в заданном количестве, а за каждую следующую единицу товара необходимо заплатить указанную цену."
      ]
    },
    {
      "cell_type": "code",
      "execution_count": 23,
      "metadata": {
        "id": "rIoErVBrSKxn"
      },
      "outputs": [],
      "source": [
        "class Good():\n",
        "    def __init__(self, name, price, free):\n",
        "        self.name = name\n",
        "        self.price = price\n",
        "        self.free = free # Количество продукта, которое можно получить бесплатно"
      ]
    },
    {
      "cell_type": "markdown",
      "metadata": {
        "id": "nYKTXtInSKxn"
      },
      "source": [
        "## Проверка бюджетного ограничения. <font color=\"red\">Задание 4</font><a id=\"task_4\"></a>"
      ]
    },
    {
      "cell_type": "markdown",
      "metadata": {
        "id": "xtTnjChpSKxn"
      },
      "source": [
        "Напишем функцию, которая проверит, удовлетворяет ли конкретная точка бюджетным ограничениям."
      ]
    },
    {
      "cell_type": "code",
      "execution_count": 24,
      "metadata": {
        "colab": {
          "base_uri": "https://localhost:8080/"
        },
        "id": "fETkGf_9SKxn",
        "outputId": "27721dc4-bb61-469b-f562-f14e4ef68029"
      },
      "outputs": [
        {
          "name": "stdout",
          "output_type": "stream",
          "text": [
            "1\n",
            "0\n",
            "-1\n"
          ]
        }
      ],
      "source": [
        "def budget_test(g1: Good, g2: Good, budget, x1=0, x2=0):\n",
        "    '''\n",
        "        Проверка расположения точки (x1, x2) относительно бюджетного множества:\n",
        "        Если внутри бюджетного множества, то возвращается значение 1,\n",
        "        Если на границе бюджетного множества, то возвращается значение 0,\n",
        "        Если вне бюджетного множества, то возвращается значение -1.\n",
        "    '''\n",
        "    costs = g1.price * max(0, x1 - g1.free) + g2.price * max(0, x2 - g2.free)\n",
        "    if costs < budget:\n",
        "        return 1\n",
        "    elif is_equal(costs, budget):\n",
        "        return 0\n",
        "    else:\n",
        "        return -1\n",
        "\n",
        "g1 = Good(\"Яблоки\", 10, 1)\n",
        "g2 = Good(\"Груши\", 10, 1)\n",
        "budget = 100\n",
        "print(budget_test(g1, g2, budget, 5, 6))\n",
        "print(budget_test(g1, g2, budget, 6, 6))\n",
        "print(budget_test(g1, g2, budget, 6, 7))"
      ]
    },
    {
      "cell_type": "markdown",
      "metadata": {
        "id": "C8VO6-EaSKxn"
      },
      "source": [
        "## Графическое представление. <font color=\"red\">Задание 5.</font> <a id=\"task_5\"></a>"
      ]
    },
    {
      "cell_type": "markdown",
      "metadata": {
        "id": "ymSM7JZaSKxn"
      },
      "source": [
        "Напишите функцию, которая будет изображать бюджетное множество и проверяемую точку."
      ]
    },
    {
      "cell_type": "code",
      "execution_count": 25,
      "metadata": {
        "id": "APdKe6cQSKxn"
      },
      "outputs": [
        {
          "data": {
            "image/png": "[encoded data removed]",
            "text/plain": [
              "<Figure size 640x480 with 1 Axes>"
            ]
          },
          "metadata": {},
          "output_type": "display_data"
        }
      ],
      "source": [
        "def plot_budget(g1: Good, g2: Good, budget, x, y):\n",
        "\n",
        "    # строим БО по 4 ключевым точкам\n",
        "    x_points = [0, g1.free, budget/g1.price + g1.free, budget/g1.price + g1.free] \n",
        "    y_points = [budget/g2.price  + g2.free,  budget/g2.price  + g2.free, g2.free, 0]\n",
        "\n",
        "    fig, ax = plt.subplots() # Создаем фигуру\n",
        "    fig.suptitle(\"Бюджетное множество\")\n",
        "    \n",
        "    ax.plot(x_points, y_points, label=\"Бюджетная линия\")\n",
        "    ax.fill_between(x_points, y_points, np.zeros_like(x_points), alpha=0.5) # Заливаем область под графиком с прозрачностью (alpha) 0.5\n",
        "    \n",
        "    point_status = budget_test(g1, g2, budget, x, y) # Находим статус проверяемой точки\n",
        "    \n",
        "    # В зависимости от статуса определяем цвет точки и надпись\n",
        "    if point_status == 1:\n",
        "        point_color = \"green\"\n",
        "        point_label = \"Допустимо\"\n",
        "    elif point_status == 0:\n",
        "        point_color = \"yellow\"\n",
        "        point_label = \"На границе\"\n",
        "    else: \n",
        "        point_color = \"red\"\n",
        "        point_label = \"Недопустимо\"\n",
        "\n",
        "    ax.scatter(x, y, color=point_color, label=point_label) # Рисуем точку\n",
        "    ax.plot([x, x], [0, y], 'k:') # Добавляем вертикальную черную (k) пунктирную (:) линию к точке (x,y)\n",
        "    ax.plot([0, x], [y, y], 'k:') # Добавляем горизонтальную черную (k) пунктирную (:) линию к точке (x,y)\n",
        "    \n",
        "    # Добавляем название осей\n",
        "    ax.set_xlabel(g1.name)\n",
        "    ax.set_ylabel(g2.name)\n",
        "\n",
        "    # Сдвигаем и скрываем оси так, чтобы получились декартовы координаты\n",
        "    ax.spines['left'].set_position('zero')\n",
        "    ax.spines['right'].set_visible(False)\n",
        "    ax.spines['bottom'].set_position('zero')\n",
        "    ax.spines['top'].set_visible(False)\n",
        "    \n",
        "    ax.axis('equal') # Принудительно делаем оси равными\n",
        "    ax.legend() # Отображаем легенду (информацию о данных)\n",
        "    plt.show() # Отображаем рисунок\n",
        "\n",
        "g1 = Good(\"Яблоки\", 10, 1)\n",
        "g2 = Good(\"Груши\", 10, 1)\n",
        "budget = 100\n",
        "plot_budget(g1, g2, budget, 10, 2)"
      ]
    },
    {
      "attachments": {},
      "cell_type": "markdown",
      "metadata": {
        "id": "HyIehaAhSKxo"
      },
      "source": [
        "## Интерактивное представление"
      ]
    },
    {
      "cell_type": "code",
      "execution_count": 26,
      "metadata": {
        "colab": {
          "base_uri": "https://localhost:8080/",
          "height": 258,
          "referenced_widgets": [
            "a526d4863b97458a9d0b31cde0dcdfd6",
            "f2c06c22aa1f428b9ca317deb7ae7c22",
            "09d045591a434f1abcae0e9534f251d0",
            "398afeb913ed4417828917d230671ba0",
            "a4599451e1594b85908039131923df74",
            "a3b36bf3bbb941e88b1d81cb5a46da90",
            "f12d6b9037d54ac799501e523a7c6f4a",
            "1e582a879e5644e19a9ff95386eac06a",
            "7c7f5ff97c0849c18bb4c03fa05c2c58",
            "437d553d87e3464d833b78b88d48ea40",
            "04ddda1f7cc54f30a047430001352640",
            "fc1bd4f55f9a46a19031861017172884",
            "1b2c84be656643668572acc1ab4395cd",
            "d364d4a8bf1f403ca899c457a2d082e9",
            "7894b19721344da7bef055cf5791277e",
            "26937094d1124dddb5ed55c45bc404ef",
            "22a575d192ec44ca8e6687696879d065",
            "76eb41b17d094d629d4ae1c19030620b",
            "c2fe8edd884844f0b482c94e7b055876",
            "428e3be829624872b7622088d898ec2f",
            "5541ef2ae8bf4b44a6c108b7c3b93b48",
            "bffffd41990e4f2584cce9ed38eb3e15",
            "e1b01905791e4f17bd94a46a00d99ae6",
            "f9b7b6bd74a7413d927eb709711449de",
            "11491230a1884b15823fa65a36fe1dbc"
          ]
        },
        "id": "h2hyiX_FSKxo",
        "outputId": "b5f6af4c-b460-44dd-9b78-b0c6db4f8e5c"
      },
      "outputs": [
        {
          "data": {
            "application/vnd.jupyter.widget-view+json": {
              "model_id": "35084413636145728fbe20d0ec4f6ce0",
              "version_major": 2,
              "version_minor": 0
            },
            "text/plain": [
              "interactive(children=(IntSlider(value=5, description='p1', max=10, min=1), IntSlider(value=5, description='f1'…"
            ]
          },
          "metadata": {},
          "output_type": "display_data"
        },
        {
          "data": {
            "text/plain": [
              "<function __main__.interactive_plot(p1, f1, p2, f2, budget, x, y)>"
            ]
          },
          "execution_count": 26,
          "metadata": {},
          "output_type": "execute_result"
        }
      ],
      "source": [
        "def interactive_plot(p1, f1, p2, f2, budget, x, y):\n",
        "    g1 = Good(\"Яблоки\", p1, f1)\n",
        "    g2 = Good(\"Груши\", p2, f2)\n",
        "    plot_budget(g1, g2, budget, x, y);\n",
        "\n",
        "interact(interactive_plot, p1=(1, 10), f1=(0, 10), p2 = (1, 10), f2=(0,10), budget=(1,100), x=(0,10), y=(0,10))"
      ]
    },
    {
      "cell_type": "markdown",
      "metadata": {
        "id": "NX5_UsnISKxo"
      },
      "source": [
        "## Работа с таблицами. <font color=\"red\">Задание 6</font><a id=\"task_7\"></a>"
      ]
    },
    {
      "cell_type": "markdown",
      "metadata": {
        "id": "aGxnIN5gSKxo"
      },
      "source": [
        "Выполните аналогичные действия, как и с моделью 1, а именно:\n",
        "* Создайте файл model2_data.xlsx по аналогии с тем, как устроен файл model1_data.xlsx. И добавьте в него как минимум 10 строчек.\n",
        "* Загрузите данные из таблицы model2_data.xlsx\n",
        "* Для каждой записи проверьте, выполнено ли бюджетное ограничение.\n",
        "* Отфильтруйте только те варианты, в которых бюджетное ограничение выполняется (в том числе и на границе).\n",
        "* Отсортируйте таблицу по столбцу G1_free.\n",
        "* Результат сохраните в файл model2_result.xlsx\n",
        "\n",
        "Допускается в этом задании вместо Excel файлов использовать csv файлы."
      ]
    },
    {
      "cell_type": "code",
      "execution_count": 27,
      "metadata": {
        "id": "MwH08o5bSKxo"
      },
      "outputs": [],
      "source": [
        "# columns=['g1_name', 'g1_price', 'g1_free', 'g1_quantity', 'g2_name', 'g2_price', 'g2_free', 'g2_quantity', 'budget']\n",
        "\n",
        "# data = [\n",
        "# ['манго', 3, 2, 4, 'персик', 2, 1, 2, 10],\n",
        "# ['клубника', 3, 2, 4, 'малина', 1, 2, 2, 10],\n",
        "# ['огурец', 3, 2, 4, 'картофель', 2, 3, 2, 1],\n",
        "# ['картофель', 3, 2, 4, 'свекла', 1, 2, 1, 2], \n",
        "# ['манго', 3, 2, 2, 'маракуйя', 2, 2, 2, 6],\n",
        "# ['банан', 3, 1, 4, 'сливки', 2, 7, 3, 2],\n",
        "# ['хлеб', 3, 2, 4, 'колбаса', 2, 5, 2, 10],\n",
        "# ['творог', 3, 2, 4, 'йогурт', 10, 2, 1, 11],\n",
        "# ['йогурт', 3, 2, 1, 'колбаса', 2, 1, 0, 3],\n",
        "# ['масло', 1, 2, 1, 'хлеб', 2, 2, 2, 10],\n",
        "# ['малина', 3, 1, 4, 'смородина', 2, 2, 2, 9],\n",
        "# ['облепиха', 3, 2, 2, 'крыжовник', 2, 2, 2, 8]\n",
        "# ]\n",
        "\n",
        "# dt = pd.DataFrame(data, columns=columns)\n",
        "# dt.to_csv('model2_data.csv', index=False)"
      ]
    },
    {
      "cell_type": "markdown",
      "metadata": {},
      "source": [
        "Данные можно скачать по ссылке: https://disk.yandex.ru/d/SC-irco7zGGAPA"
      ]
    },
    {
      "cell_type": "code",
      "execution_count": 28,
      "metadata": {},
      "outputs": [
        {
          "data": {
            "text/html": [
              "<div>\n",
              "<style scoped>\n",
              "    .dataframe tbody tr th:only-of-type {\n",
              "        vertical-align: middle;\n",
              "    }\n",
              "\n",
              "    .dataframe tbody tr th {\n",
              "        vertical-align: top;\n",
              "    }\n",
              "\n",
              "    .dataframe thead th {\n",
              "        text-align: right;\n",
              "    }\n",
              "</style>\n",
              "<table border=\"1\" class=\"dataframe\">\n",
              "  <thead>\n",
              "    <tr style=\"text-align: right;\">\n",
              "      <th></th>\n",
              "      <th>g1_name</th>\n",
              "      <th>g1_price</th>\n",
              "      <th>g1_free</th>\n",
              "      <th>g1_quantity</th>\n",
              "      <th>g2_name</th>\n",
              "      <th>g2_price</th>\n",
              "      <th>g2_free</th>\n",
              "      <th>g2_quantity</th>\n",
              "      <th>budget</th>\n",
              "    </tr>\n",
              "  </thead>\n",
              "  <tbody>\n",
              "    <tr>\n",
              "      <th>0</th>\n",
              "      <td>манго</td>\n",
              "      <td>3</td>\n",
              "      <td>2</td>\n",
              "      <td>4</td>\n",
              "      <td>персик</td>\n",
              "      <td>2</td>\n",
              "      <td>1</td>\n",
              "      <td>2</td>\n",
              "      <td>10</td>\n",
              "    </tr>\n",
              "    <tr>\n",
              "      <th>1</th>\n",
              "      <td>клубника</td>\n",
              "      <td>3</td>\n",
              "      <td>2</td>\n",
              "      <td>4</td>\n",
              "      <td>малина</td>\n",
              "      <td>1</td>\n",
              "      <td>2</td>\n",
              "      <td>2</td>\n",
              "      <td>10</td>\n",
              "    </tr>\n",
              "    <tr>\n",
              "      <th>2</th>\n",
              "      <td>огурец</td>\n",
              "      <td>3</td>\n",
              "      <td>2</td>\n",
              "      <td>4</td>\n",
              "      <td>картофель</td>\n",
              "      <td>2</td>\n",
              "      <td>3</td>\n",
              "      <td>2</td>\n",
              "      <td>1</td>\n",
              "    </tr>\n",
              "    <tr>\n",
              "      <th>3</th>\n",
              "      <td>картофель</td>\n",
              "      <td>3</td>\n",
              "      <td>2</td>\n",
              "      <td>4</td>\n",
              "      <td>свекла</td>\n",
              "      <td>1</td>\n",
              "      <td>2</td>\n",
              "      <td>1</td>\n",
              "      <td>2</td>\n",
              "    </tr>\n",
              "    <tr>\n",
              "      <th>4</th>\n",
              "      <td>манго</td>\n",
              "      <td>3</td>\n",
              "      <td>2</td>\n",
              "      <td>2</td>\n",
              "      <td>маракуйя</td>\n",
              "      <td>2</td>\n",
              "      <td>2</td>\n",
              "      <td>2</td>\n",
              "      <td>6</td>\n",
              "    </tr>\n",
              "    <tr>\n",
              "      <th>5</th>\n",
              "      <td>банан</td>\n",
              "      <td>3</td>\n",
              "      <td>1</td>\n",
              "      <td>4</td>\n",
              "      <td>сливки</td>\n",
              "      <td>2</td>\n",
              "      <td>7</td>\n",
              "      <td>3</td>\n",
              "      <td>2</td>\n",
              "    </tr>\n",
              "    <tr>\n",
              "      <th>6</th>\n",
              "      <td>хлеб</td>\n",
              "      <td>3</td>\n",
              "      <td>2</td>\n",
              "      <td>4</td>\n",
              "      <td>колбаса</td>\n",
              "      <td>2</td>\n",
              "      <td>5</td>\n",
              "      <td>2</td>\n",
              "      <td>10</td>\n",
              "    </tr>\n",
              "    <tr>\n",
              "      <th>7</th>\n",
              "      <td>творог</td>\n",
              "      <td>3</td>\n",
              "      <td>2</td>\n",
              "      <td>4</td>\n",
              "      <td>йогурт</td>\n",
              "      <td>10</td>\n",
              "      <td>2</td>\n",
              "      <td>1</td>\n",
              "      <td>11</td>\n",
              "    </tr>\n",
              "    <tr>\n",
              "      <th>8</th>\n",
              "      <td>йогурт</td>\n",
              "      <td>3</td>\n",
              "      <td>2</td>\n",
              "      <td>1</td>\n",
              "      <td>колбаса</td>\n",
              "      <td>2</td>\n",
              "      <td>1</td>\n",
              "      <td>0</td>\n",
              "      <td>3</td>\n",
              "    </tr>\n",
              "    <tr>\n",
              "      <th>9</th>\n",
              "      <td>масло</td>\n",
              "      <td>1</td>\n",
              "      <td>2</td>\n",
              "      <td>1</td>\n",
              "      <td>хлеб</td>\n",
              "      <td>2</td>\n",
              "      <td>2</td>\n",
              "      <td>2</td>\n",
              "      <td>10</td>\n",
              "    </tr>\n",
              "    <tr>\n",
              "      <th>10</th>\n",
              "      <td>малина</td>\n",
              "      <td>3</td>\n",
              "      <td>1</td>\n",
              "      <td>4</td>\n",
              "      <td>смородина</td>\n",
              "      <td>2</td>\n",
              "      <td>2</td>\n",
              "      <td>2</td>\n",
              "      <td>9</td>\n",
              "    </tr>\n",
              "    <tr>\n",
              "      <th>11</th>\n",
              "      <td>облепиха</td>\n",
              "      <td>3</td>\n",
              "      <td>2</td>\n",
              "      <td>2</td>\n",
              "      <td>крыжовник</td>\n",
              "      <td>2</td>\n",
              "      <td>2</td>\n",
              "      <td>2</td>\n",
              "      <td>8</td>\n",
              "    </tr>\n",
              "  </tbody>\n",
              "</table>\n",
              "</div>"
            ],
            "text/plain": [
              "      g1_name  g1_price  g1_free  g1_quantity    g2_name  g2_price  g2_free  \\\n",
              "0       манго         3        2            4     персик         2        1   \n",
              "1    клубника         3        2            4     малина         1        2   \n",
              "2      огурец         3        2            4  картофель         2        3   \n",
              "3   картофель         3        2            4     свекла         1        2   \n",
              "4       манго         3        2            2   маракуйя         2        2   \n",
              "5       банан         3        1            4     сливки         2        7   \n",
              "6        хлеб         3        2            4    колбаса         2        5   \n",
              "7      творог         3        2            4     йогурт        10        2   \n",
              "8      йогурт         3        2            1    колбаса         2        1   \n",
              "9       масло         1        2            1       хлеб         2        2   \n",
              "10     малина         3        1            4  смородина         2        2   \n",
              "11   облепиха         3        2            2  крыжовник         2        2   \n",
              "\n",
              "    g2_quantity  budget  \n",
              "0             2      10  \n",
              "1             2      10  \n",
              "2             2       1  \n",
              "3             1       2  \n",
              "4             2       6  \n",
              "5             3       2  \n",
              "6             2      10  \n",
              "7             1      11  \n",
              "8             0       3  \n",
              "9             2      10  \n",
              "10            2       9  \n",
              "11            2       8  "
            ]
          },
          "execution_count": 28,
          "metadata": {},
          "output_type": "execute_result"
        }
      ],
      "source": [
        "df = pd.read_csv('model2_data.csv')\n",
        "df"
      ]
    },
    {
      "cell_type": "code",
      "execution_count": 29,
      "metadata": {},
      "outputs": [
        {
          "data": {
            "text/html": [
              "<div>\n",
              "<style scoped>\n",
              "    .dataframe tbody tr th:only-of-type {\n",
              "        vertical-align: middle;\n",
              "    }\n",
              "\n",
              "    .dataframe tbody tr th {\n",
              "        vertical-align: top;\n",
              "    }\n",
              "\n",
              "    .dataframe thead th {\n",
              "        text-align: right;\n",
              "    }\n",
              "</style>\n",
              "<table border=\"1\" class=\"dataframe\">\n",
              "  <thead>\n",
              "    <tr style=\"text-align: right;\">\n",
              "      <th></th>\n",
              "      <th>g1_name</th>\n",
              "      <th>g1_price</th>\n",
              "      <th>g1_free</th>\n",
              "      <th>g1_quantity</th>\n",
              "      <th>g2_name</th>\n",
              "      <th>g2_price</th>\n",
              "      <th>g2_free</th>\n",
              "      <th>g2_quantity</th>\n",
              "      <th>budget</th>\n",
              "      <th>result</th>\n",
              "    </tr>\n",
              "  </thead>\n",
              "  <tbody>\n",
              "    <tr>\n",
              "      <th>0</th>\n",
              "      <td>манго</td>\n",
              "      <td>3</td>\n",
              "      <td>2</td>\n",
              "      <td>4</td>\n",
              "      <td>персик</td>\n",
              "      <td>2</td>\n",
              "      <td>1</td>\n",
              "      <td>2</td>\n",
              "      <td>10</td>\n",
              "      <td>1</td>\n",
              "    </tr>\n",
              "    <tr>\n",
              "      <th>1</th>\n",
              "      <td>клубника</td>\n",
              "      <td>3</td>\n",
              "      <td>2</td>\n",
              "      <td>4</td>\n",
              "      <td>малина</td>\n",
              "      <td>1</td>\n",
              "      <td>2</td>\n",
              "      <td>2</td>\n",
              "      <td>10</td>\n",
              "      <td>1</td>\n",
              "    </tr>\n",
              "    <tr>\n",
              "      <th>2</th>\n",
              "      <td>огурец</td>\n",
              "      <td>3</td>\n",
              "      <td>2</td>\n",
              "      <td>4</td>\n",
              "      <td>картофель</td>\n",
              "      <td>2</td>\n",
              "      <td>3</td>\n",
              "      <td>2</td>\n",
              "      <td>1</td>\n",
              "      <td>-1</td>\n",
              "    </tr>\n",
              "    <tr>\n",
              "      <th>3</th>\n",
              "      <td>картофель</td>\n",
              "      <td>3</td>\n",
              "      <td>2</td>\n",
              "      <td>4</td>\n",
              "      <td>свекла</td>\n",
              "      <td>1</td>\n",
              "      <td>2</td>\n",
              "      <td>1</td>\n",
              "      <td>2</td>\n",
              "      <td>-1</td>\n",
              "    </tr>\n",
              "    <tr>\n",
              "      <th>4</th>\n",
              "      <td>манго</td>\n",
              "      <td>3</td>\n",
              "      <td>2</td>\n",
              "      <td>2</td>\n",
              "      <td>маракуйя</td>\n",
              "      <td>2</td>\n",
              "      <td>2</td>\n",
              "      <td>2</td>\n",
              "      <td>6</td>\n",
              "      <td>1</td>\n",
              "    </tr>\n",
              "    <tr>\n",
              "      <th>5</th>\n",
              "      <td>банан</td>\n",
              "      <td>3</td>\n",
              "      <td>1</td>\n",
              "      <td>4</td>\n",
              "      <td>сливки</td>\n",
              "      <td>2</td>\n",
              "      <td>7</td>\n",
              "      <td>3</td>\n",
              "      <td>2</td>\n",
              "      <td>-1</td>\n",
              "    </tr>\n",
              "    <tr>\n",
              "      <th>6</th>\n",
              "      <td>хлеб</td>\n",
              "      <td>3</td>\n",
              "      <td>2</td>\n",
              "      <td>4</td>\n",
              "      <td>колбаса</td>\n",
              "      <td>2</td>\n",
              "      <td>5</td>\n",
              "      <td>2</td>\n",
              "      <td>10</td>\n",
              "      <td>1</td>\n",
              "    </tr>\n",
              "    <tr>\n",
              "      <th>7</th>\n",
              "      <td>творог</td>\n",
              "      <td>3</td>\n",
              "      <td>2</td>\n",
              "      <td>4</td>\n",
              "      <td>йогурт</td>\n",
              "      <td>10</td>\n",
              "      <td>2</td>\n",
              "      <td>1</td>\n",
              "      <td>11</td>\n",
              "      <td>1</td>\n",
              "    </tr>\n",
              "    <tr>\n",
              "      <th>8</th>\n",
              "      <td>йогурт</td>\n",
              "      <td>3</td>\n",
              "      <td>2</td>\n",
              "      <td>1</td>\n",
              "      <td>колбаса</td>\n",
              "      <td>2</td>\n",
              "      <td>1</td>\n",
              "      <td>0</td>\n",
              "      <td>3</td>\n",
              "      <td>1</td>\n",
              "    </tr>\n",
              "    <tr>\n",
              "      <th>9</th>\n",
              "      <td>масло</td>\n",
              "      <td>1</td>\n",
              "      <td>2</td>\n",
              "      <td>1</td>\n",
              "      <td>хлеб</td>\n",
              "      <td>2</td>\n",
              "      <td>2</td>\n",
              "      <td>2</td>\n",
              "      <td>10</td>\n",
              "      <td>1</td>\n",
              "    </tr>\n",
              "    <tr>\n",
              "      <th>10</th>\n",
              "      <td>малина</td>\n",
              "      <td>3</td>\n",
              "      <td>1</td>\n",
              "      <td>4</td>\n",
              "      <td>смородина</td>\n",
              "      <td>2</td>\n",
              "      <td>2</td>\n",
              "      <td>2</td>\n",
              "      <td>9</td>\n",
              "      <td>0</td>\n",
              "    </tr>\n",
              "    <tr>\n",
              "      <th>11</th>\n",
              "      <td>облепиха</td>\n",
              "      <td>3</td>\n",
              "      <td>2</td>\n",
              "      <td>2</td>\n",
              "      <td>крыжовник</td>\n",
              "      <td>2</td>\n",
              "      <td>2</td>\n",
              "      <td>2</td>\n",
              "      <td>8</td>\n",
              "      <td>1</td>\n",
              "    </tr>\n",
              "  </tbody>\n",
              "</table>\n",
              "</div>"
            ],
            "text/plain": [
              "      g1_name  g1_price  g1_free  g1_quantity    g2_name  g2_price  g2_free  \\\n",
              "0       манго         3        2            4     персик         2        1   \n",
              "1    клубника         3        2            4     малина         1        2   \n",
              "2      огурец         3        2            4  картофель         2        3   \n",
              "3   картофель         3        2            4     свекла         1        2   \n",
              "4       манго         3        2            2   маракуйя         2        2   \n",
              "5       банан         3        1            4     сливки         2        7   \n",
              "6        хлеб         3        2            4    колбаса         2        5   \n",
              "7      творог         3        2            4     йогурт        10        2   \n",
              "8      йогурт         3        2            1    колбаса         2        1   \n",
              "9       масло         1        2            1       хлеб         2        2   \n",
              "10     малина         3        1            4  смородина         2        2   \n",
              "11   облепиха         3        2            2  крыжовник         2        2   \n",
              "\n",
              "    g2_quantity  budget  result  \n",
              "0             2      10       1  \n",
              "1             2      10       1  \n",
              "2             2       1      -1  \n",
              "3             1       2      -1  \n",
              "4             2       6       1  \n",
              "5             3       2      -1  \n",
              "6             2      10       1  \n",
              "7             1      11       1  \n",
              "8             0       3       1  \n",
              "9             2      10       1  \n",
              "10            2       9       0  \n",
              "11            2       8       1  "
            ]
          },
          "execution_count": 29,
          "metadata": {},
          "output_type": "execute_result"
        }
      ],
      "source": [
        "result = []\n",
        "for index, row in df.iterrows(): # Цикл по всем строкам df\n",
        "\n",
        "    # Для каждой строки создаем продукты\n",
        "    g1 = Good(row['g1_name'], row['g1_price'], row['g1_free']) \n",
        "    g2 = Good(row['g2_name'], row['g2_price'], row['g2_free'])\n",
        "\n",
        "    result.append(budget_test(g1, g2, row['budget'], row['g1_quantity'], row['g2_quantity']))\n",
        "\n",
        "df[\"result\"] = result # Создаем в df новый столбец Result и сохраняем в него список значений result\n",
        "df"
      ]
    },
    {
      "cell_type": "code",
      "execution_count": 30,
      "metadata": {},
      "outputs": [
        {
          "data": {
            "text/html": [
              "<div>\n",
              "<style scoped>\n",
              "    .dataframe tbody tr th:only-of-type {\n",
              "        vertical-align: middle;\n",
              "    }\n",
              "\n",
              "    .dataframe tbody tr th {\n",
              "        vertical-align: top;\n",
              "    }\n",
              "\n",
              "    .dataframe thead th {\n",
              "        text-align: right;\n",
              "    }\n",
              "</style>\n",
              "<table border=\"1\" class=\"dataframe\">\n",
              "  <thead>\n",
              "    <tr style=\"text-align: right;\">\n",
              "      <th></th>\n",
              "      <th>g1_name</th>\n",
              "      <th>g1_price</th>\n",
              "      <th>g1_free</th>\n",
              "      <th>g1_quantity</th>\n",
              "      <th>g2_name</th>\n",
              "      <th>g2_price</th>\n",
              "      <th>g2_free</th>\n",
              "      <th>g2_quantity</th>\n",
              "      <th>budget</th>\n",
              "      <th>result</th>\n",
              "    </tr>\n",
              "  </thead>\n",
              "  <tbody>\n",
              "    <tr>\n",
              "      <th>0</th>\n",
              "      <td>манго</td>\n",
              "      <td>3</td>\n",
              "      <td>2</td>\n",
              "      <td>4</td>\n",
              "      <td>персик</td>\n",
              "      <td>2</td>\n",
              "      <td>1</td>\n",
              "      <td>2</td>\n",
              "      <td>10</td>\n",
              "      <td>1</td>\n",
              "    </tr>\n",
              "    <tr>\n",
              "      <th>1</th>\n",
              "      <td>клубника</td>\n",
              "      <td>3</td>\n",
              "      <td>2</td>\n",
              "      <td>4</td>\n",
              "      <td>малина</td>\n",
              "      <td>1</td>\n",
              "      <td>2</td>\n",
              "      <td>2</td>\n",
              "      <td>10</td>\n",
              "      <td>1</td>\n",
              "    </tr>\n",
              "    <tr>\n",
              "      <th>4</th>\n",
              "      <td>манго</td>\n",
              "      <td>3</td>\n",
              "      <td>2</td>\n",
              "      <td>2</td>\n",
              "      <td>маракуйя</td>\n",
              "      <td>2</td>\n",
              "      <td>2</td>\n",
              "      <td>2</td>\n",
              "      <td>6</td>\n",
              "      <td>1</td>\n",
              "    </tr>\n",
              "    <tr>\n",
              "      <th>6</th>\n",
              "      <td>хлеб</td>\n",
              "      <td>3</td>\n",
              "      <td>2</td>\n",
              "      <td>4</td>\n",
              "      <td>колбаса</td>\n",
              "      <td>2</td>\n",
              "      <td>5</td>\n",
              "      <td>2</td>\n",
              "      <td>10</td>\n",
              "      <td>1</td>\n",
              "    </tr>\n",
              "    <tr>\n",
              "      <th>7</th>\n",
              "      <td>творог</td>\n",
              "      <td>3</td>\n",
              "      <td>2</td>\n",
              "      <td>4</td>\n",
              "      <td>йогурт</td>\n",
              "      <td>10</td>\n",
              "      <td>2</td>\n",
              "      <td>1</td>\n",
              "      <td>11</td>\n",
              "      <td>1</td>\n",
              "    </tr>\n",
              "    <tr>\n",
              "      <th>8</th>\n",
              "      <td>йогурт</td>\n",
              "      <td>3</td>\n",
              "      <td>2</td>\n",
              "      <td>1</td>\n",
              "      <td>колбаса</td>\n",
              "      <td>2</td>\n",
              "      <td>1</td>\n",
              "      <td>0</td>\n",
              "      <td>3</td>\n",
              "      <td>1</td>\n",
              "    </tr>\n",
              "    <tr>\n",
              "      <th>9</th>\n",
              "      <td>масло</td>\n",
              "      <td>1</td>\n",
              "      <td>2</td>\n",
              "      <td>1</td>\n",
              "      <td>хлеб</td>\n",
              "      <td>2</td>\n",
              "      <td>2</td>\n",
              "      <td>2</td>\n",
              "      <td>10</td>\n",
              "      <td>1</td>\n",
              "    </tr>\n",
              "    <tr>\n",
              "      <th>10</th>\n",
              "      <td>малина</td>\n",
              "      <td>3</td>\n",
              "      <td>1</td>\n",
              "      <td>4</td>\n",
              "      <td>смородина</td>\n",
              "      <td>2</td>\n",
              "      <td>2</td>\n",
              "      <td>2</td>\n",
              "      <td>9</td>\n",
              "      <td>0</td>\n",
              "    </tr>\n",
              "    <tr>\n",
              "      <th>11</th>\n",
              "      <td>облепиха</td>\n",
              "      <td>3</td>\n",
              "      <td>2</td>\n",
              "      <td>2</td>\n",
              "      <td>крыжовник</td>\n",
              "      <td>2</td>\n",
              "      <td>2</td>\n",
              "      <td>2</td>\n",
              "      <td>8</td>\n",
              "      <td>1</td>\n",
              "    </tr>\n",
              "  </tbody>\n",
              "</table>\n",
              "</div>"
            ],
            "text/plain": [
              "     g1_name  g1_price  g1_free  g1_quantity    g2_name  g2_price  g2_free  \\\n",
              "0      манго         3        2            4     персик         2        1   \n",
              "1   клубника         3        2            4     малина         1        2   \n",
              "4      манго         3        2            2   маракуйя         2        2   \n",
              "6       хлеб         3        2            4    колбаса         2        5   \n",
              "7     творог         3        2            4     йогурт        10        2   \n",
              "8     йогурт         3        2            1    колбаса         2        1   \n",
              "9      масло         1        2            1       хлеб         2        2   \n",
              "10    малина         3        1            4  смородина         2        2   \n",
              "11  облепиха         3        2            2  крыжовник         2        2   \n",
              "\n",
              "    g2_quantity  budget  result  \n",
              "0             2      10       1  \n",
              "1             2      10       1  \n",
              "4             2       6       1  \n",
              "6             2      10       1  \n",
              "7             1      11       1  \n",
              "8             0       3       1  \n",
              "9             2      10       1  \n",
              "10            2       9       0  \n",
              "11            2       8       1  "
            ]
          },
          "execution_count": 30,
          "metadata": {},
          "output_type": "execute_result"
        }
      ],
      "source": [
        "df_super = df[df[\"result\"] >= 0] # Фильтруем датафрейм по условию, что в столбце Result значение >= 0 и сохраняем в новый датафрейм\n",
        "df_super"
      ]
    },
    {
      "cell_type": "code",
      "execution_count": 31,
      "metadata": {},
      "outputs": [
        {
          "data": {
            "text/html": [
              "<div>\n",
              "<style scoped>\n",
              "    .dataframe tbody tr th:only-of-type {\n",
              "        vertical-align: middle;\n",
              "    }\n",
              "\n",
              "    .dataframe tbody tr th {\n",
              "        vertical-align: top;\n",
              "    }\n",
              "\n",
              "    .dataframe thead th {\n",
              "        text-align: right;\n",
              "    }\n",
              "</style>\n",
              "<table border=\"1\" class=\"dataframe\">\n",
              "  <thead>\n",
              "    <tr style=\"text-align: right;\">\n",
              "      <th></th>\n",
              "      <th>g1_name</th>\n",
              "      <th>g1_price</th>\n",
              "      <th>g1_free</th>\n",
              "      <th>g1_quantity</th>\n",
              "      <th>g2_name</th>\n",
              "      <th>g2_price</th>\n",
              "      <th>g2_free</th>\n",
              "      <th>g2_quantity</th>\n",
              "      <th>budget</th>\n",
              "      <th>result</th>\n",
              "    </tr>\n",
              "  </thead>\n",
              "  <tbody>\n",
              "    <tr>\n",
              "      <th>10</th>\n",
              "      <td>малина</td>\n",
              "      <td>3</td>\n",
              "      <td>1</td>\n",
              "      <td>4</td>\n",
              "      <td>смородина</td>\n",
              "      <td>2</td>\n",
              "      <td>2</td>\n",
              "      <td>2</td>\n",
              "      <td>9</td>\n",
              "      <td>0</td>\n",
              "    </tr>\n",
              "    <tr>\n",
              "      <th>0</th>\n",
              "      <td>манго</td>\n",
              "      <td>3</td>\n",
              "      <td>2</td>\n",
              "      <td>4</td>\n",
              "      <td>персик</td>\n",
              "      <td>2</td>\n",
              "      <td>1</td>\n",
              "      <td>2</td>\n",
              "      <td>10</td>\n",
              "      <td>1</td>\n",
              "    </tr>\n",
              "    <tr>\n",
              "      <th>1</th>\n",
              "      <td>клубника</td>\n",
              "      <td>3</td>\n",
              "      <td>2</td>\n",
              "      <td>4</td>\n",
              "      <td>малина</td>\n",
              "      <td>1</td>\n",
              "      <td>2</td>\n",
              "      <td>2</td>\n",
              "      <td>10</td>\n",
              "      <td>1</td>\n",
              "    </tr>\n",
              "    <tr>\n",
              "      <th>4</th>\n",
              "      <td>манго</td>\n",
              "      <td>3</td>\n",
              "      <td>2</td>\n",
              "      <td>2</td>\n",
              "      <td>маракуйя</td>\n",
              "      <td>2</td>\n",
              "      <td>2</td>\n",
              "      <td>2</td>\n",
              "      <td>6</td>\n",
              "      <td>1</td>\n",
              "    </tr>\n",
              "    <tr>\n",
              "      <th>6</th>\n",
              "      <td>хлеб</td>\n",
              "      <td>3</td>\n",
              "      <td>2</td>\n",
              "      <td>4</td>\n",
              "      <td>колбаса</td>\n",
              "      <td>2</td>\n",
              "      <td>5</td>\n",
              "      <td>2</td>\n",
              "      <td>10</td>\n",
              "      <td>1</td>\n",
              "    </tr>\n",
              "    <tr>\n",
              "      <th>7</th>\n",
              "      <td>творог</td>\n",
              "      <td>3</td>\n",
              "      <td>2</td>\n",
              "      <td>4</td>\n",
              "      <td>йогурт</td>\n",
              "      <td>10</td>\n",
              "      <td>2</td>\n",
              "      <td>1</td>\n",
              "      <td>11</td>\n",
              "      <td>1</td>\n",
              "    </tr>\n",
              "    <tr>\n",
              "      <th>8</th>\n",
              "      <td>йогурт</td>\n",
              "      <td>3</td>\n",
              "      <td>2</td>\n",
              "      <td>1</td>\n",
              "      <td>колбаса</td>\n",
              "      <td>2</td>\n",
              "      <td>1</td>\n",
              "      <td>0</td>\n",
              "      <td>3</td>\n",
              "      <td>1</td>\n",
              "    </tr>\n",
              "    <tr>\n",
              "      <th>9</th>\n",
              "      <td>масло</td>\n",
              "      <td>1</td>\n",
              "      <td>2</td>\n",
              "      <td>1</td>\n",
              "      <td>хлеб</td>\n",
              "      <td>2</td>\n",
              "      <td>2</td>\n",
              "      <td>2</td>\n",
              "      <td>10</td>\n",
              "      <td>1</td>\n",
              "    </tr>\n",
              "    <tr>\n",
              "      <th>11</th>\n",
              "      <td>облепиха</td>\n",
              "      <td>3</td>\n",
              "      <td>2</td>\n",
              "      <td>2</td>\n",
              "      <td>крыжовник</td>\n",
              "      <td>2</td>\n",
              "      <td>2</td>\n",
              "      <td>2</td>\n",
              "      <td>8</td>\n",
              "      <td>1</td>\n",
              "    </tr>\n",
              "  </tbody>\n",
              "</table>\n",
              "</div>"
            ],
            "text/plain": [
              "     g1_name  g1_price  g1_free  g1_quantity    g2_name  g2_price  g2_free  \\\n",
              "10    малина         3        1            4  смородина         2        2   \n",
              "0      манго         3        2            4     персик         2        1   \n",
              "1   клубника         3        2            4     малина         1        2   \n",
              "4      манго         3        2            2   маракуйя         2        2   \n",
              "6       хлеб         3        2            4    колбаса         2        5   \n",
              "7     творог         3        2            4     йогурт        10        2   \n",
              "8     йогурт         3        2            1    колбаса         2        1   \n",
              "9      масло         1        2            1       хлеб         2        2   \n",
              "11  облепиха         3        2            2  крыжовник         2        2   \n",
              "\n",
              "    g2_quantity  budget  result  \n",
              "10            2       9       0  \n",
              "0             2      10       1  \n",
              "1             2      10       1  \n",
              "4             2       6       1  \n",
              "6             2      10       1  \n",
              "7             1      11       1  \n",
              "8             0       3       1  \n",
              "9             2      10       1  \n",
              "11            2       8       1  "
            ]
          },
          "execution_count": 31,
          "metadata": {},
          "output_type": "execute_result"
        }
      ],
      "source": [
        "df_super = df_super.sort_values(by = 'g1_free') # Сортируем датафрейм по столбцу g1_free и сохраняем в тот же датафрейм\n",
        "df_super"
      ]
    },
    {
      "cell_type": "code",
      "execution_count": 32,
      "metadata": {},
      "outputs": [],
      "source": [
        "df_super.to_csv(\"model2_result.csv\") # Сохраняем "
      ]
    },
    {
      "attachments": {},
      "cell_type": "markdown",
      "metadata": {},
      "source": [
        "Результат можно скачать по ссылке: https://disk.yandex.ru/d/Kp1Y9HJvVP2tFw"
      ]
    },
    {
      "cell_type": "markdown",
      "metadata": {
        "id": "GsIU-gEUSKxo"
      },
      "source": [
        "## Обратная задача. <font color=\"red\">Задание 7</font> <a id=\"task_7\"></a>"
      ]
    },
    {
      "attachments": {},
      "cell_type": "markdown",
      "metadata": {
        "id": "c0iZOO-wSKxo"
      },
      "source": [
        "Пусть нам даны четыре точки $A_1 = (a_{1,1}, a_{1,2})$, $A_2 = (a_{2,1}, a_{2,2})$, $A_3 = (a_{3,1}, a_{3,2})$ и $A_4 = (a_{4,1}, a_{4,2})$. Необходимо определить, существуют ли параметры Модели 2, т.е. значения __price >0__ и __free >= 0__ для двух товаров такие, чтобы граница бюджетной линии содержала указанные точки. Если такие параметры существуют для рассматриваемой модели, то необходимо вывести параметры модели и изобразить ее бюджетное ограничение. Если таких параметров не существует, то необходимо вывести сообщение об этом.\n",
        "\n",
        "Реализуйте графический интерактивный интерфейс, визуализирующий решение данной задачи, по аналогии с тем, как это сделано для Модели 1."
      ]
    },
    {
      "attachments": {},
      "cell_type": "markdown",
      "metadata": {},
      "source": [
        "Онормируем бюджет к 1, цены - доли бюджета"
      ]
    },
    {
      "cell_type": "code",
      "execution_count": 33,
      "metadata": {
        "id": "pEOqzD7dSKxp"
      },
      "outputs": [
        {
          "data": {
            "image/png": "[encoded data removed]",
            "text/plain": [
              "<Figure size 640x480 with 1 Axes>"
            ]
          },
          "metadata": {},
          "output_type": "display_data"
        }
      ],
      "source": [
        "\n",
        "def plot_goods_parameters(points):\n",
        "    fig, ax = plt.subplots() # Создаем фигуру\n",
        "\n",
        "    # сортируем точки по возрастанию х, убыванию у\n",
        "    sorted_points = sorted(points, key=lambda x : (x[0], -x[1]))\n",
        "    f = 1  # 1 - решение существует, 0 - нет\n",
        "\n",
        "    # Для существования решения после сортировки по х точки должны не возрастать по у\n",
        "    if not (sorted_points[0][1] >= sorted_points[1][1] >= sorted_points[2][1] >= sorted_points[3][1]):\n",
        "        f = 0\n",
        "\n",
        "    points = np.array(points)\n",
        "    x_values = points.T[0]\n",
        "    y_values = points.T[1]\n",
        "    ax.scatter(x_values, y_values, label=\"Заданные точки\", color=\"green\")\n",
        "            \n",
        "    ax.axis('equal') # Принудительно делаем оси равными\n",
        "    angles = [0] * 3\n",
        "\n",
        "    inf = 10 ** 9\n",
        "\n",
        "    # рассчитываем углы наклона каждого участка\n",
        "    for i in range(3):\n",
        "        delta_y = abs(sorted_points[i][1] - sorted_points[i + 1][1])\n",
        "        delta_x = abs(sorted_points[i][0] - sorted_points[i + 1][0])\n",
        "        angles[i] = delta_y / delta_x if delta_x != 0 else inf\n",
        "\n",
        "    # рассматриваем все возможные случаи\n",
        "    if angles[0] == angles[1] == angles[2]:\n",
        "        if angles[0] == 0:\n",
        "            x_free = sorted_points[3][0]\n",
        "            y_free = 0\n",
        "            x_price = 1 / sorted_points[0][1]  # делаем наклон 1:1, y_max = points[0][1]\n",
        "            y_price = 1 / sorted_points[0][1]\n",
        "            # x_points = [0, x_free, x_free + sorted_points[0][1]]\n",
        "            # y_points = [sorted_points[0][1], sorted_points[0][1], 0]\n",
        "        elif angles[0] == inf:\n",
        "            x_free = 0\n",
        "            y_free = sorted_points[0][1]\n",
        "            x_price = 1 / sorted_points[0][0] # делаем наклон 1:1, x_max = points[0][0]\n",
        "            y_price = 1 / sorted_points[0][0]\n",
        "            # x_points = [0, sorted_points[0][0], sorted_points[0][0]]\n",
        "            # y_points = [y_free + sorted_points[0][0], y_free, 0]\n",
        "        else:\n",
        "            y_max = sorted_points[0][1] + angles[0] * sorted_points[0][0]\n",
        "            x_max = y_max / angles[0]\n",
        "            x_free = 0\n",
        "            y_free = 0\n",
        "            x_price = 1/x_max\n",
        "            y_price = 1/y_max\n",
        "            # x_points = [0, x_max]\n",
        "            # y_points = [y_max, 0]\n",
        "    elif angles[0] == angles[1] and angles[1] < angles[2]:\n",
        "        if angles[0] == 0 and angles[2] < inf:\n",
        "            x_free = sorted_points[2][0]\n",
        "            y_free = sorted_points[3][1]\n",
        "            x_buy_max = sorted_points[3][0] - x_free\n",
        "            y_buy_max = sorted_points[2][1] - y_free\n",
        "            x_price = 1/x_buy_max\n",
        "            y_price = 1/y_buy_max\n",
        "            # x_points = [0, x_free, x_free + x_buy_max, x_free + x_buy_max]\n",
        "            # y_points = [y_free + y_buy_max, y_free + y_buy_max,  y_free, 0]\n",
        "        elif angles[0] != 0 and angles[2] == inf:\n",
        "            x_free = sorted_points[0][0]\n",
        "            y_free = sorted_points[2][1]\n",
        "            x_buy_max = sorted_points[2][0] - x_free\n",
        "            y_buy_max = sorted_points[0][1] - y_free\n",
        "            x_price = 1/x_buy_max\n",
        "            y_price = 1/y_buy_max\n",
        "            # x_points = [0, x_free, x_free + x_buy_max, x_free + x_buy_max]\n",
        "            # y_points = [y_free + y_buy_max, y_free + y_buy_max,  y_free, 0]\n",
        "        else:\n",
        "            f = 0\n",
        "    elif angles[0] < angles[1] and angles[1] == angles[2]:\n",
        "        if angles[0] == 0 and angles[2] < inf:\n",
        "            x_free = sorted_points[1][0]\n",
        "            y_free = sorted_points[3][1]\n",
        "            x_buy_max = sorted_points[3][0] - x_free\n",
        "            y_buy_max = sorted_points[0][1] - y_free\n",
        "            x_price = 1/x_buy_max\n",
        "            y_price = 1/y_buy_max\n",
        "            # x_points = [0, x_free, x_free + x_buy_max, x_free + x_buy_max]\n",
        "            # y_points = [y_free + y_buy_max, y_free + y_buy_max,  y_free, 0]\n",
        "        elif angles[0] != 0 and angles[2] == inf:\n",
        "            x_free = sorted_points[0][0]\n",
        "            y_free = sorted_points[1][1]\n",
        "            x_buy_max = sorted_points[1][0] - x_free\n",
        "            y_buy_max = sorted_points[0][1] - y_free\n",
        "            x_price = 1/x_buy_max\n",
        "            y_price = 1/y_buy_max\n",
        "            # x_points = [0, x_free, x_free + x_buy_max, x_free + x_buy_max]\n",
        "            # y_points = [y_free + y_buy_max, y_free + y_buy_max,  y_free, 0]\n",
        "        else:\n",
        "            f = 0\n",
        "    elif angles[0] < angles[1] < angles[2]:\n",
        "        b = angles[1] * sorted_points[1][0] + sorted_points[1][1] # константа из уравнения y = b - ax\n",
        "        x_free = (b - sorted_points[0][1]) / angles[1]\n",
        "        y_free = b - angles[1] * sorted_points[3][0]\n",
        "        x_buy_max = sorted_points[3][0] - x_free\n",
        "        y_buy_max = sorted_points[0][1] - y_free\n",
        "        x_price = 1/x_buy_max\n",
        "        y_price = 1/y_buy_max\n",
        "    else:\n",
        "        f = 0\n",
        "\n",
        "    if f == 0:\n",
        "        fig.suptitle(\"Модель не предусматривает решения\")\n",
        "    else:\n",
        "        fig.suptitle(\"Бюджетное множество\")\n",
        "        g1 = Good(\"Груши\", x_price, x_free)\n",
        "        g2 = Good(\"Яблоки\", y_price, y_free)\n",
        "        budget = 1\n",
        "        x_points = [0, g1.free, budget/g1.price + g1.free, budget/g1.price + g1.free] \n",
        "        y_points = [budget/g2.price  + g2.free,  budget/g2.price  + g2.free, g2.free, 0]\n",
        "        \n",
        "        ax.plot(x_points, y_points, label=\"Бюджетная линия\", color=\"blue\") # Строим прямую по двум точкам\n",
        "        ax.fill_between(x_points, y_points, np.zeros_like(x_points), alpha=0.5, color=\"blue\") # Заливаем область под графиком с прозрачностью (alpha) 0.5\n",
        "       \n",
        "         # Добавляем название осей\n",
        "        ax.set_xlabel(g1.name)\n",
        "        ax.set_ylabel(g2.name)\n",
        "\n",
        "        ax.spines['left'].set_position('zero')\n",
        "        ax.spines['right'].set_visible(False)\n",
        "        ax.spines['bottom'].set_position('zero')\n",
        "        ax.spines['top'].set_visible(False)\n",
        "\n",
        "    ax.legend() # Отображаем легенду (информацию о данных)\n",
        "    plt.show()\n",
        "\n",
        "points = [[1, 0], [2, 1], [1, 2], [1, 3]]\n",
        "plot_goods_parameters(points)\n"
      ]
    },
    {
      "cell_type": "code",
      "execution_count": 34,
      "metadata": {},
      "outputs": [
        {
          "data": {
            "application/vnd.jupyter.widget-view+json": {
              "model_id": "01b72ab901204cf3a8dd15cee4598f0d",
              "version_major": 2,
              "version_minor": 0
            },
            "text/plain": [
              "interactive(children=(IntSlider(value=5, description='a11', max=10, min=1), IntSlider(value=5, description='a1…"
            ]
          },
          "metadata": {},
          "output_type": "display_data"
        }
      ],
      "source": [
        "def interactive_plot(a11, a12, a21, a22, a31, a32, a41, a42):\n",
        "    list_of_points = [\n",
        "        [a11, a12],\n",
        "        [a21, a22],\n",
        "        [a31, a32],\n",
        "        [a41, a42]\n",
        "    ]\n",
        "    plot_goods_parameters(list_of_points);\n",
        "\n",
        "interact(interactive_plot, a11=(1, 10), a12 = (1, 10), a21=(1, 10), a22 = (1, 10),a31 = (1, 10), a32 = (1, 10), a41 = (1, 10), a42 = (1, 10));"
      ]
    },
    {
      "cell_type": "markdown",
      "metadata": {
        "id": "ReQQaRaoSKxp"
      },
      "source": [
        "## Кривые безразличия. <font color=\"red\">Задание 8</font> <a id=\"task_8\"></a>"
      ]
    },
    {
      "cell_type": "markdown",
      "metadata": {
        "id": "IJj1SivSSKxp"
      },
      "source": [
        "Для двух товаров из Модели 2 и кривой безразличия функции Кобба-Дугласа найдите оптимальное решение и визуализируйте его при помощи интерактивного виджета.\n",
        "\n",
        "Пример работы расположен по [данной ссылке](https://samonenko-econom-practice-example-streamlit-app-yyqr46.streamlit.app/)"
      ]
    },
    {
      "cell_type": "code",
      "execution_count": 35,
      "metadata": {
        "id": "Ys2twwCbSKxp"
      },
      "outputs": [
        {
          "data": {
            "image/png": "[encoded data removed]",
            "text/plain": [
              "<Figure size 640x480 with 1 Axes>"
            ]
          },
          "metadata": {},
          "output_type": "display_data"
        }
      ],
      "source": [
        "def Cobb_Douglas(x, c, alpha=0.9):\n",
        "    # Выразим в явном виде y как функцию от x\n",
        "    return math.pow(x, -alpha/(1-alpha))*math.pow(c, 1/(1-alpha))\n",
        "\n",
        "def budget_Cobb_Douglas_solution(g1, g2, budget, alpha=0.5):\n",
        "    '''\n",
        "        При заданных ценах на товары, бюджете и параметре alpha находит оптимальное решение и\n",
        "        значение выражения x^(alpha) * y^(1-alpha)\n",
        "    '''\n",
        "    new_budget = g1.price * g1.free + g2.price * g2.free + budget  # бюджет с учетом бесплатной чсасти (реально доступны не все точки)\n",
        "    x_possible_solution = alpha*new_budget/g1.price # находим точку касания без учета ограничений\n",
        "    y_possible_solution = (1-alpha)*new_budget/g2.price\n",
        "\n",
        "    x_max = budget / g1.price  # сколько максимально можно купить каждого товара без учета бесплатной части\n",
        "    y_max = budget / g2.price\n",
        "\n",
        "    # проверяем выход за границы\n",
        "    if x_possible_solution > x_max + g1.free:\n",
        "        x_solution = x_max + g1.free\n",
        "        y_solution = g2.free\n",
        "    elif g1.free <= x_possible_solution <= x_max + g1.free:\n",
        "        x_solution = x_possible_solution\n",
        "        y_solution = y_possible_solution\n",
        "    else:\n",
        "        x_solution = g1.free\n",
        "        y_solution = g2.free + y_max\n",
        "\n",
        "    return x_solution, y_solution, math.pow(x_solution, alpha)*math.pow(y_solution, 1-alpha)\n",
        "\n",
        "\n",
        "def plot_budget_Cobb_Douglas(g1: Good, g2: Good, budget, alpha=0.5):\n",
        "    x_solution, y_solution, c = budget_Cobb_Douglas_solution(g1, g2, budget, alpha)\n",
        "    \n",
        "    # строим БО по ключевым точкам\n",
        "    x_points = [0, g1.free, budget/g1.price + g1.free, budget/g1.price + g1.free] \n",
        "    y_points = [budget/g2.price  + g2.free,  budget/g2.price  + g2.free, g2.free, 0]\n",
        "\n",
        "    fig, ax = plt.subplots()\n",
        "    ax.plot(x_points, y_points, label=\"Бюджетная линия\")\n",
        "    ax.fill_between(x_points, y_points, np.zeros_like(x_points), alpha=0.5)\n",
        "    \n",
        "    new_budget = g1.price * g1.free + g2.price * g2.free + budget\n",
        "\n",
        "    x_values = np.linspace(0.1, new_budget/g1.price)\n",
        "    y_values = np.array([Cobb_Douglas(x, c, alpha) for x in x_values])\n",
        "    filter = y_values < new_budget/g2.price\n",
        "    ax.plot(x_values[filter], y_values[filter], label=\"Кривая безразличия\")\n",
        "    ax.scatter(x_solution, y_solution, label=\"Оптимальное решение\", color='green')\n",
        "    ax.plot([x_solution, 0], [y_solution, y_solution], 'k:')\n",
        "    ax.plot([x_solution, x_solution], [y_solution, 0], 'k:')\n",
        "    ax.set_xlabel(g1.name)\n",
        "    ax.set_ylabel(g2.name)\n",
        "    ax.spines['left'].set_position('zero')\n",
        "    ax.spines['right'].set_visible(False)\n",
        "    ax.spines['bottom'].set_position('zero')\n",
        "    ax.spines['top'].set_visible(False)\n",
        "    ax.axis('equal')\n",
        "    ax.legend()\n",
        "    plt.show()\n",
        "\n",
        "g1 = Good(\"Яблоки\", 6, 5)\n",
        "g2 = Good(\"Груши\", 5, 1)\n",
        "budget = 100 \n",
        "alpha = 0.4\n",
        "plot_budget_Cobb_Douglas(g1, g2, budget, alpha)"
      ]
    },
    {
      "cell_type": "code",
      "execution_count": 36,
      "metadata": {
        "colab": {
          "referenced_widgets": [
            "be82f75d91aa49f58f98dcd70b3f793e"
          ]
        },
        "id": "3Th46bXrSKxp",
        "outputId": "9d9ad42c-be7c-4886-f595-9eedad83d8c7"
      },
      "outputs": [
        {
          "data": {
            "application/vnd.jupyter.widget-view+json": {
              "model_id": "7fb03ccfd3bc4f8fb2e53e7f16688f07",
              "version_major": 2,
              "version_minor": 0
            },
            "text/plain": [
              "interactive(children=(IntSlider(value=5, description='p1', max=10, min=1), IntSlider(value=5, description='p2'…"
            ]
          },
          "metadata": {},
          "output_type": "display_data"
        }
      ],
      "source": [
        "def interactive_plot(p1, p2, f1, f2, budget, alpha):\n",
        "    g1 = Good(\"Яблоки\", p1, f1)\n",
        "    g2 = Good(\"Груши\", p2, f2)\n",
        "    plot_budget_Cobb_Douglas(g1, g2, budget, alpha);\n",
        "\n",
        "interact(interactive_plot, p1=(1, 10), p2 = (1, 10), f1 = (0,10), f2=(0,10), budget=(1,100), alpha=(0.1,0.9));"
      ]
    },
    {
      "cell_type": "markdown",
      "metadata": {
        "id": "3BfxAHmASKxp"
      },
      "source": [
        "# Модель 3"
      ]
    },
    {
      "cell_type": "markdown",
      "metadata": {
        "id": "_-760Dw5SKxp"
      },
      "source": [
        "## Описание класса. <font color=\"red\">Задание 9</font> <a id=\"task_9\"></a>"
      ]
    },
    {
      "cell_type": "markdown",
      "metadata": {
        "id": "HGQXpWzqSKxp"
      },
      "source": [
        "В данной модели у каждого товара есть следующие параметры: определено некоторое пороговое значение threshold, а также две цены - $price_1$ и $price_2$. Если количество купленного товара меньше и равна $threshold$, то каждая его единица стоит $price_1$. А каждая единица товара свыше $threshold$ стоит $price_2$.\n",
        "\n",
        "Например, если $threshold = 3$, $price_1 = 10$ и $price_2 = 5$, то:\n",
        "* 2 единицы товара стоят 20,\n",
        "* 3 единицы товара стоят 30,\n",
        "* 4 единицы товара стоят 35,\n",
        "* 5 единиц товара стоят 40."
      ]
    },
    {
      "cell_type": "markdown",
      "metadata": {
        "id": "mAn5k9HdSKxp"
      },
      "source": [
        "Создайте класс Good для товаров данной модели. Реализуйте в классе метод price(quantity), который будет находить стоимость x товаров данного вида. Реализуйте в классе метод quantity(budget), который будет находить какое количество данного товара можно приобрести за стоимость budget."
      ]
    },
    {
      "cell_type": "code",
      "execution_count": 37,
      "metadata": {
        "id": "1n6ZluTdSKxq"
      },
      "outputs": [
        {
          "name": "stdout",
          "output_type": "stream",
          "text": [
            "40\n",
            "4.0\n"
          ]
        }
      ],
      "source": [
        "# Создадим класс для товаров модели\n",
        "class Good():\n",
        "    def __init__(self, name, threshold, price1, price2):\n",
        "        self.threshold = threshold\n",
        "        self.name = name\n",
        "        self.price1 = price1\n",
        "        self.price2 = price2\n",
        "    \n",
        "    def price(self, quantity):\n",
        "        return min(self.threshold, quantity) * self.price1 + max(quantity - self.threshold, 0) * self.price2\n",
        "    \n",
        "    def quantity(self, budget):\n",
        "        price1_part = min(self.threshold, budget / self.price1) # то, сколько сможем купить по 1ой цене\n",
        "        return price1_part + (budget - self.price1 * price1_part) / self.price2\n",
        "\n",
        "\n",
        "g1 = Good(\"mango\", 3, 10, 5)\n",
        "print(g1.price(5))\n",
        "print(g1.quantity(35))\n"
      ]
    },
    {
      "cell_type": "markdown",
      "metadata": {
        "id": "fk6HiDTnSKxq"
      },
      "source": [
        "## Бюджетное ограничение. <font color=\"red\">Задание 10</font> <a id=\"task_10\"></a>"
      ]
    },
    {
      "cell_type": "markdown",
      "metadata": {
        "id": "2rrjAkfrSKxq"
      },
      "source": [
        "Напишем функцию, которая проверит удовлетворяет ли конкретная точка бюджетным ограничениям."
      ]
    },
    {
      "cell_type": "code",
      "execution_count": 38,
      "metadata": {
        "id": "nw5Uo9ZaSKxq",
        "outputId": "8216bafb-7e55-403c-e2d1-bb929d0db338"
      },
      "outputs": [
        {
          "name": "stdout",
          "output_type": "stream",
          "text": [
            "1\n",
            "0\n",
            "-1\n"
          ]
        }
      ],
      "source": [
        "def budget_test(g1: Good, g2: Good, budget, x1=0, x2=0):\n",
        "    '''\n",
        "        Проверка расположения точки (x1, x2) относительно бюджетного множества:\n",
        "        Если внутри бюджетного множества, то возвращается значение 1,\n",
        "        Если на границе бюджетного множества, то возвращается значение 0,\n",
        "        Если вне бюджетного множества, то возвращается значение -1.\n",
        "    '''\n",
        "    result = g1.price(x1) + g2.price(x2)\n",
        "    if (is_equal(result, budget)):\n",
        "        return 0\n",
        "    elif (result < budget):\n",
        "        return 1\n",
        "    else:\n",
        "        return -1\n",
        "\n",
        "g1 = Good(\"Яблоки\", 5, 10, 3)\n",
        "g2 = Good(\"Груши\", 3, 8, 3)\n",
        "budget = 86\n",
        "print(budget_test(g1, g2, budget, 5, 6))\n",
        "print(budget_test(g1, g2, budget, 6, 6))\n",
        "print(budget_test(g1, g2, budget, 6, 7))"
      ]
    },
    {
      "cell_type": "markdown",
      "metadata": {
        "id": "WLMnxdzlSKxq"
      },
      "source": [
        "## Графическое и интерактивное представление. <font color=\"red\">Задание 11.</font> <a id=\"task_11\"></a>"
      ]
    },
    {
      "cell_type": "markdown",
      "metadata": {
        "id": "u0C-CRsSSKxq"
      },
      "source": [
        "Напишите функцию, которая будет визуализировать бюджетное множество и проверяемую точку, а также по аналогии с предыдущими примерами реализуйте интерактивное представление."
      ]
    },
    {
      "cell_type": "code",
      "execution_count": 39,
      "metadata": {
        "id": "GETEiCFXSKxq"
      },
      "outputs": [
        {
          "data": {
            "image/png": "[encoded data removed]",
            "text/plain": [
              "<Figure size 640x480 with 1 Axes>"
            ]
          },
          "metadata": {},
          "output_type": "display_data"
        }
      ],
      "source": [
        "# Вся плоскость разбивается на 4 зоны с соотвествующими ценами на товары. \n",
        "#Будем строить БО по точкам, принципиально разных расположений БО по зонам всего три. Рассмотрим их:\n",
        "\n",
        "def plot_budget(g1: Good, g2: Good, budget, x, y):\n",
        "\n",
        "    y_max = g2.quantity(budget)\n",
        "    x_max = g1.quantity(budget)\n",
        "\n",
        "    if y_max > g2.threshold:\n",
        "        if g2.quantity(budget - g1.threshold * g1.price1) > g2.threshold:  # выше точки пересечения 2ух трешхолжов\n",
        "            x_points = [0, g1.threshold, g1.quantity(budget - g2.threshold * g2.price1), x_max]\n",
        "            y_points = [y_max, g2.quantity(budget - g1.threshold * g1.price1), g2.threshold, 0]\n",
        "        else: # ниже точки пересечения\n",
        "            x_points = [0, g1.quantity(budget - g2.threshold * g2.price1), g1.threshold, x_max]\n",
        "            y_points = [y_max, g2.threshold, g2.quantity(budget - g1.threshold * g1.price1), 0]\n",
        "    else: # максимальный у ниже трешхолда\n",
        "        x_points = [0, g1.threshold, x_max]\n",
        "        y_points = [y_max, g2.quantity(budget - g1.threshold * g1.price1), 0]\n",
        "\n",
        "    \n",
        "    fig, ax = plt.subplots() # Создаем фигуру\n",
        "    fig.suptitle(\"Бюджетное множество\")\n",
        "\n",
        "    filt_x_point = []\n",
        "    filt_y_point = []\n",
        "    for i in range(len(x_points)):\n",
        "        if x_points[i] >= 0 and y_points[i] >= 0:\n",
        "            filt_x_point.append(x_points[i])\n",
        "            filt_y_point.append(y_points[i])\n",
        "\n",
        "\n",
        "    ax.plot(filt_x_point, filt_y_point, label=\"Бюджетная линия\") # Строим прямую по двум точкам\n",
        "    ax.fill_between(x_points, y_points, np.zeros_like(x_points), alpha=0.5) # Заливаем область под графиком с прозрачностью (alpha) 0.5\n",
        "    \n",
        "    point_status = budget_test(g1, g2, budget, x, y) # Находим статус проверяемой точки\n",
        "\n",
        "    # В зависимости от статуса определяем цвет точки и надпись\n",
        "    if point_status == 1:\n",
        "        point_color = \"green\"\n",
        "        point_label = \"Допустимо\"\n",
        "    elif point_status == 0:\n",
        "        point_color = \"yellow\"\n",
        "        point_label = \"На границе\"\n",
        "    else: \n",
        "        point_color = \"red\"\n",
        "        point_label = \"Недопустимо\"\n",
        "    \n",
        "    ax.scatter(x, y, color=point_color, label=point_label) # Рисуем точку\n",
        "    ax.plot([x, x], [0, y], 'k:') # Добавляем вертикальную черную (k) пунктирную (:) линию к точке (x,y)\n",
        "    ax.plot([0, x], [y, y], 'k:') # Добавляем горизонтальную черную (k) пунктирную (:) линию к точке (x,y)\n",
        "    \n",
        "    # Добавляем название осей\n",
        "    ax.set_xlabel(g1.name)\n",
        "    ax.set_ylabel(g2.name)\n",
        "\n",
        "    # Сдвигаем и скрываем оси так, чтобы получились декартовы координаты\n",
        "    ax.spines['left'].set_position('zero')\n",
        "    ax.spines['right'].set_visible(False)\n",
        "    ax.spines['bottom'].set_position('zero')\n",
        "    ax.spines['top'].set_visible(False)\n",
        "    \n",
        "    ax.axis('equal') # Принудительно делаем оси равными\n",
        "    ax.legend() # Отображаем легенду (информацию о данных)\n",
        "    plt.show() # Отображаем рисунок\n",
        "\n",
        "\n",
        "g1 = Good(\"Яблоки\", 5, 10, 3)\n",
        "g2 = Good(\"Груши\", 3, 8, 3)\n",
        "budget = 86\n",
        "plot_budget(g1, g2, budget, 6, 6)\n"
      ]
    },
    {
      "cell_type": "code",
      "execution_count": 40,
      "metadata": {},
      "outputs": [
        {
          "data": {
            "application/vnd.jupyter.widget-view+json": {
              "model_id": "b488d73f6629487795053de5352eb6fd",
              "version_major": 2,
              "version_minor": 0
            },
            "text/plain": [
              "interactive(children=(IntSlider(value=5, description='t1', max=10, min=1), IntSlider(value=5, description='p11…"
            ]
          },
          "metadata": {},
          "output_type": "display_data"
        },
        {
          "data": {
            "text/plain": [
              "<function __main__.interactive_plot(t1, p11, p12, t2, p21, p22, budget, x, y)>"
            ]
          },
          "execution_count": 40,
          "metadata": {},
          "output_type": "execute_result"
        }
      ],
      "source": [
        "def interactive_plot(t1, p11, p12, t2, p21, p22, budget, x, y):\n",
        "    g1 = Good(\"Яблоки\", t1, p11, p12) # Создаем первый товар с ценой p1\n",
        "    g2 = Good(\"Груши\", t2, p21, p22) # Создаем второй товар с ценой p2\n",
        "    plot_budget(g1, g2, budget, x, y);\n",
        "\n",
        "\n",
        "interact(interactive_plot, t1=(1, 10), p11=(1, 10), p12=(1, 10), t2=(1, 10), p21 = (1, 10), p22=(1, 10), budget=(1,100), x = (1,10), y=(1,10))"
      ]
    },
    {
      "cell_type": "markdown",
      "metadata": {
        "id": "PZYpfhrCSKxq"
      },
      "source": [
        "## Обратная задача. <font color=\"red\">Задание 12</font> <a id=\"task_12\"></a>"
      ]
    },
    {
      "cell_type": "markdown",
      "metadata": {
        "id": "SYN5zD5PSKxr"
      },
      "source": [
        "Пусть нам даны четыре точки $A_1 = (a_{1,1}, a_{1,2})$, $A_2 = (a_{2,1}, a_{2,2})$, $A_3 = (a_{3,1}, a_{3,2})$ и $A_4 = (a_{4,1}, a_{4,2})$. Необходимо определить, существуют ли параметры Модели 3, т.е. значения __threshold > 0__, __price_1 > 0__ и __price_2 > 0__ для двух товаров такие, чтобы граница бюджетной линии содержала указанные точки. Если такие параметры существуют для рассматриваемой модели, то необходимо вывести параметры модели и изобразить ее бюджетное ограничение. Если таких параметров не существует, то необходимо вывести сообщение об этом.\n",
        "\n",
        "Реализуйте графический интерактивный интерфейс, визуализирующий решение данной задачи по аналогии с тем, как это сделано для Модели 1."
      ]
    },
    {
      "attachments": {},
      "cell_type": "markdown",
      "metadata": {},
      "source": [
        "В данной модели для того, чтобы существовало решение, достаточно, чтобы при сортировке точек по x по возрастанию их координаты по y наоборот строго убывали. В таком случае будем строить БО таким образом, что x-координата 2ой точки станет трешхолдом по x, y-координата 3ей точки станет трешхолдом по у, а участки БО определятся однозначно, поскольку будем брать подряд идущие пары точек и проводить через них прямую.\n",
        "\n",
        "Отнормируем  бюджет к 1, чтобы было удобнее работать. Составим систему линейных уравнений с 4 неизвестными по 4 заданным точкам, зная, что они лежат на БО:\n",
        "\n",
        "$p_x^1 x_0 + p_x^2 * 0 + p_y^1 ty + p_y^2 (y_0 - ty) = 1\\\\\n",
        "p_x^1 tx + p_x^2 * 0 + p_y^1 ty + p_y^2 (y_1 - ty) = 1\\\\\n",
        "p_x^1 tx + p_x^2 (x_2 - tx) + p_y^1 ty + p_y^2 * 0 = 1\\\\\n",
        "p_x^1 tx + p_x^2 (x_3 - tx) + p_y^1 y_3 + p_y^2 * 0 = 1$\n",
        "\n",
        "Составим матрицу из данных коэффициентов:\n",
        "\n",
        "$$\n",
        "\\begin{pmatrix}\n",
        "    x_0 & 0 & ty & (y_0 - ty) \\\\\n",
        "    tx & 0 & ty & (y_1 - ty) \\\\\n",
        "    tx & (x_2 - tx) & ty & 0 \\\\\n",
        "    tx & (x_3 - tx) & y_3 & 0\n",
        "\\end{pmatrix}\n",
        "\\begin{pmatrix}\n",
        "    p_x^1 \\\\\n",
        "    p_x^2 \\\\\n",
        "    p_y^1 \\\\\n",
        "    p_y^2\n",
        "\\end{pmatrix}\n",
        "= \n",
        "\\begin{pmatrix}\n",
        "    1 \\\\\n",
        "    1 \\\\\n",
        "    1 \\\\\n",
        "    1\n",
        "\\end{pmatrix}\n",
        "$$\n",
        "\n",
        "$X = A^{-1}b$"
      ]
    },
    {
      "cell_type": "code",
      "execution_count": 41,
      "metadata": {
        "id": "pccJMm1vSKxr"
      },
      "outputs": [
        {
          "data": {
            "image/png": "[encoded data removed]",
            "text/plain": [
              "<Figure size 640x480 with 1 Axes>"
            ]
          },
          "metadata": {},
          "output_type": "display_data"
        }
      ],
      "source": [
        "\n",
        "def plot_goods_parameters(points):\n",
        "    fig, ax = plt.subplots() # Создаем фигуру\n",
        "\n",
        "    set_points = set(points) # обрабатываем случай, когда точки накладываются\n",
        "    sorted_set_points = sorted(set_points, key=lambda x : (x[0], -x[1]))\n",
        "    sorted_points = sorted(points, key=lambda x : (x[0], -x[1]))\n",
        "\n",
        "    points = np.array(points)  # оставляем изначальные точки для нанесения на график\n",
        "    x_values_real = points.T[0]\n",
        "    y_values_real = points.T[1]\n",
        "    \n",
        "    f = 1  # 1 - существует БО при заданных точках, 0 - не существует\n",
        "\n",
        "    for i in range(len(sorted_set_points) - 1):\n",
        "        if not (sorted_set_points[i][1] > sorted_set_points[i + 1][1]):\n",
        "            f = 0 # проверяем, что после сортировки по x-координате, по y-координате точки убывают\n",
        "\n",
        "    # обрабатываем склеивающиеся точки\n",
        "    if len(sorted_set_points) == 3:\n",
        "        set_points.add(((sorted_set_points[0][0] + sorted_set_points[1][0]) / 2, (sorted_set_points[0][1] + sorted_set_points[1][1]) / 2))\n",
        "        sorted_set_points = sorted(set_points)\n",
        "    elif len(sorted_set_points) == 2:\n",
        "        set_points.add(((sorted_set_points[0][0] + sorted_set_points[1][0]) / 2, (sorted_set_points[0][1] + sorted_set_points[1][1]) / 2))\n",
        "        sorted_set_points = sorted(set_points, key=lambda x : (x[0], -x[1]))\n",
        "        set_points.add(((sorted_set_points[0][0] + sorted_set_points[1][0]) / 2, (sorted_set_points[0][1] + sorted_set_points[1][1]) / 2))\n",
        "        sorted_set_points = sorted(set_points, key=lambda x : (x[0], -x[1]))\n",
        "    elif len(sorted_set_points) == 1:\n",
        "        if sorted_set_points[0][1] == 0:\n",
        "            set_points.add((sorted_set_points[0][0] - 0.5, sorted_set_points[0][1] + 0.5))\n",
        "        else:\n",
        "            set_points.add((sorted_set_points[0][0] + 0.5, sorted_set_points[0][1] - 0.5))\n",
        "        sorted_set_points = sorted(set_points, key=lambda x : (x[0], -x[1]))\n",
        "        set_points.add(((sorted_set_points[0][0] + sorted_set_points[1][0]) / 2, (sorted_set_points[0][1] + sorted_set_points[1][1]) / 2))\n",
        "        sorted_set_points = sorted(set_points, key=lambda x : (x[0], -x[1]))\n",
        "        set_points.add(((sorted_set_points[0][0] + sorted_set_points[1][0]) / 2, (sorted_set_points[0][1] + sorted_set_points[1][1]) / 2))\n",
        "        sorted_set_points = sorted(set_points, key=lambda x : (x[0], -x[1]))\n",
        "\n",
        "\n",
        "    sorted_points = np.array(sorted_set_points)\n",
        "    x_values = sorted_points.T[0]\n",
        "    y_values = sorted_points.T[1]\n",
        "\n",
        "    if f:\n",
        "        tx = x_values[1]\n",
        "        ty = y_values[2]\n",
        "        \n",
        "        a = [[x_values[0], 0, ty, (y_values[0] - ty)], [tx, 0, ty, (y_values[1] - ty)], [tx, (x_values[2] - tx), ty, 0], [tx, (x_values[3] - tx), y_values[3], 0]]\n",
        "        try:\n",
        "            p = np.linalg.inv(a) @ np.ones(4)\n",
        "            if min(p) <= 0:\n",
        "                f = 0\n",
        "        except:\n",
        "            f = 0\n",
        "\n",
        "    ax.scatter(x_values_real, y_values_real, label=\"Заданные точки\", color=\"green\")      \n",
        "    ax.axis('equal') # Принудительно делаем оси равными\n",
        "\n",
        "    if f == 0:\n",
        "        fig.suptitle(\"Модель не предусматривает решения\")\n",
        "    else:\n",
        "        fig.suptitle(\"Бюджетное множество\")\n",
        "        g1 = Good(\"Яблоки\", tx, p[0], p[1]) # Создаем первый товар с ценой p1\n",
        "        g2 = Good(\"Груши\", ty, p[2], p[3]) \n",
        "        budget = 1\n",
        "        \n",
        "        # рассматриваем 3 случая прохождения через 4 ценовые зоны\n",
        "        y_max = g2.quantity(budget)\n",
        "        x_max = g1.quantity(budget)\n",
        "        if y_max > g2.threshold:\n",
        "            if g2.quantity(budget - g1.threshold * g1.price1) > g2.threshold:\n",
        "                x_points = [0, g1.threshold, g1.quantity(budget - g2.threshold * g2.price1), x_max]\n",
        "                y_points = [y_max, g2.quantity(budget - g1.threshold * g1.price1), g2.threshold, 0]\n",
        "            else:\n",
        "                x_points = [0, g1.quantity(budget - g2.threshold * g2.price1), g1.threshold, x_max]\n",
        "                y_points = [y_max, g2.threshold, g2.quantity(budget - g1.threshold * g1.price1), 0]\n",
        "        else:\n",
        "            x_points = [0, g1.threshold, x_max]\n",
        "            y_points = [y_max, g2.quantity(budget - g1.threshold * g1.price1), 0]\n",
        "\n",
        "        filt_x_point = []\n",
        "        filt_y_point = []\n",
        "        for i in range(len(x_points)):\n",
        "            if x_points[i] >= 0 and y_points[i] >= 0:\n",
        "                filt_x_point.append(x_points[i])\n",
        "                filt_y_point.append(y_points[i])\n",
        "\n",
        "\n",
        "        ax.plot(filt_x_point, filt_y_point, label=\"Бюджетная линия\") # Строим прямую по двум точкам\n",
        "        ax.fill_between(x_points, y_points, np.zeros_like(x_points), alpha=0.5) # Заливаем область под графиком с прозрачностью (alpha) 0.5\n",
        "        \n",
        "        ax.set_xlabel(g1.name)\n",
        "        ax.set_ylabel(g2.name)\n",
        "        \n",
        "        ax.spines['left'].set_position('zero')\n",
        "        ax.spines['right'].set_visible(False)\n",
        "        ax.spines['bottom'].set_position('zero')\n",
        "        ax.spines['top'].set_visible(False)\n",
        "\n",
        "    ax.legend() # Отображаем легенду (информацию о данных)\n",
        "    plt.show()\n",
        "\n",
        "points = [(1, 7), (2, 5), (3, 4), (7, 3)]\n",
        "plot_goods_parameters(points)\n"
      ]
    },
    {
      "cell_type": "code",
      "execution_count": 42,
      "metadata": {},
      "outputs": [
        {
          "data": {
            "application/vnd.jupyter.widget-view+json": {
              "model_id": "91d6d03d9c7843b0a60584dea8fce952",
              "version_major": 2,
              "version_minor": 0
            },
            "text/plain": [
              "interactive(children=(IntSlider(value=5, description='a11', max=10, min=1), IntSlider(value=5, description='a1…"
            ]
          },
          "metadata": {},
          "output_type": "display_data"
        }
      ],
      "source": [
        "def interactive_plot(a11, a12, a21, a22, a31, a32, a41, a42):\n",
        "    list_of_points = [\n",
        "        (a11, a12),\n",
        "        (a21, a22),\n",
        "        (a31, a32),\n",
        "        (a41, a42)\n",
        "    ]\n",
        "    plot_goods_parameters(list_of_points)\n",
        "\n",
        "interact(interactive_plot, a11=(1, 10), a12 = (1, 10), a21=(1, 10), a22 = (1, 10),a31 = (1, 10), a32 = (1, 10), a41 = (1, 10), a42 = (1, 10));"
      ]
    },
    {
      "cell_type": "markdown",
      "metadata": {
        "id": "VTpyRyFHSKxr"
      },
      "source": [
        "## Кривые безразличия. <font color=\"red\">Задание 13</font> <a id=\"task_13\"></a>"
      ]
    },
    {
      "cell_type": "markdown",
      "metadata": {
        "id": "2htSNbtaSKxr"
      },
      "source": [
        "Для двух товаров из Модели 3 и кривой безразличия функции полезности Кобба-Дугласа найдите оптимальное решение и визуализируйте его при помощи интерактивного виджета.\n",
        "\n",
        "Опишите, чем качественно ситуация с Моделью 3 отличается от ситуации с Моделями 1 и 2. Приведите примеры параметров Модели 3, которые демонстрируют данные различия."
      ]
    },
    {
      "cell_type": "code",
      "execution_count": 56,
      "metadata": {
        "id": "3Rh_v6-We1uX"
      },
      "outputs": [
        {
          "data": {
            "image/png": "[encoded data removed]",
            "text/plain": [
              "<Figure size 640x480 with 1 Axes>"
            ]
          },
          "metadata": {},
          "output_type": "display_data"
        }
      ],
      "source": [
        "def Cobb_Douglas(x, c, alpha=0.9):\n",
        "    # Выразим в явном виде y как функцию от x\n",
        "    return math.pow(x, -alpha/(1-alpha))*math.pow(c, 1/(1-alpha))\n",
        "\n",
        "\n",
        "# находим такой бюджет, какой необходимо было бы иметь, чтобы при константных ценах БО проходило через заданную точку\n",
        "def new_budget(x0, y0, px, py):\n",
        "    return x0 * px + y0 * py\n",
        "\n",
        "\n",
        "# поиск решения для лиинейного БО и полезности Кобба-Дугласа с заданными ценами и ограничениями\n",
        "def solution(alpha, budget, price_x, price_y, xtl, xtr, ytu, ytd):  # xtr, xtl - ограничения линейного участка на х, ytu, ytd - ограничения на y\n",
        "    xs = alpha*budget/price_x\n",
        "    ys =  (1-alpha)*budget/price_y\n",
        "\n",
        "    # проверяем выход за границы\n",
        "    if xs < xtl:\n",
        "        xs = xtl\n",
        "        ys = ytu\n",
        "    elif xs > xtr:\n",
        "        xs = xtr\n",
        "        ys = ytd\n",
        "\n",
        "    return xs, ys, math.pow(xs, alpha)*math.pow(ys, 1-alpha)\n",
        "\n",
        "\n",
        "def budget_Cobb_Douglas_solution(g1, g2, budget, alpha=0.5):\n",
        "    y_max = g2.quantity(budget)\n",
        "    x_max = g1.quantity(budget)\n",
        "\n",
        "    # рассматриваем 3 случая прохождения через 4 ценовые зоны\n",
        "    if y_max > g2.threshold:\n",
        "        if g2.quantity(budget - g1.threshold * g1.price1) > g2.threshold:\n",
        "            x_points = [0, g1.threshold, g1.quantity(budget - g2.threshold * g2.price1), x_max]\n",
        "            y_points = [y_max, g2.quantity(budget - g1.threshold * g1.price1), g2.threshold, 0]\n",
        "\n",
        "            # оставляем точки только с положительными координатами\n",
        "            filt_x_point = []\n",
        "            filt_y_point = []\n",
        "            for i in range(len(x_points)):\n",
        "                if x_points[i] >= 0 and y_points[i] >= 0:\n",
        "                    filt_x_point.append(x_points[i])\n",
        "                    filt_y_point.append(y_points[i])\n",
        "                        \n",
        "            x_points = filt_x_point\n",
        "            y_points = filt_y_point\n",
        "\n",
        "            # добавляем \"псевдо-точку\", чтобы не рассматривать угловые случаи\n",
        "            if len(x_points) < 4:\n",
        "                x_points.append(x_points[-1])\n",
        "                y_points.append(y_points[-1])\n",
        "                \n",
        "            # находим оптимальную точку на каждом куске БО (точку касания)\n",
        "\n",
        "            new_budget1 = new_budget(x_points[0], y_points[0], g1.price1, g2.price2)\n",
        "            x_sol1, y_sol1, c1 = solution(alpha, new_budget1, g1.price1, g2.price2, x_points[0], x_points[1], y_points[0], y_points[1])\n",
        "\n",
        "            new_budget2 = new_budget(x_points[1], y_points[1], g1.price2, g2.price2)\n",
        "            x_sol2, y_sol2, c2 = solution(alpha, new_budget2, g1.price2, g2.price2, x_points[1], x_points[2], y_points[1], y_points[2])\n",
        "\n",
        "            new_budget3 = new_budget(x_points[2], y_points[2], g1.price2, g2.price1)\n",
        "            x_sol3, y_sol3, c3 = solution(alpha, new_budget3, g1.price2, g2.price1, x_points[2], x_points[3], y_points[2], y_points[3])\n",
        "\n",
        "            max_c = max([c1, c2, c3])  # выбираем участок с максимальным уровнем полезности\n",
        "          \n",
        "            ans = set()\n",
        "\n",
        "            # отбираем участки с максимальным уровнем полезности\n",
        "            if is_equal(c1, max_c):\n",
        "                ans.add((x_sol1, y_sol1))\n",
        "            if is_equal(c2, max_c):\n",
        "                ans.add((x_sol2, y_sol2))\n",
        "            if is_equal(c3, max_c):\n",
        "                ans.add((x_sol3, y_sol3))\n",
        "\n",
        "            return ans, max_c\n",
        "        \n",
        "        else: # аналогично для другого расположения БО\n",
        "            x_points = [0, g1.quantity(budget - g2.threshold * g2.price1), g1.threshold, x_max]\n",
        "            y_points = [y_max, g2.threshold, g2.quantity(budget - g1.threshold * g1.price1), 0]\n",
        "\n",
        "            # оставляем точки только с положительными координатами\n",
        "            filt_x_point = []\n",
        "            filt_y_point = []\n",
        "            for i in range(len(x_points)):\n",
        "                if x_points[i] >= 0 and y_points[i] >= 0:\n",
        "                    filt_x_point.append(x_points[i])\n",
        "                    filt_y_point.append(y_points[i])\n",
        "                        \n",
        "            x_points = filt_x_point\n",
        "            y_points = filt_y_point\n",
        "\n",
        "            # добавляем \"псевдо-точку\", чтобы не рассматривать угловые случаи\n",
        "            if len(x_points) < 4:\n",
        "                x_points.append(x_points[-1])\n",
        "                y_points.append(y_points[-1])\n",
        "\n",
        "            new_budget1 = new_budget(x_points[0], y_points[0], g1.price1, g2.price2)\n",
        "            x_sol1, y_sol1, c1 = solution(alpha, new_budget1, g1.price1, g2.price2, x_points[0], x_points[1], y_points[0], y_points[1])\n",
        "\n",
        "            new_budget2 = new_budget(x_points[1], y_points[1], g1.price1, g2.price1)\n",
        "            x_sol2, y_sol2, c2 = solution(alpha, new_budget2, g1.price1, g2.price1, x_points[1], x_points[2], y_points[1], y_points[2])\n",
        "\n",
        "            new_budget3 = new_budget(x_points[2], y_points[2], g1.price2, g2.price1)\n",
        "            x_sol3, y_sol3, c3 = solution(alpha, new_budget3, g1.price2, g2.price1, x_points[2], x_points[3], y_points[2], y_points[3])\n",
        "\n",
        "            max_c = max([c1, c2, c3])  # выбираем участок с максимальным уровнем полезности\n",
        "            ans = set()\n",
        "            \n",
        "            # отбираем участки с максимальным уровнем полезности\n",
        "            if is_equal(c1, max_c):\n",
        "                ans.add((x_sol1, y_sol1))\n",
        "            if is_equal(c2, max_c):\n",
        "                ans.add((x_sol2, y_sol2))\n",
        "            if is_equal(c3, max_c):\n",
        "                ans.add((x_sol3, y_sol3))\n",
        "            \n",
        "            return ans, max_c\n",
        "\n",
        "    else: # аналогично для 3его расположения БО\n",
        "        x_points = [0, g1.threshold, x_max]\n",
        "        y_points = [y_max, g2.quantity(budget - g1.threshold * g1.price1), 0]\n",
        "\n",
        "        # оставляем точки только с положительными координатами\n",
        "        filt_x_point = []\n",
        "        filt_y_point = []\n",
        "        for i in range(len(x_points)):\n",
        "            if x_points[i] >= 0 and y_points[i] >= 0:\n",
        "                filt_x_point.append(x_points[i])\n",
        "                filt_y_point.append(y_points[i])\n",
        "                    \n",
        "        x_points = filt_x_point\n",
        "        y_points = filt_y_point\n",
        "\n",
        "        # добавляем \"псевдо-точку\", чтобы не рассматривать угловые случаи\n",
        "        if len(x_points) < 3:\n",
        "            x_points.append(x_points[-1])\n",
        "            y_points.append(y_points[-1])\n",
        "\n",
        "        new_budget1 = new_budget(x_points[0], y_points[0], g1.price1, g2.price1)\n",
        "        x_sol1, y_sol1, c1 = solution(alpha, new_budget1, g1.price1, g2.price1, x_points[0], x_points[1], y_points[0], y_points[1])\n",
        "\n",
        "        new_budget2 = new_budget(x_points[1], y_points[1], g1.price2, g2.price1)\n",
        "        x_sol2, y_sol2, c2 = solution(alpha, new_budget2, g1.price2, g2.price1, x_points[1], x_points[2], y_points[1], y_points[2])\n",
        "\n",
        "        max_c = max([c1, c2])  # выбираем участок с максимальным уровнем полезности\n",
        "        ans = set()\n",
        "        \n",
        "        if is_equal(c1, max_c):\n",
        "            ans.add((x_sol1, y_sol1))\n",
        "        if is_equal(c2, max_c):\n",
        "            ans.add((x_sol2, y_sol2))\n",
        "        \n",
        "        return ans, max_c\n",
        "\n",
        "def plot_budget_Cobb_Douglas(g1: Good, g2: Good, budget, alpha=0.5):\n",
        "\n",
        "    sol_list, c = budget_Cobb_Douglas_solution(g1, g2, budget, alpha)\n",
        "    sol_list = sorted(sol_list)\n",
        "    \n",
        "    # рассматриваем 3 случая прохождения через 4 ценовые зоны\n",
        "    y_max = g2.quantity(budget)\n",
        "    x_max = g1.quantity(budget)\n",
        "    if y_max > g2.threshold:\n",
        "        if g2.quantity(budget - g1.threshold * g1.price1) > g2.threshold:\n",
        "            x_points = [0, g1.threshold, g1.quantity(budget - g2.threshold * g2.price1), x_max]\n",
        "            y_points = [y_max, g2.quantity(budget - g1.threshold * g1.price1), g2.threshold, 0]\n",
        "        else:\n",
        "            x_points = [0, g1.quantity(budget - g2.threshold * g2.price1), g1.threshold, x_max]\n",
        "            y_points = [y_max, g2.threshold, g2.quantity(budget - g1.threshold * g1.price1), 0]\n",
        "    else:\n",
        "        x_points = [0, g1.threshold, x_max]\n",
        "        y_points = [y_max, g2.quantity(budget - g1.threshold * g1.price1), 0]\n",
        "\n",
        "\n",
        "    fig, ax = plt.subplots() # Создаем фигуру\n",
        "    fig.suptitle(\"Бюджетное множество\")\n",
        "\n",
        "    filt_x_point = []\n",
        "    filt_y_point = []\n",
        "    for i in range(len(x_points)):\n",
        "        if x_points[i] >= 0 and y_points[i] >= 0:\n",
        "            filt_x_point.append(x_points[i])\n",
        "            filt_y_point.append(y_points[i])\n",
        "\n",
        "\n",
        "    ax.plot(filt_x_point, filt_y_point, label=\"Бюджетная линия\") # Строим прямую по двум точкам\n",
        "    ax.fill_between(x_points, y_points, np.zeros_like(x_points), alpha=0.5) # Заливаем область под графиком с прозрачностью (alpha) 0.5\n",
        "\n",
        "\n",
        "    x_values = np.linspace(0.1, g1.quantity(budget))\n",
        "    y_values = np.array([Cobb_Douglas(x, c, alpha) for x in x_values])\n",
        "    filter = y_values < g2.quantity(budget)\n",
        "    ax.plot(x_values[filter], y_values[filter], label=\"Кривая безразличия\")\n",
        "    for i in range(len(sol_list)):\n",
        "        x_solution = sol_list[i][0]\n",
        "        y_solution = sol_list[i][1]\n",
        "        ax.scatter(x_solution, y_solution, label=\"Оптимальное решение\", color='green')\n",
        "        ax.plot([x_solution, 0], [y_solution, y_solution], 'k:')\n",
        "        ax.plot([x_solution, x_solution], [y_solution, 0], 'k:')\n",
        "   \n",
        "    ax.set_xlabel(g1.name)\n",
        "    ax.set_ylabel(g2.name)\n",
        "    ax.spines['left'].set_position('zero')\n",
        "    ax.spines['right'].set_visible(False)\n",
        "    ax.spines['bottom'].set_position('zero')\n",
        "    ax.spines['top'].set_visible(False)\n",
        "    ax.axis('equal')\n",
        "    ax.legend()\n",
        "    plt.show()\n",
        "\n",
        "g1 = Good(\"Яблоки\", 2, 10, 3)\n",
        "g2 = Good(\"Груши\", 3, 10, 5)\n",
        "budget = 50\n",
        "alpha = 0.5\n",
        "plot_budget_Cobb_Douglas(g1, g2, budget, alpha)"
      ]
    },
    {
      "cell_type": "code",
      "execution_count": 50,
      "metadata": {},
      "outputs": [
        {
          "data": {
            "application/vnd.jupyter.widget-view+json": {
              "model_id": "4783c4126e5b4f0e8ef924ad039ff1b8",
              "version_major": 2,
              "version_minor": 0
            },
            "text/plain": [
              "interactive(children=(IntSlider(value=5, description='t1', max=10, min=1), IntSlider(value=5, description='p11…"
            ]
          },
          "metadata": {},
          "output_type": "display_data"
        },
        {
          "data": {
            "text/plain": [
              "<function __main__.interactive_plot(t1, p11, p12, t2, p21, p22, budget, alpha)>"
            ]
          },
          "execution_count": 50,
          "metadata": {},
          "output_type": "execute_result"
        }
      ],
      "source": [
        "def interactive_plot(t1, p11, p12, t2, p21, p22, budget, alpha):\n",
        "    g1 = Good(\"Яблоки\", t1, p11, p12) # Создаем первый товар с ценой p1\n",
        "    g2 = Good(\"Груши\", t2, p21, p22) # Создаем второй товар с ценой p2\n",
        "    plot_budget_Cobb_Douglas(g1, g2, budget, alpha);\n",
        "\n",
        "\n",
        "interact(interactive_plot, t1=(1, 10), p11=(1, 10), p12=(1, 10), t2=(1, 10), p21 = (1, 10), p22=(1, 10), budget=(1,100),alpha=(0.1,0.9))"
      ]
    },
    {
      "attachments": {},
      "cell_type": "markdown",
      "metadata": {},
      "source": [
        "Качественно модель отличается тем, что бюджетное ограничение может стать выпуклым при некоторых значениях параметров. Это означает, что альтернативные издержки покупки блага х, например, могут упасть при увеличении количества приобретаемого блага. В связи с этим, может быть так, что оптимумов несколько. Пример:"
      ]
    },
    {
      "cell_type": "code",
      "execution_count": 55,
      "metadata": {},
      "outputs": [
        {
          "data": {
            "image/png": "[encoded data removed]",
            "text/plain": [
              "<Figure size 640x480 with 1 Axes>"
            ]
          },
          "metadata": {},
          "output_type": "display_data"
        }
      ],
      "source": [
        "g1 = Good(\"Яблоки\", 2, 10, 5.04)\n",
        "g2 = Good(\"Груши\", 3, 10, 2.24)\n",
        "budget = 50\n",
        "alpha = 0.5\n",
        "plot_budget_Cobb_Douglas(g1, g2, budget, alpha)"
      ]
    },
    {
      "cell_type": "code",
      "execution_count": 53,
      "metadata": {},
      "outputs": [
        {
          "name": "stdout",
          "output_type": "stream",
          "text": [
            "504 224\n"
          ]
        }
      ],
      "source": [
        "# Подбор параметров для нескольких оптимумов\n",
        "# t1 = 2\n",
        "# t2 = 3\n",
        "# budget = 50\n",
        "# alpha = 0.5\n",
        "# p11 = 10\n",
        "# p21 = 10\n",
        "# for p12 in range(500, 800):\n",
        "#     for p22 in range(200, 600):\n",
        "#         g1 = Good(\"x\", t1, p11, p12 / 100)\n",
        "#         g2 = Good(\"y\", t2, p21, p22 / 100)\n",
        "#         a, mu = budget_Cobb_Douglas_solution(g1, g2, budget, alpha)\n",
        "#         if len(a) > 1:\n",
        "#             print(p12, p22)\n",
        "#             break\n",
        "#     else:\n",
        "#         continue # продолжаем, если внутренний цикл не был прерван\n",
        "#     break # внутренний цикл был прерван, \n",
        "# else:\n",
        "#     print('nothing')"
      ]
    }
  ],
  "metadata": {
    "colab": {
      "provenance": []
    },
    "kernelspec": {
      "display_name": "Python 3 (ipykernel)",
      "language": "python",
      "name": "python3"
    },
    "language_info": {
      "codemirror_mode": {
        "name": "ipython",
        "version": 3
      },
      "file_extension": ".py",
      "mimetype": "text/x-python",
      "name": "python",
      "nbconvert_exporter": "python",
      "pygments_lexer": "ipython3",
      "version": "3.9.13"
    },
    "widgets": {
      "application/vnd.jupyter.widget-state+json": {
        "0178962185cc4dbe963a733cb67cfabe": {
          "model_module": "@jupyter-widgets/controls",
          "model_module_version": "1.5.0",
          "model_name": "VBoxModel",
          "state": {
            "_dom_classes": [
              "widget-interact"
            ],
            "_model_module": "@jupyter-widgets/controls",
            "_model_module_version": "1.5.0",
            "_model_name": "VBoxModel",
            "_view_count": null,
            "_view_module": "@jupyter-widgets/controls",
            "_view_module_version": "1.5.0",
            "_view_name": "VBoxView",
            "box_style": "",
            "children": [
              "IPY_MODEL_b2654e5916c14ed1aff622fa8253dc1b",
              "IPY_MODEL_3b51672ad9484d6da8bccb25176c1392",
              "IPY_MODEL_621485f74fdd43c19c7258deefb18380",
              "IPY_MODEL_a621f7dbf61a46ef87f51aae47aecd74",
              "IPY_MODEL_644c0dcd0afb4e93982ca95cc2749129"
            ],
            "layout": "IPY_MODEL_8a6ff1b0d99a4a6ea9bc0d5aac59b12e"
          }
        },
        "04ddda1f7cc54f30a047430001352640": {
          "model_module": "@jupyter-widgets/base",
          "model_module_version": "1.2.0",
          "model_name": "LayoutModel",
          "state": {
            "_model_module": "@jupyter-widgets/base",
            "_model_module_version": "1.2.0",
            "_model_name": "LayoutModel",
            "_view_count": null,
            "_view_module": "@jupyter-widgets/base",
            "_view_module_version": "1.2.0",
            "_view_name": "LayoutView",
            "align_content": null,
            "align_items": null,
            "align_self": null,
            "border": null,
            "bottom": null,
            "display": null,
            "flex": null,
            "flex_flow": null,
            "grid_area": null,
            "grid_auto_columns": null,
            "grid_auto_flow": null,
            "grid_auto_rows": null,
            "grid_column": null,
            "grid_gap": null,
            "grid_row": null,
            "grid_template_areas": null,
            "grid_template_columns": null,
            "grid_template_rows": null,
            "height": null,
            "justify_content": null,
            "justify_items": null,
            "left": null,
            "margin": null,
            "max_height": null,
            "max_width": null,
            "min_height": null,
            "min_width": null,
            "object_fit": null,
            "object_position": null,
            "order": null,
            "overflow": null,
            "overflow_x": null,
            "overflow_y": null,
            "padding": null,
            "right": null,
            "top": null,
            "visibility": null,
            "width": null
          }
        },
        "056182ff2ad3460ab97beac7c9722228": {
          "model_module": "@jupyter-widgets/controls",
          "model_module_version": "1.5.0",
          "model_name": "IntSliderModel",
          "state": {
            "_dom_classes": [],
            "_model_module": "@jupyter-widgets/controls",
            "_model_module_version": "1.5.0",
            "_model_name": "IntSliderModel",
            "_view_count": null,
            "_view_module": "@jupyter-widgets/controls",
            "_view_module_version": "1.5.0",
            "_view_name": "IntSliderView",
            "continuous_update": true,
            "description": "budget",
            "description_tooltip": null,
            "disabled": false,
            "layout": "IPY_MODEL_141f28d0f52640e6a271b1b1667c03bc",
            "max": 100,
            "min": 1,
            "orientation": "horizontal",
            "readout": true,
            "readout_format": "d",
            "step": 1,
            "style": "IPY_MODEL_b0b03f14175947f49d3f83414b10801d",
            "value": 50
          }
        },
        "097807d0bf0e46ffb4803f04b419e593": {
          "model_module": "@jupyter-widgets/controls",
          "model_module_version": "1.5.0",
          "model_name": "IntSliderModel",
          "state": {
            "_dom_classes": [],
            "_model_module": "@jupyter-widgets/controls",
            "_model_module_version": "1.5.0",
            "_model_name": "IntSliderModel",
            "_view_count": null,
            "_view_module": "@jupyter-widgets/controls",
            "_view_module_version": "1.5.0",
            "_view_name": "IntSliderView",
            "continuous_update": true,
            "description": "p1",
            "description_tooltip": null,
            "disabled": false,
            "layout": "IPY_MODEL_f435c01eafbc49fab79f712d0dfb79a9",
            "max": 10,
            "min": 1,
            "orientation": "horizontal",
            "readout": true,
            "readout_format": "d",
            "step": 1,
            "style": "IPY_MODEL_23f40b5c38334bc29923a77c7a574de6",
            "value": 5
          }
        },
        "09d045591a434f1abcae0e9534f251d0": {
          "model_module": "@jupyter-widgets/controls",
          "model_module_version": "1.5.0",
          "model_name": "IntSliderModel",
          "state": {
            "_dom_classes": [],
            "_model_module": "@jupyter-widgets/controls",
            "_model_module_version": "1.5.0",
            "_model_name": "IntSliderModel",
            "_view_count": null,
            "_view_module": "@jupyter-widgets/controls",
            "_view_module_version": "1.5.0",
            "_view_name": "IntSliderView",
            "continuous_update": true,
            "description": "f1",
            "description_tooltip": null,
            "disabled": false,
            "layout": "IPY_MODEL_1b2c84be656643668572acc1ab4395cd",
            "max": 10,
            "min": 0,
            "orientation": "horizontal",
            "readout": true,
            "readout_format": "d",
            "step": 1,
            "style": "IPY_MODEL_d364d4a8bf1f403ca899c457a2d082e9",
            "value": 5
          }
        },
        "0a6442927acf405d946b574f08c1cf0b": {
          "model_module": "@jupyter-widgets/controls",
          "model_module_version": "1.5.0",
          "model_name": "VBoxModel",
          "state": {
            "_dom_classes": [
              "widget-interact"
            ],
            "_model_module": "@jupyter-widgets/controls",
            "_model_module_version": "1.5.0",
            "_model_name": "VBoxModel",
            "_view_count": null,
            "_view_module": "@jupyter-widgets/controls",
            "_view_module_version": "1.5.0",
            "_view_name": "VBoxView",
            "box_style": "",
            "children": [
              "IPY_MODEL_097807d0bf0e46ffb4803f04b419e593",
              "IPY_MODEL_0df1212f8e7e44d9a13caf261569addc",
              "IPY_MODEL_056182ff2ad3460ab97beac7c9722228",
              "IPY_MODEL_e568ceefe63843aeb71c3a4d63ecfa7f",
              "IPY_MODEL_eeb8a8f20d564ae0983dd83b40537184",
              "IPY_MODEL_3e921db669ec4450956c8b581bcc7944"
            ],
            "layout": "IPY_MODEL_e14e8379980d40aca59e473a50a200f3"
          }
        },
        "0df1212f8e7e44d9a13caf261569addc": {
          "model_module": "@jupyter-widgets/controls",
          "model_module_version": "1.5.0",
          "model_name": "IntSliderModel",
          "state": {
            "_dom_classes": [],
            "_model_module": "@jupyter-widgets/controls",
            "_model_module_version": "1.5.0",
            "_model_name": "IntSliderModel",
            "_view_count": null,
            "_view_module": "@jupyter-widgets/controls",
            "_view_module_version": "1.5.0",
            "_view_name": "IntSliderView",
            "continuous_update": true,
            "description": "p2",
            "description_tooltip": null,
            "disabled": false,
            "layout": "IPY_MODEL_7cde281ca1b042c5821ca795ccc59d2e",
            "max": 10,
            "min": 1,
            "orientation": "horizontal",
            "readout": true,
            "readout_format": "d",
            "step": 1,
            "style": "IPY_MODEL_9ff4a55ca19a4a6f973592db2723883e",
            "value": 5
          }
        },
        "11491230a1884b15823fa65a36fe1dbc": {
          "model_module": "@jupyter-widgets/base",
          "model_module_version": "1.2.0",
          "model_name": "LayoutModel",
          "state": {
            "_model_module": "@jupyter-widgets/base",
            "_model_module_version": "1.2.0",
            "_model_name": "LayoutModel",
            "_view_count": null,
            "_view_module": "@jupyter-widgets/base",
            "_view_module_version": "1.2.0",
            "_view_name": "LayoutView",
            "align_content": null,
            "align_items": null,
            "align_self": null,
            "border": null,
            "bottom": null,
            "display": null,
            "flex": null,
            "flex_flow": null,
            "grid_area": null,
            "grid_auto_columns": null,
            "grid_auto_flow": null,
            "grid_auto_rows": null,
            "grid_column": null,
            "grid_gap": null,
            "grid_row": null,
            "grid_template_areas": null,
            "grid_template_columns": null,
            "grid_template_rows": null,
            "height": null,
            "justify_content": null,
            "justify_items": null,
            "left": null,
            "margin": null,
            "max_height": null,
            "max_width": null,
            "min_height": null,
            "min_width": null,
            "object_fit": null,
            "object_position": null,
            "order": null,
            "overflow": null,
            "overflow_x": null,
            "overflow_y": null,
            "padding": null,
            "right": null,
            "top": null,
            "visibility": null,
            "width": null
          }
        },
        "1198e8b5603247e79f29674fb730a787": {
          "model_module": "@jupyter-widgets/controls",
          "model_module_version": "1.5.0",
          "model_name": "IntSliderModel",
          "state": {
            "_dom_classes": [],
            "_model_module": "@jupyter-widgets/controls",
            "_model_module_version": "1.5.0",
            "_model_name": "IntSliderModel",
            "_view_count": null,
            "_view_module": "@jupyter-widgets/controls",
            "_view_module_version": "1.5.0",
            "_view_name": "IntSliderView",
            "continuous_update": true,
            "description": "p1",
            "description_tooltip": null,
            "disabled": false,
            "layout": "IPY_MODEL_83ea1d5a23ef43d2aa5b02484c0d79cf",
            "max": 10,
            "min": 1,
            "orientation": "horizontal",
            "readout": true,
            "readout_format": "d",
            "step": 1,
            "style": "IPY_MODEL_dbabb111657249c18dd10746e5b011c8",
            "value": 5
          }
        },
        "1300d85d3a984f9ca50f7dded11d8d66": {
          "model_module": "@jupyter-widgets/controls",
          "model_module_version": "1.5.0",
          "model_name": "SliderStyleModel",
          "state": {
            "_model_module": "@jupyter-widgets/controls",
            "_model_module_version": "1.5.0",
            "_model_name": "SliderStyleModel",
            "_view_count": null,
            "_view_module": "@jupyter-widgets/base",
            "_view_module_version": "1.2.0",
            "_view_name": "StyleView",
            "description_width": "",
            "handle_color": null
          }
        },
        "141f28d0f52640e6a271b1b1667c03bc": {
          "model_module": "@jupyter-widgets/base",
          "model_module_version": "1.2.0",
          "model_name": "LayoutModel",
          "state": {
            "_model_module": "@jupyter-widgets/base",
            "_model_module_version": "1.2.0",
            "_model_name": "LayoutModel",
            "_view_count": null,
            "_view_module": "@jupyter-widgets/base",
            "_view_module_version": "1.2.0",
            "_view_name": "LayoutView",
            "align_content": null,
            "align_items": null,
            "align_self": null,
            "border": null,
            "bottom": null,
            "display": null,
            "flex": null,
            "flex_flow": null,
            "grid_area": null,
            "grid_auto_columns": null,
            "grid_auto_flow": null,
            "grid_auto_rows": null,
            "grid_column": null,
            "grid_gap": null,
            "grid_row": null,
            "grid_template_areas": null,
            "grid_template_columns": null,
            "grid_template_rows": null,
            "height": null,
            "justify_content": null,
            "justify_items": null,
            "left": null,
            "margin": null,
            "max_height": null,
            "max_width": null,
            "min_height": null,
            "min_width": null,
            "object_fit": null,
            "object_position": null,
            "order": null,
            "overflow": null,
            "overflow_x": null,
            "overflow_y": null,
            "padding": null,
            "right": null,
            "top": null,
            "visibility": null,
            "width": null
          }
        },
        "1558332d68874d689bc3daf4a5fd3357": {
          "model_module": "@jupyter-widgets/controls",
          "model_module_version": "1.5.0",
          "model_name": "IntSliderModel",
          "state": {
            "_dom_classes": [],
            "_model_module": "@jupyter-widgets/controls",
            "_model_module_version": "1.5.0",
            "_model_name": "IntSliderModel",
            "_view_count": null,
            "_view_module": "@jupyter-widgets/controls",
            "_view_module_version": "1.5.0",
            "_view_name": "IntSliderView",
            "continuous_update": true,
            "description": "x1",
            "description_tooltip": null,
            "disabled": false,
            "layout": "IPY_MODEL_3904909af9294a10b14f21787ff034ce",
            "max": 10,
            "min": 1,
            "orientation": "horizontal",
            "readout": true,
            "readout_format": "d",
            "step": 1,
            "style": "IPY_MODEL_ddff144ed85046718ff2daa42e6fa82a",
            "value": 5
          }
        },
        "1b2c84be656643668572acc1ab4395cd": {
          "model_module": "@jupyter-widgets/base",
          "model_module_version": "1.2.0",
          "model_name": "LayoutModel",
          "state": {
            "_model_module": "@jupyter-widgets/base",
            "_model_module_version": "1.2.0",
            "_model_name": "LayoutModel",
            "_view_count": null,
            "_view_module": "@jupyter-widgets/base",
            "_view_module_version": "1.2.0",
            "_view_name": "LayoutView",
            "align_content": null,
            "align_items": null,
            "align_self": null,
            "border": null,
            "bottom": null,
            "display": null,
            "flex": null,
            "flex_flow": null,
            "grid_area": null,
            "grid_auto_columns": null,
            "grid_auto_flow": null,
            "grid_auto_rows": null,
            "grid_column": null,
            "grid_gap": null,
            "grid_row": null,
            "grid_template_areas": null,
            "grid_template_columns": null,
            "grid_template_rows": null,
            "height": null,
            "justify_content": null,
            "justify_items": null,
            "left": null,
            "margin": null,
            "max_height": null,
            "max_width": null,
            "min_height": null,
            "min_width": null,
            "object_fit": null,
            "object_position": null,
            "order": null,
            "overflow": null,
            "overflow_x": null,
            "overflow_y": null,
            "padding": null,
            "right": null,
            "top": null,
            "visibility": null,
            "width": null
          }
        },
        "1e582a879e5644e19a9ff95386eac06a": {
          "model_module": "@jupyter-widgets/controls",
          "model_module_version": "1.5.0",
          "model_name": "IntSliderModel",
          "state": {
            "_dom_classes": [],
            "_model_module": "@jupyter-widgets/controls",
            "_model_module_version": "1.5.0",
            "_model_name": "IntSliderModel",
            "_view_count": null,
            "_view_module": "@jupyter-widgets/controls",
            "_view_module_version": "1.5.0",
            "_view_name": "IntSliderView",
            "continuous_update": true,
            "description": "y",
            "description_tooltip": null,
            "disabled": false,
            "layout": "IPY_MODEL_e1b01905791e4f17bd94a46a00d99ae6",
            "max": 10,
            "min": 0,
            "orientation": "horizontal",
            "readout": true,
            "readout_format": "d",
            "step": 1,
            "style": "IPY_MODEL_f9b7b6bd74a7413d927eb709711449de",
            "value": 5
          }
        },
        "22a575d192ec44ca8e6687696879d065": {
          "model_module": "@jupyter-widgets/base",
          "model_module_version": "1.2.0",
          "model_name": "LayoutModel",
          "state": {
            "_model_module": "@jupyter-widgets/base",
            "_model_module_version": "1.2.0",
            "_model_name": "LayoutModel",
            "_view_count": null,
            "_view_module": "@jupyter-widgets/base",
            "_view_module_version": "1.2.0",
            "_view_name": "LayoutView",
            "align_content": null,
            "align_items": null,
            "align_self": null,
            "border": null,
            "bottom": null,
            "display": null,
            "flex": null,
            "flex_flow": null,
            "grid_area": null,
            "grid_auto_columns": null,
            "grid_auto_flow": null,
            "grid_auto_rows": null,
            "grid_column": null,
            "grid_gap": null,
            "grid_row": null,
            "grid_template_areas": null,
            "grid_template_columns": null,
            "grid_template_rows": null,
            "height": null,
            "justify_content": null,
            "justify_items": null,
            "left": null,
            "margin": null,
            "max_height": null,
            "max_width": null,
            "min_height": null,
            "min_width": null,
            "object_fit": null,
            "object_position": null,
            "order": null,
            "overflow": null,
            "overflow_x": null,
            "overflow_y": null,
            "padding": null,
            "right": null,
            "top": null,
            "visibility": null,
            "width": null
          }
        },
        "23f40b5c38334bc29923a77c7a574de6": {
          "model_module": "@jupyter-widgets/controls",
          "model_module_version": "1.5.0",
          "model_name": "SliderStyleModel",
          "state": {
            "_model_module": "@jupyter-widgets/controls",
            "_model_module_version": "1.5.0",
            "_model_name": "SliderStyleModel",
            "_view_count": null,
            "_view_module": "@jupyter-widgets/base",
            "_view_module_version": "1.2.0",
            "_view_name": "StyleView",
            "description_width": "",
            "handle_color": null
          }
        },
        "26937094d1124dddb5ed55c45bc404ef": {
          "model_module": "@jupyter-widgets/controls",
          "model_module_version": "1.5.0",
          "model_name": "SliderStyleModel",
          "state": {
            "_model_module": "@jupyter-widgets/controls",
            "_model_module_version": "1.5.0",
            "_model_name": "SliderStyleModel",
            "_view_count": null,
            "_view_module": "@jupyter-widgets/base",
            "_view_module_version": "1.2.0",
            "_view_name": "StyleView",
            "description_width": "",
            "handle_color": null
          }
        },
        "30a45028205a483caf6c4aea75e33d51": {
          "model_module": "@jupyter-widgets/base",
          "model_module_version": "1.2.0",
          "model_name": "LayoutModel",
          "state": {
            "_model_module": "@jupyter-widgets/base",
            "_model_module_version": "1.2.0",
            "_model_name": "LayoutModel",
            "_view_count": null,
            "_view_module": "@jupyter-widgets/base",
            "_view_module_version": "1.2.0",
            "_view_name": "LayoutView",
            "align_content": null,
            "align_items": null,
            "align_self": null,
            "border": null,
            "bottom": null,
            "display": null,
            "flex": null,
            "flex_flow": null,
            "grid_area": null,
            "grid_auto_columns": null,
            "grid_auto_flow": null,
            "grid_auto_rows": null,
            "grid_column": null,
            "grid_gap": null,
            "grid_row": null,
            "grid_template_areas": null,
            "grid_template_columns": null,
            "grid_template_rows": null,
            "height": null,
            "justify_content": null,
            "justify_items": null,
            "left": null,
            "margin": null,
            "max_height": null,
            "max_width": null,
            "min_height": null,
            "min_width": null,
            "object_fit": null,
            "object_position": null,
            "order": null,
            "overflow": null,
            "overflow_x": null,
            "overflow_y": null,
            "padding": null,
            "right": null,
            "top": null,
            "visibility": null,
            "width": null
          }
        },
        "352c8910515f4f93b4915e10a263dd15": {
          "model_module": "@jupyter-widgets/controls",
          "model_module_version": "1.5.0",
          "model_name": "SliderStyleModel",
          "state": {
            "_model_module": "@jupyter-widgets/controls",
            "_model_module_version": "1.5.0",
            "_model_name": "SliderStyleModel",
            "_view_count": null,
            "_view_module": "@jupyter-widgets/base",
            "_view_module_version": "1.2.0",
            "_view_name": "StyleView",
            "description_width": "",
            "handle_color": null
          }
        },
        "3904909af9294a10b14f21787ff034ce": {
          "model_module": "@jupyter-widgets/base",
          "model_module_version": "1.2.0",
          "model_name": "LayoutModel",
          "state": {
            "_model_module": "@jupyter-widgets/base",
            "_model_module_version": "1.2.0",
            "_model_name": "LayoutModel",
            "_view_count": null,
            "_view_module": "@jupyter-widgets/base",
            "_view_module_version": "1.2.0",
            "_view_name": "LayoutView",
            "align_content": null,
            "align_items": null,
            "align_self": null,
            "border": null,
            "bottom": null,
            "display": null,
            "flex": null,
            "flex_flow": null,
            "grid_area": null,
            "grid_auto_columns": null,
            "grid_auto_flow": null,
            "grid_auto_rows": null,
            "grid_column": null,
            "grid_gap": null,
            "grid_row": null,
            "grid_template_areas": null,
            "grid_template_columns": null,
            "grid_template_rows": null,
            "height": null,
            "justify_content": null,
            "justify_items": null,
            "left": null,
            "margin": null,
            "max_height": null,
            "max_width": null,
            "min_height": null,
            "min_width": null,
            "object_fit": null,
            "object_position": null,
            "order": null,
            "overflow": null,
            "overflow_x": null,
            "overflow_y": null,
            "padding": null,
            "right": null,
            "top": null,
            "visibility": null,
            "width": null
          }
        },
        "398afeb913ed4417828917d230671ba0": {
          "model_module": "@jupyter-widgets/controls",
          "model_module_version": "1.5.0",
          "model_name": "IntSliderModel",
          "state": {
            "_dom_classes": [],
            "_model_module": "@jupyter-widgets/controls",
            "_model_module_version": "1.5.0",
            "_model_name": "IntSliderModel",
            "_view_count": null,
            "_view_module": "@jupyter-widgets/controls",
            "_view_module_version": "1.5.0",
            "_view_name": "IntSliderView",
            "continuous_update": true,
            "description": "p2",
            "description_tooltip": null,
            "disabled": false,
            "layout": "IPY_MODEL_7894b19721344da7bef055cf5791277e",
            "max": 10,
            "min": 1,
            "orientation": "horizontal",
            "readout": true,
            "readout_format": "d",
            "step": 1,
            "style": "IPY_MODEL_26937094d1124dddb5ed55c45bc404ef",
            "value": 5
          }
        },
        "3aecbcc0a5ca4d06b0594053f9a2bd1c": {
          "model_module": "@jupyter-widgets/controls",
          "model_module_version": "1.5.0",
          "model_name": "VBoxModel",
          "state": {
            "_dom_classes": [
              "widget-interact"
            ],
            "_model_module": "@jupyter-widgets/controls",
            "_model_module_version": "1.5.0",
            "_model_name": "VBoxModel",
            "_view_count": null,
            "_view_module": "@jupyter-widgets/controls",
            "_view_module_version": "1.5.0",
            "_view_name": "VBoxView",
            "box_style": "",
            "children": [
              "IPY_MODEL_1198e8b5603247e79f29674fb730a787",
              "IPY_MODEL_97f50efd96b9465b9ba51a74b61c57f4",
              "IPY_MODEL_66e8e92c6fed4ae68d4bc1a8b2a1bdd9",
              "IPY_MODEL_1558332d68874d689bc3daf4a5fd3357",
              "IPY_MODEL_45ff592747544f09ab883fd848fa5bf9",
              "IPY_MODEL_62869369bdde4584aedb60c78646785b"
            ],
            "layout": "IPY_MODEL_dc144bd8884744139db3ce05b7173d34"
          }
        },
        "3b51672ad9484d6da8bccb25176c1392": {
          "model_module": "@jupyter-widgets/controls",
          "model_module_version": "1.5.0",
          "model_name": "IntSliderModel",
          "state": {
            "_dom_classes": [],
            "_model_module": "@jupyter-widgets/controls",
            "_model_module_version": "1.5.0",
            "_model_name": "IntSliderModel",
            "_view_count": null,
            "_view_module": "@jupyter-widgets/controls",
            "_view_module_version": "1.5.0",
            "_view_name": "IntSliderView",
            "continuous_update": true,
            "description": "p2",
            "description_tooltip": null,
            "disabled": false,
            "layout": "IPY_MODEL_d4e5c593748048fc98cff16743eec848",
            "max": 10,
            "min": 1,
            "orientation": "horizontal",
            "readout": true,
            "readout_format": "d",
            "step": 1,
            "style": "IPY_MODEL_3b72e6c6903e4164b2afa909ae770a5f",
            "value": 5
          }
        },
        "3b72e6c6903e4164b2afa909ae770a5f": {
          "model_module": "@jupyter-widgets/controls",
          "model_module_version": "1.5.0",
          "model_name": "SliderStyleModel",
          "state": {
            "_model_module": "@jupyter-widgets/controls",
            "_model_module_version": "1.5.0",
            "_model_name": "SliderStyleModel",
            "_view_count": null,
            "_view_module": "@jupyter-widgets/base",
            "_view_module_version": "1.2.0",
            "_view_name": "StyleView",
            "description_width": "",
            "handle_color": null
          }
        },
        "3e921db669ec4450956c8b581bcc7944": {
          "model_module": "@jupyter-widgets/output",
          "model_module_version": "1.0.0",
          "model_name": "OutputModel",
          "state": {
            "_dom_classes": [],
            "_model_module": "@jupyter-widgets/output",
            "_model_module_version": "1.0.0",
            "_model_name": "OutputModel",
            "_view_count": null,
            "_view_module": "@jupyter-widgets/output",
            "_view_module_version": "1.0.0",
            "_view_name": "OutputView",
            "layout": "IPY_MODEL_93f358ac44b84ffba538a25fca74e659",
            "msg_id": "",
            "outputs": []
          }
        },
        "428e3be829624872b7622088d898ec2f": {
          "model_module": "@jupyter-widgets/controls",
          "model_module_version": "1.5.0",
          "model_name": "SliderStyleModel",
          "state": {
            "_model_module": "@jupyter-widgets/controls",
            "_model_module_version": "1.5.0",
            "_model_name": "SliderStyleModel",
            "_view_count": null,
            "_view_module": "@jupyter-widgets/base",
            "_view_module_version": "1.2.0",
            "_view_name": "StyleView",
            "description_width": "",
            "handle_color": null
          }
        },
        "437d553d87e3464d833b78b88d48ea40": {
          "model_module": "@jupyter-widgets/base",
          "model_module_version": "1.2.0",
          "model_name": "LayoutModel",
          "state": {
            "_model_module": "@jupyter-widgets/base",
            "_model_module_version": "1.2.0",
            "_model_name": "LayoutModel",
            "_view_count": null,
            "_view_module": "@jupyter-widgets/base",
            "_view_module_version": "1.2.0",
            "_view_name": "LayoutView",
            "align_content": null,
            "align_items": null,
            "align_self": null,
            "border": null,
            "bottom": null,
            "display": null,
            "flex": null,
            "flex_flow": null,
            "grid_area": null,
            "grid_auto_columns": null,
            "grid_auto_flow": null,
            "grid_auto_rows": null,
            "grid_column": null,
            "grid_gap": null,
            "grid_row": null,
            "grid_template_areas": null,
            "grid_template_columns": null,
            "grid_template_rows": null,
            "height": null,
            "justify_content": null,
            "justify_items": null,
            "left": null,
            "margin": null,
            "max_height": null,
            "max_width": null,
            "min_height": null,
            "min_width": null,
            "object_fit": null,
            "object_position": null,
            "order": null,
            "overflow": null,
            "overflow_x": null,
            "overflow_y": null,
            "padding": null,
            "right": null,
            "top": null,
            "visibility": null,
            "width": null
          }
        },
        "45ff592747544f09ab883fd848fa5bf9": {
          "model_module": "@jupyter-widgets/controls",
          "model_module_version": "1.5.0",
          "model_name": "IntSliderModel",
          "state": {
            "_dom_classes": [],
            "_model_module": "@jupyter-widgets/controls",
            "_model_module_version": "1.5.0",
            "_model_name": "IntSliderModel",
            "_view_count": null,
            "_view_module": "@jupyter-widgets/controls",
            "_view_module_version": "1.5.0",
            "_view_name": "IntSliderView",
            "continuous_update": true,
            "description": "x2",
            "description_tooltip": null,
            "disabled": false,
            "layout": "IPY_MODEL_e59cd287bf1a44f99a9b632d309b003d",
            "max": 10,
            "min": 1,
            "orientation": "horizontal",
            "readout": true,
            "readout_format": "d",
            "step": 1,
            "style": "IPY_MODEL_fbc011f97aae462c88a024d332019c74",
            "value": 5
          }
        },
        "5541ef2ae8bf4b44a6c108b7c3b93b48": {
          "model_module": "@jupyter-widgets/base",
          "model_module_version": "1.2.0",
          "model_name": "LayoutModel",
          "state": {
            "_model_module": "@jupyter-widgets/base",
            "_model_module_version": "1.2.0",
            "_model_name": "LayoutModel",
            "_view_count": null,
            "_view_module": "@jupyter-widgets/base",
            "_view_module_version": "1.2.0",
            "_view_name": "LayoutView",
            "align_content": null,
            "align_items": null,
            "align_self": null,
            "border": null,
            "bottom": null,
            "display": null,
            "flex": null,
            "flex_flow": null,
            "grid_area": null,
            "grid_auto_columns": null,
            "grid_auto_flow": null,
            "grid_auto_rows": null,
            "grid_column": null,
            "grid_gap": null,
            "grid_row": null,
            "grid_template_areas": null,
            "grid_template_columns": null,
            "grid_template_rows": null,
            "height": null,
            "justify_content": null,
            "justify_items": null,
            "left": null,
            "margin": null,
            "max_height": null,
            "max_width": null,
            "min_height": null,
            "min_width": null,
            "object_fit": null,
            "object_position": null,
            "order": null,
            "overflow": null,
            "overflow_x": null,
            "overflow_y": null,
            "padding": null,
            "right": null,
            "top": null,
            "visibility": null,
            "width": null
          }
        },
        "565be361eba640378e25355c087aea7a": {
          "model_module": "@jupyter-widgets/controls",
          "model_module_version": "1.5.0",
          "model_name": "SliderStyleModel",
          "state": {
            "_model_module": "@jupyter-widgets/controls",
            "_model_module_version": "1.5.0",
            "_model_name": "SliderStyleModel",
            "_view_count": null,
            "_view_module": "@jupyter-widgets/base",
            "_view_module_version": "1.2.0",
            "_view_name": "StyleView",
            "description_width": "",
            "handle_color": null
          }
        },
        "5d1a4a41a64f40d8965688d9ad21347e": {
          "model_module": "@jupyter-widgets/controls",
          "model_module_version": "1.5.0",
          "model_name": "SliderStyleModel",
          "state": {
            "_model_module": "@jupyter-widgets/controls",
            "_model_module_version": "1.5.0",
            "_model_name": "SliderStyleModel",
            "_view_count": null,
            "_view_module": "@jupyter-widgets/base",
            "_view_module_version": "1.2.0",
            "_view_name": "StyleView",
            "description_width": "",
            "handle_color": null
          }
        },
        "61159856cfff4d9095288802efc9574a": {
          "model_module": "@jupyter-widgets/base",
          "model_module_version": "1.2.0",
          "model_name": "LayoutModel",
          "state": {
            "_model_module": "@jupyter-widgets/base",
            "_model_module_version": "1.2.0",
            "_model_name": "LayoutModel",
            "_view_count": null,
            "_view_module": "@jupyter-widgets/base",
            "_view_module_version": "1.2.0",
            "_view_name": "LayoutView",
            "align_content": null,
            "align_items": null,
            "align_self": null,
            "border": null,
            "bottom": null,
            "display": null,
            "flex": null,
            "flex_flow": null,
            "grid_area": null,
            "grid_auto_columns": null,
            "grid_auto_flow": null,
            "grid_auto_rows": null,
            "grid_column": null,
            "grid_gap": null,
            "grid_row": null,
            "grid_template_areas": null,
            "grid_template_columns": null,
            "grid_template_rows": null,
            "height": null,
            "justify_content": null,
            "justify_items": null,
            "left": null,
            "margin": null,
            "max_height": null,
            "max_width": null,
            "min_height": null,
            "min_width": null,
            "object_fit": null,
            "object_position": null,
            "order": null,
            "overflow": null,
            "overflow_x": null,
            "overflow_y": null,
            "padding": null,
            "right": null,
            "top": null,
            "visibility": null,
            "width": null
          }
        },
        "621485f74fdd43c19c7258deefb18380": {
          "model_module": "@jupyter-widgets/controls",
          "model_module_version": "1.5.0",
          "model_name": "IntSliderModel",
          "state": {
            "_dom_classes": [],
            "_model_module": "@jupyter-widgets/controls",
            "_model_module_version": "1.5.0",
            "_model_name": "IntSliderModel",
            "_view_count": null,
            "_view_module": "@jupyter-widgets/controls",
            "_view_module_version": "1.5.0",
            "_view_name": "IntSliderView",
            "continuous_update": true,
            "description": "budget",
            "description_tooltip": null,
            "disabled": false,
            "layout": "IPY_MODEL_a7d6ccfa237a4bcba90ffd0cb5960cf6",
            "max": 100,
            "min": 1,
            "orientation": "horizontal",
            "readout": true,
            "readout_format": "d",
            "step": 1,
            "style": "IPY_MODEL_ad6d71216b7445ac98b1864d00ced37d",
            "value": 50
          }
        },
        "62869369bdde4584aedb60c78646785b": {
          "model_module": "@jupyter-widgets/output",
          "model_module_version": "1.0.0",
          "model_name": "OutputModel",
          "state": {
            "_dom_classes": [],
            "_model_module": "@jupyter-widgets/output",
            "_model_module_version": "1.0.0",
            "_model_name": "OutputModel",
            "_view_count": null,
            "_view_module": "@jupyter-widgets/output",
            "_view_module_version": "1.0.0",
            "_view_name": "OutputView",
            "layout": "IPY_MODEL_6d6e430e765b47d2a671bd8bddfbbb09",
            "msg_id": "",
            "outputs": [
              {
                "data": {
                  "image/png": "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\n",
                  "text/plain": "<Figure size 640x480 with 1 Axes>"
                },
                "metadata": {},
                "output_type": "display_data"
              }
            ]
          }
        },
        "644c0dcd0afb4e93982ca95cc2749129": {
          "model_module": "@jupyter-widgets/output",
          "model_module_version": "1.0.0",
          "model_name": "OutputModel",
          "state": {
            "_dom_classes": [],
            "_model_module": "@jupyter-widgets/output",
            "_model_module_version": "1.0.0",
            "_model_name": "OutputModel",
            "_view_count": null,
            "_view_module": "@jupyter-widgets/output",
            "_view_module_version": "1.0.0",
            "_view_name": "OutputView",
            "layout": "IPY_MODEL_982e8b4c48ba4df29236728c541ec42b",
            "msg_id": "",
            "outputs": []
          }
        },
        "66e8e92c6fed4ae68d4bc1a8b2a1bdd9": {
          "model_module": "@jupyter-widgets/controls",
          "model_module_version": "1.5.0",
          "model_name": "IntSliderModel",
          "state": {
            "_dom_classes": [],
            "_model_module": "@jupyter-widgets/controls",
            "_model_module_version": "1.5.0",
            "_model_name": "IntSliderModel",
            "_view_count": null,
            "_view_module": "@jupyter-widgets/controls",
            "_view_module_version": "1.5.0",
            "_view_name": "IntSliderView",
            "continuous_update": true,
            "description": "budget",
            "description_tooltip": null,
            "disabled": false,
            "layout": "IPY_MODEL_30a45028205a483caf6c4aea75e33d51",
            "max": 100,
            "min": 1,
            "orientation": "horizontal",
            "readout": true,
            "readout_format": "d",
            "step": 1,
            "style": "IPY_MODEL_565be361eba640378e25355c087aea7a",
            "value": 50
          }
        },
        "6d6e430e765b47d2a671bd8bddfbbb09": {
          "model_module": "@jupyter-widgets/base",
          "model_module_version": "1.2.0",
          "model_name": "LayoutModel",
          "state": {
            "_model_module": "@jupyter-widgets/base",
            "_model_module_version": "1.2.0",
            "_model_name": "LayoutModel",
            "_view_count": null,
            "_view_module": "@jupyter-widgets/base",
            "_view_module_version": "1.2.0",
            "_view_name": "LayoutView",
            "align_content": null,
            "align_items": null,
            "align_self": null,
            "border": null,
            "bottom": null,
            "display": null,
            "flex": null,
            "flex_flow": null,
            "grid_area": null,
            "grid_auto_columns": null,
            "grid_auto_flow": null,
            "grid_auto_rows": null,
            "grid_column": null,
            "grid_gap": null,
            "grid_row": null,
            "grid_template_areas": null,
            "grid_template_columns": null,
            "grid_template_rows": null,
            "height": null,
            "justify_content": null,
            "justify_items": null,
            "left": null,
            "margin": null,
            "max_height": null,
            "max_width": null,
            "min_height": null,
            "min_width": null,
            "object_fit": null,
            "object_position": null,
            "order": null,
            "overflow": null,
            "overflow_x": null,
            "overflow_y": null,
            "padding": null,
            "right": null,
            "top": null,
            "visibility": null,
            "width": null
          }
        },
        "76eb41b17d094d629d4ae1c19030620b": {
          "model_module": "@jupyter-widgets/controls",
          "model_module_version": "1.5.0",
          "model_name": "SliderStyleModel",
          "state": {
            "_model_module": "@jupyter-widgets/controls",
            "_model_module_version": "1.5.0",
            "_model_name": "SliderStyleModel",
            "_view_count": null,
            "_view_module": "@jupyter-widgets/base",
            "_view_module_version": "1.2.0",
            "_view_name": "StyleView",
            "description_width": "",
            "handle_color": null
          }
        },
        "7894b19721344da7bef055cf5791277e": {
          "model_module": "@jupyter-widgets/base",
          "model_module_version": "1.2.0",
          "model_name": "LayoutModel",
          "state": {
            "_model_module": "@jupyter-widgets/base",
            "_model_module_version": "1.2.0",
            "_model_name": "LayoutModel",
            "_view_count": null,
            "_view_module": "@jupyter-widgets/base",
            "_view_module_version": "1.2.0",
            "_view_name": "LayoutView",
            "align_content": null,
            "align_items": null,
            "align_self": null,
            "border": null,
            "bottom": null,
            "display": null,
            "flex": null,
            "flex_flow": null,
            "grid_area": null,
            "grid_auto_columns": null,
            "grid_auto_flow": null,
            "grid_auto_rows": null,
            "grid_column": null,
            "grid_gap": null,
            "grid_row": null,
            "grid_template_areas": null,
            "grid_template_columns": null,
            "grid_template_rows": null,
            "height": null,
            "justify_content": null,
            "justify_items": null,
            "left": null,
            "margin": null,
            "max_height": null,
            "max_width": null,
            "min_height": null,
            "min_width": null,
            "object_fit": null,
            "object_position": null,
            "order": null,
            "overflow": null,
            "overflow_x": null,
            "overflow_y": null,
            "padding": null,
            "right": null,
            "top": null,
            "visibility": null,
            "width": null
          }
        },
        "7c7f5ff97c0849c18bb4c03fa05c2c58": {
          "model_module": "@jupyter-widgets/output",
          "model_module_version": "1.0.0",
          "model_name": "OutputModel",
          "state": {
            "_dom_classes": [],
            "_model_module": "@jupyter-widgets/output",
            "_model_module_version": "1.0.0",
            "_model_name": "OutputModel",
            "_view_count": null,
            "_view_module": "@jupyter-widgets/output",
            "_view_module_version": "1.0.0",
            "_view_name": "OutputView",
            "layout": "IPY_MODEL_11491230a1884b15823fa65a36fe1dbc",
            "msg_id": "",
            "outputs": []
          }
        },
        "7cde281ca1b042c5821ca795ccc59d2e": {
          "model_module": "@jupyter-widgets/base",
          "model_module_version": "1.2.0",
          "model_name": "LayoutModel",
          "state": {
            "_model_module": "@jupyter-widgets/base",
            "_model_module_version": "1.2.0",
            "_model_name": "LayoutModel",
            "_view_count": null,
            "_view_module": "@jupyter-widgets/base",
            "_view_module_version": "1.2.0",
            "_view_name": "LayoutView",
            "align_content": null,
            "align_items": null,
            "align_self": null,
            "border": null,
            "bottom": null,
            "display": null,
            "flex": null,
            "flex_flow": null,
            "grid_area": null,
            "grid_auto_columns": null,
            "grid_auto_flow": null,
            "grid_auto_rows": null,
            "grid_column": null,
            "grid_gap": null,
            "grid_row": null,
            "grid_template_areas": null,
            "grid_template_columns": null,
            "grid_template_rows": null,
            "height": null,
            "justify_content": null,
            "justify_items": null,
            "left": null,
            "margin": null,
            "max_height": null,
            "max_width": null,
            "min_height": null,
            "min_width": null,
            "object_fit": null,
            "object_position": null,
            "order": null,
            "overflow": null,
            "overflow_x": null,
            "overflow_y": null,
            "padding": null,
            "right": null,
            "top": null,
            "visibility": null,
            "width": null
          }
        },
        "83ea1d5a23ef43d2aa5b02484c0d79cf": {
          "model_module": "@jupyter-widgets/base",
          "model_module_version": "1.2.0",
          "model_name": "LayoutModel",
          "state": {
            "_model_module": "@jupyter-widgets/base",
            "_model_module_version": "1.2.0",
            "_model_name": "LayoutModel",
            "_view_count": null,
            "_view_module": "@jupyter-widgets/base",
            "_view_module_version": "1.2.0",
            "_view_name": "LayoutView",
            "align_content": null,
            "align_items": null,
            "align_self": null,
            "border": null,
            "bottom": null,
            "display": null,
            "flex": null,
            "flex_flow": null,
            "grid_area": null,
            "grid_auto_columns": null,
            "grid_auto_flow": null,
            "grid_auto_rows": null,
            "grid_column": null,
            "grid_gap": null,
            "grid_row": null,
            "grid_template_areas": null,
            "grid_template_columns": null,
            "grid_template_rows": null,
            "height": null,
            "justify_content": null,
            "justify_items": null,
            "left": null,
            "margin": null,
            "max_height": null,
            "max_width": null,
            "min_height": null,
            "min_width": null,
            "object_fit": null,
            "object_position": null,
            "order": null,
            "overflow": null,
            "overflow_x": null,
            "overflow_y": null,
            "padding": null,
            "right": null,
            "top": null,
            "visibility": null,
            "width": null
          }
        },
        "8a6ff1b0d99a4a6ea9bc0d5aac59b12e": {
          "model_module": "@jupyter-widgets/base",
          "model_module_version": "1.2.0",
          "model_name": "LayoutModel",
          "state": {
            "_model_module": "@jupyter-widgets/base",
            "_model_module_version": "1.2.0",
            "_model_name": "LayoutModel",
            "_view_count": null,
            "_view_module": "@jupyter-widgets/base",
            "_view_module_version": "1.2.0",
            "_view_name": "LayoutView",
            "align_content": null,
            "align_items": null,
            "align_self": null,
            "border": null,
            "bottom": null,
            "display": null,
            "flex": null,
            "flex_flow": null,
            "grid_area": null,
            "grid_auto_columns": null,
            "grid_auto_flow": null,
            "grid_auto_rows": null,
            "grid_column": null,
            "grid_gap": null,
            "grid_row": null,
            "grid_template_areas": null,
            "grid_template_columns": null,
            "grid_template_rows": null,
            "height": null,
            "justify_content": null,
            "justify_items": null,
            "left": null,
            "margin": null,
            "max_height": null,
            "max_width": null,
            "min_height": null,
            "min_width": null,
            "object_fit": null,
            "object_position": null,
            "order": null,
            "overflow": null,
            "overflow_x": null,
            "overflow_y": null,
            "padding": null,
            "right": null,
            "top": null,
            "visibility": null,
            "width": null
          }
        },
        "93f358ac44b84ffba538a25fca74e659": {
          "model_module": "@jupyter-widgets/base",
          "model_module_version": "1.2.0",
          "model_name": "LayoutModel",
          "state": {
            "_model_module": "@jupyter-widgets/base",
            "_model_module_version": "1.2.0",
            "_model_name": "LayoutModel",
            "_view_count": null,
            "_view_module": "@jupyter-widgets/base",
            "_view_module_version": "1.2.0",
            "_view_name": "LayoutView",
            "align_content": null,
            "align_items": null,
            "align_self": null,
            "border": null,
            "bottom": null,
            "display": null,
            "flex": null,
            "flex_flow": null,
            "grid_area": null,
            "grid_auto_columns": null,
            "grid_auto_flow": null,
            "grid_auto_rows": null,
            "grid_column": null,
            "grid_gap": null,
            "grid_row": null,
            "grid_template_areas": null,
            "grid_template_columns": null,
            "grid_template_rows": null,
            "height": null,
            "justify_content": null,
            "justify_items": null,
            "left": null,
            "margin": null,
            "max_height": null,
            "max_width": null,
            "min_height": null,
            "min_width": null,
            "object_fit": null,
            "object_position": null,
            "order": null,
            "overflow": null,
            "overflow_x": null,
            "overflow_y": null,
            "padding": null,
            "right": null,
            "top": null,
            "visibility": null,
            "width": null
          }
        },
        "97f50efd96b9465b9ba51a74b61c57f4": {
          "model_module": "@jupyter-widgets/controls",
          "model_module_version": "1.5.0",
          "model_name": "IntSliderModel",
          "state": {
            "_dom_classes": [],
            "_model_module": "@jupyter-widgets/controls",
            "_model_module_version": "1.5.0",
            "_model_name": "IntSliderModel",
            "_view_count": null,
            "_view_module": "@jupyter-widgets/controls",
            "_view_module_version": "1.5.0",
            "_view_name": "IntSliderView",
            "continuous_update": true,
            "description": "p2",
            "description_tooltip": null,
            "disabled": false,
            "layout": "IPY_MODEL_ea3eb4759e624f7887fb2ad5164454bf",
            "max": 10,
            "min": 1,
            "orientation": "horizontal",
            "readout": true,
            "readout_format": "d",
            "step": 1,
            "style": "IPY_MODEL_1300d85d3a984f9ca50f7dded11d8d66",
            "value": 5
          }
        },
        "982e8b4c48ba4df29236728c541ec42b": {
          "model_module": "@jupyter-widgets/base",
          "model_module_version": "1.2.0",
          "model_name": "LayoutModel",
          "state": {
            "_model_module": "@jupyter-widgets/base",
            "_model_module_version": "1.2.0",
            "_model_name": "LayoutModel",
            "_view_count": null,
            "_view_module": "@jupyter-widgets/base",
            "_view_module_version": "1.2.0",
            "_view_name": "LayoutView",
            "align_content": null,
            "align_items": null,
            "align_self": null,
            "border": null,
            "bottom": null,
            "display": null,
            "flex": null,
            "flex_flow": null,
            "grid_area": null,
            "grid_auto_columns": null,
            "grid_auto_flow": null,
            "grid_auto_rows": null,
            "grid_column": null,
            "grid_gap": null,
            "grid_row": null,
            "grid_template_areas": null,
            "grid_template_columns": null,
            "grid_template_rows": null,
            "height": null,
            "justify_content": null,
            "justify_items": null,
            "left": null,
            "margin": null,
            "max_height": null,
            "max_width": null,
            "min_height": null,
            "min_width": null,
            "object_fit": null,
            "object_position": null,
            "order": null,
            "overflow": null,
            "overflow_x": null,
            "overflow_y": null,
            "padding": null,
            "right": null,
            "top": null,
            "visibility": null,
            "width": null
          }
        },
        "9ff4a55ca19a4a6f973592db2723883e": {
          "model_module": "@jupyter-widgets/controls",
          "model_module_version": "1.5.0",
          "model_name": "SliderStyleModel",
          "state": {
            "_model_module": "@jupyter-widgets/controls",
            "_model_module_version": "1.5.0",
            "_model_name": "SliderStyleModel",
            "_view_count": null,
            "_view_module": "@jupyter-widgets/base",
            "_view_module_version": "1.2.0",
            "_view_name": "StyleView",
            "description_width": "",
            "handle_color": null
          }
        },
        "a3b36bf3bbb941e88b1d81cb5a46da90": {
          "model_module": "@jupyter-widgets/controls",
          "model_module_version": "1.5.0",
          "model_name": "IntSliderModel",
          "state": {
            "_dom_classes": [],
            "_model_module": "@jupyter-widgets/controls",
            "_model_module_version": "1.5.0",
            "_model_name": "IntSliderModel",
            "_view_count": null,
            "_view_module": "@jupyter-widgets/controls",
            "_view_module_version": "1.5.0",
            "_view_name": "IntSliderView",
            "continuous_update": true,
            "description": "budget",
            "description_tooltip": null,
            "disabled": false,
            "layout": "IPY_MODEL_c2fe8edd884844f0b482c94e7b055876",
            "max": 100,
            "min": 1,
            "orientation": "horizontal",
            "readout": true,
            "readout_format": "d",
            "step": 1,
            "style": "IPY_MODEL_428e3be829624872b7622088d898ec2f",
            "value": 50
          }
        },
        "a4599451e1594b85908039131923df74": {
          "model_module": "@jupyter-widgets/controls",
          "model_module_version": "1.5.0",
          "model_name": "IntSliderModel",
          "state": {
            "_dom_classes": [],
            "_model_module": "@jupyter-widgets/controls",
            "_model_module_version": "1.5.0",
            "_model_name": "IntSliderModel",
            "_view_count": null,
            "_view_module": "@jupyter-widgets/controls",
            "_view_module_version": "1.5.0",
            "_view_name": "IntSliderView",
            "continuous_update": true,
            "description": "f2",
            "description_tooltip": null,
            "disabled": false,
            "layout": "IPY_MODEL_22a575d192ec44ca8e6687696879d065",
            "max": 10,
            "min": 0,
            "orientation": "horizontal",
            "readout": true,
            "readout_format": "d",
            "step": 1,
            "style": "IPY_MODEL_76eb41b17d094d629d4ae1c19030620b",
            "value": 5
          }
        },
        "a526d4863b97458a9d0b31cde0dcdfd6": {
          "model_module": "@jupyter-widgets/controls",
          "model_module_version": "1.5.0",
          "model_name": "VBoxModel",
          "state": {
            "_dom_classes": [
              "widget-interact"
            ],
            "_model_module": "@jupyter-widgets/controls",
            "_model_module_version": "1.5.0",
            "_model_name": "VBoxModel",
            "_view_count": null,
            "_view_module": "@jupyter-widgets/controls",
            "_view_module_version": "1.5.0",
            "_view_name": "VBoxView",
            "box_style": "",
            "children": [
              "IPY_MODEL_f2c06c22aa1f428b9ca317deb7ae7c22",
              "IPY_MODEL_09d045591a434f1abcae0e9534f251d0",
              "IPY_MODEL_398afeb913ed4417828917d230671ba0",
              "IPY_MODEL_a4599451e1594b85908039131923df74",
              "IPY_MODEL_a3b36bf3bbb941e88b1d81cb5a46da90",
              "IPY_MODEL_f12d6b9037d54ac799501e523a7c6f4a",
              "IPY_MODEL_1e582a879e5644e19a9ff95386eac06a",
              "IPY_MODEL_7c7f5ff97c0849c18bb4c03fa05c2c58"
            ],
            "layout": "IPY_MODEL_437d553d87e3464d833b78b88d48ea40"
          }
        },
        "a621f7dbf61a46ef87f51aae47aecd74": {
          "model_module": "@jupyter-widgets/controls",
          "model_module_version": "1.5.0",
          "model_name": "FloatSliderModel",
          "state": {
            "_dom_classes": [],
            "_model_module": "@jupyter-widgets/controls",
            "_model_module_version": "1.5.0",
            "_model_name": "FloatSliderModel",
            "_view_count": null,
            "_view_module": "@jupyter-widgets/controls",
            "_view_module_version": "1.5.0",
            "_view_name": "FloatSliderView",
            "continuous_update": true,
            "description": "alpha",
            "description_tooltip": null,
            "disabled": false,
            "layout": "IPY_MODEL_c796f24d194e45ef9c5707bf5cb86ea0",
            "max": 0.9,
            "min": 0.1,
            "orientation": "horizontal",
            "readout": true,
            "readout_format": ".2f",
            "step": 0.1,
            "style": "IPY_MODEL_b64fd1a15dc541fb938c8d419ee44b0c",
            "value": 0.5
          }
        },
        "a7d6ccfa237a4bcba90ffd0cb5960cf6": {
          "model_module": "@jupyter-widgets/base",
          "model_module_version": "1.2.0",
          "model_name": "LayoutModel",
          "state": {
            "_model_module": "@jupyter-widgets/base",
            "_model_module_version": "1.2.0",
            "_model_name": "LayoutModel",
            "_view_count": null,
            "_view_module": "@jupyter-widgets/base",
            "_view_module_version": "1.2.0",
            "_view_name": "LayoutView",
            "align_content": null,
            "align_items": null,
            "align_self": null,
            "border": null,
            "bottom": null,
            "display": null,
            "flex": null,
            "flex_flow": null,
            "grid_area": null,
            "grid_auto_columns": null,
            "grid_auto_flow": null,
            "grid_auto_rows": null,
            "grid_column": null,
            "grid_gap": null,
            "grid_row": null,
            "grid_template_areas": null,
            "grid_template_columns": null,
            "grid_template_rows": null,
            "height": null,
            "justify_content": null,
            "justify_items": null,
            "left": null,
            "margin": null,
            "max_height": null,
            "max_width": null,
            "min_height": null,
            "min_width": null,
            "object_fit": null,
            "object_position": null,
            "order": null,
            "overflow": null,
            "overflow_x": null,
            "overflow_y": null,
            "padding": null,
            "right": null,
            "top": null,
            "visibility": null,
            "width": null
          }
        },
        "abd95f8de4554a71b81e0c9afc90fdac": {
          "model_module": "@jupyter-widgets/controls",
          "model_module_version": "1.5.0",
          "model_name": "SliderStyleModel",
          "state": {
            "_model_module": "@jupyter-widgets/controls",
            "_model_module_version": "1.5.0",
            "_model_name": "SliderStyleModel",
            "_view_count": null,
            "_view_module": "@jupyter-widgets/base",
            "_view_module_version": "1.2.0",
            "_view_name": "StyleView",
            "description_width": "",
            "handle_color": null
          }
        },
        "ad6d71216b7445ac98b1864d00ced37d": {
          "model_module": "@jupyter-widgets/controls",
          "model_module_version": "1.5.0",
          "model_name": "SliderStyleModel",
          "state": {
            "_model_module": "@jupyter-widgets/controls",
            "_model_module_version": "1.5.0",
            "_model_name": "SliderStyleModel",
            "_view_count": null,
            "_view_module": "@jupyter-widgets/base",
            "_view_module_version": "1.2.0",
            "_view_name": "StyleView",
            "description_width": "",
            "handle_color": null
          }
        },
        "b0b03f14175947f49d3f83414b10801d": {
          "model_module": "@jupyter-widgets/controls",
          "model_module_version": "1.5.0",
          "model_name": "SliderStyleModel",
          "state": {
            "_model_module": "@jupyter-widgets/controls",
            "_model_module_version": "1.5.0",
            "_model_name": "SliderStyleModel",
            "_view_count": null,
            "_view_module": "@jupyter-widgets/base",
            "_view_module_version": "1.2.0",
            "_view_name": "StyleView",
            "description_width": "",
            "handle_color": null
          }
        },
        "b2654e5916c14ed1aff622fa8253dc1b": {
          "model_module": "@jupyter-widgets/controls",
          "model_module_version": "1.5.0",
          "model_name": "IntSliderModel",
          "state": {
            "_dom_classes": [],
            "_model_module": "@jupyter-widgets/controls",
            "_model_module_version": "1.5.0",
            "_model_name": "IntSliderModel",
            "_view_count": null,
            "_view_module": "@jupyter-widgets/controls",
            "_view_module_version": "1.5.0",
            "_view_name": "IntSliderView",
            "continuous_update": true,
            "description": "p1",
            "description_tooltip": null,
            "disabled": false,
            "layout": "IPY_MODEL_bca9abb1f0f64643bd60c18dac4e6641",
            "max": 10,
            "min": 1,
            "orientation": "horizontal",
            "readout": true,
            "readout_format": "d",
            "step": 1,
            "style": "IPY_MODEL_abd95f8de4554a71b81e0c9afc90fdac",
            "value": 5
          }
        },
        "b64fd1a15dc541fb938c8d419ee44b0c": {
          "model_module": "@jupyter-widgets/controls",
          "model_module_version": "1.5.0",
          "model_name": "SliderStyleModel",
          "state": {
            "_model_module": "@jupyter-widgets/controls",
            "_model_module_version": "1.5.0",
            "_model_name": "SliderStyleModel",
            "_view_count": null,
            "_view_module": "@jupyter-widgets/base",
            "_view_module_version": "1.2.0",
            "_view_name": "StyleView",
            "description_width": "",
            "handle_color": null
          }
        },
        "bca9abb1f0f64643bd60c18dac4e6641": {
          "model_module": "@jupyter-widgets/base",
          "model_module_version": "1.2.0",
          "model_name": "LayoutModel",
          "state": {
            "_model_module": "@jupyter-widgets/base",
            "_model_module_version": "1.2.0",
            "_model_name": "LayoutModel",
            "_view_count": null,
            "_view_module": "@jupyter-widgets/base",
            "_view_module_version": "1.2.0",
            "_view_name": "LayoutView",
            "align_content": null,
            "align_items": null,
            "align_self": null,
            "border": null,
            "bottom": null,
            "display": null,
            "flex": null,
            "flex_flow": null,
            "grid_area": null,
            "grid_auto_columns": null,
            "grid_auto_flow": null,
            "grid_auto_rows": null,
            "grid_column": null,
            "grid_gap": null,
            "grid_row": null,
            "grid_template_areas": null,
            "grid_template_columns": null,
            "grid_template_rows": null,
            "height": null,
            "justify_content": null,
            "justify_items": null,
            "left": null,
            "margin": null,
            "max_height": null,
            "max_width": null,
            "min_height": null,
            "min_width": null,
            "object_fit": null,
            "object_position": null,
            "order": null,
            "overflow": null,
            "overflow_x": null,
            "overflow_y": null,
            "padding": null,
            "right": null,
            "top": null,
            "visibility": null,
            "width": null
          }
        },
        "be761665ab844a0eba370d1d164252db": {
          "model_module": "@jupyter-widgets/base",
          "model_module_version": "1.2.0",
          "model_name": "LayoutModel",
          "state": {
            "_model_module": "@jupyter-widgets/base",
            "_model_module_version": "1.2.0",
            "_model_name": "LayoutModel",
            "_view_count": null,
            "_view_module": "@jupyter-widgets/base",
            "_view_module_version": "1.2.0",
            "_view_name": "LayoutView",
            "align_content": null,
            "align_items": null,
            "align_self": null,
            "border": null,
            "bottom": null,
            "display": null,
            "flex": null,
            "flex_flow": null,
            "grid_area": null,
            "grid_auto_columns": null,
            "grid_auto_flow": null,
            "grid_auto_rows": null,
            "grid_column": null,
            "grid_gap": null,
            "grid_row": null,
            "grid_template_areas": null,
            "grid_template_columns": null,
            "grid_template_rows": null,
            "height": null,
            "justify_content": null,
            "justify_items": null,
            "left": null,
            "margin": null,
            "max_height": null,
            "max_width": null,
            "min_height": null,
            "min_width": null,
            "object_fit": null,
            "object_position": null,
            "order": null,
            "overflow": null,
            "overflow_x": null,
            "overflow_y": null,
            "padding": null,
            "right": null,
            "top": null,
            "visibility": null,
            "width": null
          }
        },
        "bffffd41990e4f2584cce9ed38eb3e15": {
          "model_module": "@jupyter-widgets/controls",
          "model_module_version": "1.5.0",
          "model_name": "SliderStyleModel",
          "state": {
            "_model_module": "@jupyter-widgets/controls",
            "_model_module_version": "1.5.0",
            "_model_name": "SliderStyleModel",
            "_view_count": null,
            "_view_module": "@jupyter-widgets/base",
            "_view_module_version": "1.2.0",
            "_view_name": "StyleView",
            "description_width": "",
            "handle_color": null
          }
        },
        "c2fe8edd884844f0b482c94e7b055876": {
          "model_module": "@jupyter-widgets/base",
          "model_module_version": "1.2.0",
          "model_name": "LayoutModel",
          "state": {
            "_model_module": "@jupyter-widgets/base",
            "_model_module_version": "1.2.0",
            "_model_name": "LayoutModel",
            "_view_count": null,
            "_view_module": "@jupyter-widgets/base",
            "_view_module_version": "1.2.0",
            "_view_name": "LayoutView",
            "align_content": null,
            "align_items": null,
            "align_self": null,
            "border": null,
            "bottom": null,
            "display": null,
            "flex": null,
            "flex_flow": null,
            "grid_area": null,
            "grid_auto_columns": null,
            "grid_auto_flow": null,
            "grid_auto_rows": null,
            "grid_column": null,
            "grid_gap": null,
            "grid_row": null,
            "grid_template_areas": null,
            "grid_template_columns": null,
            "grid_template_rows": null,
            "height": null,
            "justify_content": null,
            "justify_items": null,
            "left": null,
            "margin": null,
            "max_height": null,
            "max_width": null,
            "min_height": null,
            "min_width": null,
            "object_fit": null,
            "object_position": null,
            "order": null,
            "overflow": null,
            "overflow_x": null,
            "overflow_y": null,
            "padding": null,
            "right": null,
            "top": null,
            "visibility": null,
            "width": null
          }
        },
        "c796f24d194e45ef9c5707bf5cb86ea0": {
          "model_module": "@jupyter-widgets/base",
          "model_module_version": "1.2.0",
          "model_name": "LayoutModel",
          "state": {
            "_model_module": "@jupyter-widgets/base",
            "_model_module_version": "1.2.0",
            "_model_name": "LayoutModel",
            "_view_count": null,
            "_view_module": "@jupyter-widgets/base",
            "_view_module_version": "1.2.0",
            "_view_name": "LayoutView",
            "align_content": null,
            "align_items": null,
            "align_self": null,
            "border": null,
            "bottom": null,
            "display": null,
            "flex": null,
            "flex_flow": null,
            "grid_area": null,
            "grid_auto_columns": null,
            "grid_auto_flow": null,
            "grid_auto_rows": null,
            "grid_column": null,
            "grid_gap": null,
            "grid_row": null,
            "grid_template_areas": null,
            "grid_template_columns": null,
            "grid_template_rows": null,
            "height": null,
            "justify_content": null,
            "justify_items": null,
            "left": null,
            "margin": null,
            "max_height": null,
            "max_width": null,
            "min_height": null,
            "min_width": null,
            "object_fit": null,
            "object_position": null,
            "order": null,
            "overflow": null,
            "overflow_x": null,
            "overflow_y": null,
            "padding": null,
            "right": null,
            "top": null,
            "visibility": null,
            "width": null
          }
        },
        "d364d4a8bf1f403ca899c457a2d082e9": {
          "model_module": "@jupyter-widgets/controls",
          "model_module_version": "1.5.0",
          "model_name": "SliderStyleModel",
          "state": {
            "_model_module": "@jupyter-widgets/controls",
            "_model_module_version": "1.5.0",
            "_model_name": "SliderStyleModel",
            "_view_count": null,
            "_view_module": "@jupyter-widgets/base",
            "_view_module_version": "1.2.0",
            "_view_name": "StyleView",
            "description_width": "",
            "handle_color": null
          }
        },
        "d4e5c593748048fc98cff16743eec848": {
          "model_module": "@jupyter-widgets/base",
          "model_module_version": "1.2.0",
          "model_name": "LayoutModel",
          "state": {
            "_model_module": "@jupyter-widgets/base",
            "_model_module_version": "1.2.0",
            "_model_name": "LayoutModel",
            "_view_count": null,
            "_view_module": "@jupyter-widgets/base",
            "_view_module_version": "1.2.0",
            "_view_name": "LayoutView",
            "align_content": null,
            "align_items": null,
            "align_self": null,
            "border": null,
            "bottom": null,
            "display": null,
            "flex": null,
            "flex_flow": null,
            "grid_area": null,
            "grid_auto_columns": null,
            "grid_auto_flow": null,
            "grid_auto_rows": null,
            "grid_column": null,
            "grid_gap": null,
            "grid_row": null,
            "grid_template_areas": null,
            "grid_template_columns": null,
            "grid_template_rows": null,
            "height": null,
            "justify_content": null,
            "justify_items": null,
            "left": null,
            "margin": null,
            "max_height": null,
            "max_width": null,
            "min_height": null,
            "min_width": null,
            "object_fit": null,
            "object_position": null,
            "order": null,
            "overflow": null,
            "overflow_x": null,
            "overflow_y": null,
            "padding": null,
            "right": null,
            "top": null,
            "visibility": null,
            "width": null
          }
        },
        "dbabb111657249c18dd10746e5b011c8": {
          "model_module": "@jupyter-widgets/controls",
          "model_module_version": "1.5.0",
          "model_name": "SliderStyleModel",
          "state": {
            "_model_module": "@jupyter-widgets/controls",
            "_model_module_version": "1.5.0",
            "_model_name": "SliderStyleModel",
            "_view_count": null,
            "_view_module": "@jupyter-widgets/base",
            "_view_module_version": "1.2.0",
            "_view_name": "StyleView",
            "description_width": "",
            "handle_color": null
          }
        },
        "dc144bd8884744139db3ce05b7173d34": {
          "model_module": "@jupyter-widgets/base",
          "model_module_version": "1.2.0",
          "model_name": "LayoutModel",
          "state": {
            "_model_module": "@jupyter-widgets/base",
            "_model_module_version": "1.2.0",
            "_model_name": "LayoutModel",
            "_view_count": null,
            "_view_module": "@jupyter-widgets/base",
            "_view_module_version": "1.2.0",
            "_view_name": "LayoutView",
            "align_content": null,
            "align_items": null,
            "align_self": null,
            "border": null,
            "bottom": null,
            "display": null,
            "flex": null,
            "flex_flow": null,
            "grid_area": null,
            "grid_auto_columns": null,
            "grid_auto_flow": null,
            "grid_auto_rows": null,
            "grid_column": null,
            "grid_gap": null,
            "grid_row": null,
            "grid_template_areas": null,
            "grid_template_columns": null,
            "grid_template_rows": null,
            "height": null,
            "justify_content": null,
            "justify_items": null,
            "left": null,
            "margin": null,
            "max_height": null,
            "max_width": null,
            "min_height": null,
            "min_width": null,
            "object_fit": null,
            "object_position": null,
            "order": null,
            "overflow": null,
            "overflow_x": null,
            "overflow_y": null,
            "padding": null,
            "right": null,
            "top": null,
            "visibility": null,
            "width": null
          }
        },
        "ddff144ed85046718ff2daa42e6fa82a": {
          "model_module": "@jupyter-widgets/controls",
          "model_module_version": "1.5.0",
          "model_name": "SliderStyleModel",
          "state": {
            "_model_module": "@jupyter-widgets/controls",
            "_model_module_version": "1.5.0",
            "_model_name": "SliderStyleModel",
            "_view_count": null,
            "_view_module": "@jupyter-widgets/base",
            "_view_module_version": "1.2.0",
            "_view_name": "StyleView",
            "description_width": "",
            "handle_color": null
          }
        },
        "e14e8379980d40aca59e473a50a200f3": {
          "model_module": "@jupyter-widgets/base",
          "model_module_version": "1.2.0",
          "model_name": "LayoutModel",
          "state": {
            "_model_module": "@jupyter-widgets/base",
            "_model_module_version": "1.2.0",
            "_model_name": "LayoutModel",
            "_view_count": null,
            "_view_module": "@jupyter-widgets/base",
            "_view_module_version": "1.2.0",
            "_view_name": "LayoutView",
            "align_content": null,
            "align_items": null,
            "align_self": null,
            "border": null,
            "bottom": null,
            "display": null,
            "flex": null,
            "flex_flow": null,
            "grid_area": null,
            "grid_auto_columns": null,
            "grid_auto_flow": null,
            "grid_auto_rows": null,
            "grid_column": null,
            "grid_gap": null,
            "grid_row": null,
            "grid_template_areas": null,
            "grid_template_columns": null,
            "grid_template_rows": null,
            "height": null,
            "justify_content": null,
            "justify_items": null,
            "left": null,
            "margin": null,
            "max_height": null,
            "max_width": null,
            "min_height": null,
            "min_width": null,
            "object_fit": null,
            "object_position": null,
            "order": null,
            "overflow": null,
            "overflow_x": null,
            "overflow_y": null,
            "padding": null,
            "right": null,
            "top": null,
            "visibility": null,
            "width": null
          }
        },
        "e1b01905791e4f17bd94a46a00d99ae6": {
          "model_module": "@jupyter-widgets/base",
          "model_module_version": "1.2.0",
          "model_name": "LayoutModel",
          "state": {
            "_model_module": "@jupyter-widgets/base",
            "_model_module_version": "1.2.0",
            "_model_name": "LayoutModel",
            "_view_count": null,
            "_view_module": "@jupyter-widgets/base",
            "_view_module_version": "1.2.0",
            "_view_name": "LayoutView",
            "align_content": null,
            "align_items": null,
            "align_self": null,
            "border": null,
            "bottom": null,
            "display": null,
            "flex": null,
            "flex_flow": null,
            "grid_area": null,
            "grid_auto_columns": null,
            "grid_auto_flow": null,
            "grid_auto_rows": null,
            "grid_column": null,
            "grid_gap": null,
            "grid_row": null,
            "grid_template_areas": null,
            "grid_template_columns": null,
            "grid_template_rows": null,
            "height": null,
            "justify_content": null,
            "justify_items": null,
            "left": null,
            "margin": null,
            "max_height": null,
            "max_width": null,
            "min_height": null,
            "min_width": null,
            "object_fit": null,
            "object_position": null,
            "order": null,
            "overflow": null,
            "overflow_x": null,
            "overflow_y": null,
            "padding": null,
            "right": null,
            "top": null,
            "visibility": null,
            "width": null
          }
        },
        "e568ceefe63843aeb71c3a4d63ecfa7f": {
          "model_module": "@jupyter-widgets/controls",
          "model_module_version": "1.5.0",
          "model_name": "IntSliderModel",
          "state": {
            "_dom_classes": [],
            "_model_module": "@jupyter-widgets/controls",
            "_model_module_version": "1.5.0",
            "_model_name": "IntSliderModel",
            "_view_count": null,
            "_view_module": "@jupyter-widgets/controls",
            "_view_module_version": "1.5.0",
            "_view_name": "IntSliderView",
            "continuous_update": true,
            "description": "a",
            "description_tooltip": null,
            "disabled": false,
            "layout": "IPY_MODEL_be761665ab844a0eba370d1d164252db",
            "max": 10,
            "min": 1,
            "orientation": "horizontal",
            "readout": true,
            "readout_format": "d",
            "step": 1,
            "style": "IPY_MODEL_5d1a4a41a64f40d8965688d9ad21347e",
            "value": 5
          }
        },
        "e59cd287bf1a44f99a9b632d309b003d": {
          "model_module": "@jupyter-widgets/base",
          "model_module_version": "1.2.0",
          "model_name": "LayoutModel",
          "state": {
            "_model_module": "@jupyter-widgets/base",
            "_model_module_version": "1.2.0",
            "_model_name": "LayoutModel",
            "_view_count": null,
            "_view_module": "@jupyter-widgets/base",
            "_view_module_version": "1.2.0",
            "_view_name": "LayoutView",
            "align_content": null,
            "align_items": null,
            "align_self": null,
            "border": null,
            "bottom": null,
            "display": null,
            "flex": null,
            "flex_flow": null,
            "grid_area": null,
            "grid_auto_columns": null,
            "grid_auto_flow": null,
            "grid_auto_rows": null,
            "grid_column": null,
            "grid_gap": null,
            "grid_row": null,
            "grid_template_areas": null,
            "grid_template_columns": null,
            "grid_template_rows": null,
            "height": null,
            "justify_content": null,
            "justify_items": null,
            "left": null,
            "margin": null,
            "max_height": null,
            "max_width": null,
            "min_height": null,
            "min_width": null,
            "object_fit": null,
            "object_position": null,
            "order": null,
            "overflow": null,
            "overflow_x": null,
            "overflow_y": null,
            "padding": null,
            "right": null,
            "top": null,
            "visibility": null,
            "width": null
          }
        },
        "ea3eb4759e624f7887fb2ad5164454bf": {
          "model_module": "@jupyter-widgets/base",
          "model_module_version": "1.2.0",
          "model_name": "LayoutModel",
          "state": {
            "_model_module": "@jupyter-widgets/base",
            "_model_module_version": "1.2.0",
            "_model_name": "LayoutModel",
            "_view_count": null,
            "_view_module": "@jupyter-widgets/base",
            "_view_module_version": "1.2.0",
            "_view_name": "LayoutView",
            "align_content": null,
            "align_items": null,
            "align_self": null,
            "border": null,
            "bottom": null,
            "display": null,
            "flex": null,
            "flex_flow": null,
            "grid_area": null,
            "grid_auto_columns": null,
            "grid_auto_flow": null,
            "grid_auto_rows": null,
            "grid_column": null,
            "grid_gap": null,
            "grid_row": null,
            "grid_template_areas": null,
            "grid_template_columns": null,
            "grid_template_rows": null,
            "height": null,
            "justify_content": null,
            "justify_items": null,
            "left": null,
            "margin": null,
            "max_height": null,
            "max_width": null,
            "min_height": null,
            "min_width": null,
            "object_fit": null,
            "object_position": null,
            "order": null,
            "overflow": null,
            "overflow_x": null,
            "overflow_y": null,
            "padding": null,
            "right": null,
            "top": null,
            "visibility": null,
            "width": null
          }
        },
        "eeb8a8f20d564ae0983dd83b40537184": {
          "model_module": "@jupyter-widgets/controls",
          "model_module_version": "1.5.0",
          "model_name": "IntSliderModel",
          "state": {
            "_dom_classes": [],
            "_model_module": "@jupyter-widgets/controls",
            "_model_module_version": "1.5.0",
            "_model_name": "IntSliderModel",
            "_view_count": null,
            "_view_module": "@jupyter-widgets/controls",
            "_view_module_version": "1.5.0",
            "_view_name": "IntSliderView",
            "continuous_update": true,
            "description": "b",
            "description_tooltip": null,
            "disabled": false,
            "layout": "IPY_MODEL_61159856cfff4d9095288802efc9574a",
            "max": 10,
            "min": 1,
            "orientation": "horizontal",
            "readout": true,
            "readout_format": "d",
            "step": 1,
            "style": "IPY_MODEL_352c8910515f4f93b4915e10a263dd15",
            "value": 5
          }
        },
        "f12d6b9037d54ac799501e523a7c6f4a": {
          "model_module": "@jupyter-widgets/controls",
          "model_module_version": "1.5.0",
          "model_name": "IntSliderModel",
          "state": {
            "_dom_classes": [],
            "_model_module": "@jupyter-widgets/controls",
            "_model_module_version": "1.5.0",
            "_model_name": "IntSliderModel",
            "_view_count": null,
            "_view_module": "@jupyter-widgets/controls",
            "_view_module_version": "1.5.0",
            "_view_name": "IntSliderView",
            "continuous_update": true,
            "description": "x",
            "description_tooltip": null,
            "disabled": false,
            "layout": "IPY_MODEL_5541ef2ae8bf4b44a6c108b7c3b93b48",
            "max": 10,
            "min": 0,
            "orientation": "horizontal",
            "readout": true,
            "readout_format": "d",
            "step": 1,
            "style": "IPY_MODEL_bffffd41990e4f2584cce9ed38eb3e15",
            "value": 5
          }
        },
        "f2c06c22aa1f428b9ca317deb7ae7c22": {
          "model_module": "@jupyter-widgets/controls",
          "model_module_version": "1.5.0",
          "model_name": "IntSliderModel",
          "state": {
            "_dom_classes": [],
            "_model_module": "@jupyter-widgets/controls",
            "_model_module_version": "1.5.0",
            "_model_name": "IntSliderModel",
            "_view_count": null,
            "_view_module": "@jupyter-widgets/controls",
            "_view_module_version": "1.5.0",
            "_view_name": "IntSliderView",
            "continuous_update": true,
            "description": "p1",
            "description_tooltip": null,
            "disabled": false,
            "layout": "IPY_MODEL_04ddda1f7cc54f30a047430001352640",
            "max": 10,
            "min": 1,
            "orientation": "horizontal",
            "readout": true,
            "readout_format": "d",
            "step": 1,
            "style": "IPY_MODEL_fc1bd4f55f9a46a19031861017172884",
            "value": 5
          }
        },
        "f435c01eafbc49fab79f712d0dfb79a9": {
          "model_module": "@jupyter-widgets/base",
          "model_module_version": "1.2.0",
          "model_name": "LayoutModel",
          "state": {
            "_model_module": "@jupyter-widgets/base",
            "_model_module_version": "1.2.0",
            "_model_name": "LayoutModel",
            "_view_count": null,
            "_view_module": "@jupyter-widgets/base",
            "_view_module_version": "1.2.0",
            "_view_name": "LayoutView",
            "align_content": null,
            "align_items": null,
            "align_self": null,
            "border": null,
            "bottom": null,
            "display": null,
            "flex": null,
            "flex_flow": null,
            "grid_area": null,
            "grid_auto_columns": null,
            "grid_auto_flow": null,
            "grid_auto_rows": null,
            "grid_column": null,
            "grid_gap": null,
            "grid_row": null,
            "grid_template_areas": null,
            "grid_template_columns": null,
            "grid_template_rows": null,
            "height": null,
            "justify_content": null,
            "justify_items": null,
            "left": null,
            "margin": null,
            "max_height": null,
            "max_width": null,
            "min_height": null,
            "min_width": null,
            "object_fit": null,
            "object_position": null,
            "order": null,
            "overflow": null,
            "overflow_x": null,
            "overflow_y": null,
            "padding": null,
            "right": null,
            "top": null,
            "visibility": null,
            "width": null
          }
        },
        "f9b7b6bd74a7413d927eb709711449de": {
          "model_module": "@jupyter-widgets/controls",
          "model_module_version": "1.5.0",
          "model_name": "SliderStyleModel",
          "state": {
            "_model_module": "@jupyter-widgets/controls",
            "_model_module_version": "1.5.0",
            "_model_name": "SliderStyleModel",
            "_view_count": null,
            "_view_module": "@jupyter-widgets/base",
            "_view_module_version": "1.2.0",
            "_view_name": "StyleView",
            "description_width": "",
            "handle_color": null
          }
        },
        "fbc011f97aae462c88a024d332019c74": {
          "model_module": "@jupyter-widgets/controls",
          "model_module_version": "1.5.0",
          "model_name": "SliderStyleModel",
          "state": {
            "_model_module": "@jupyter-widgets/controls",
            "_model_module_version": "1.5.0",
            "_model_name": "SliderStyleModel",
            "_view_count": null,
            "_view_module": "@jupyter-widgets/base",
            "_view_module_version": "1.2.0",
            "_view_name": "StyleView",
            "description_width": "",
            "handle_color": null
          }
        },
        "fc1bd4f55f9a46a19031861017172884": {
          "model_module": "@jupyter-widgets/controls",
          "model_module_version": "1.5.0",
          "model_name": "SliderStyleModel",
          "state": {
            "_model_module": "@jupyter-widgets/controls",
            "_model_module_version": "1.5.0",
            "_model_name": "SliderStyleModel",
            "_view_count": null,
            "_view_module": "@jupyter-widgets/base",
            "_view_module_version": "1.2.0",
            "_view_name": "StyleView",
            "description_width": "",
            "handle_color": null
          }
        }
      }
    }
  },
  "nbformat": 4,
  "nbformat_minor": 0
}
